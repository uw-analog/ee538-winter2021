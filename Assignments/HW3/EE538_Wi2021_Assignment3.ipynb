{
 "cells": [
  {
   "cell_type": "markdown",
   "metadata": {},
   "source": [
    "<center><b>EE 538 Winter 2021<br />\n",
    "Analog Integrated Circuit Design<br />\n",
    "    University of Washington Electrical & Computer Engineering</b></center>"
   ]
  },
  {
   "cell_type": "markdown",
   "metadata": {},
   "source": [
    "__Instructor: Jason Silver__   \n",
    "__Assignment #3 (10 points)__  \n",
    "__Due Sunday, January 31 (Submit on Canvas as a PDF)__  "
   ]
  },
  {
   "cell_type": "markdown",
   "metadata": {},
   "source": [
    "<i>Please show your work</i>"
   ]
  },
  {
   "cell_type": "markdown",
   "metadata": {},
   "source": [
    "__Problem 1: Cascode amplifier small-signal analysis__"
   ]
  },
  {
   "cell_type": "markdown",
   "metadata": {},
   "source": [
    "<center><img src=\"cascode_amplifier.png\" width=300 /></center>\n",
    "<br/>\n",
    "<center><b> Figure 1. Cascode amplifier</center>"
   ]
  },
  {
   "cell_type": "markdown",
   "metadata": {},
   "source": [
    "For the following, be sure to consider the body effect where applicable."
   ]
  },
  {
   "cell_type": "markdown",
   "metadata": {},
   "source": [
    "__a)__ Derive the small-signal output resistance $R_o$ of the cascode amplifier in terms of small signal parameters $g_m$, $g_{mb}$, and $r_o$ of $M_1-M_4$. How does this compare with the MOS output resistance $r_o$?"
   ]
  },
  {
   "cell_type": "markdown",
   "metadata": {},
   "source": [
    "__b)__\tDerive the small-signal transconductance $G_m$ of the cascode amplifier in terms of small-signal parameters $g_m$, $g_{mb}$, and $r_o$ of $M_1-M_4$. How does this compare with the transconductance of $M_1$, $g_{m1}$? "
   ]
  },
  {
   "cell_type": "markdown",
   "metadata": {},
   "source": [
    "__Problem 2: Cascode amplifier design__"
   ]
  },
  {
   "cell_type": "markdown",
   "metadata": {
    "cell_style": "center"
   },
   "source": [
    "<center><img src=\"cascode_schematic.png\" width=1000 /></center>\n",
    "<br/>\n",
    "<center><b> Figure 2. Cascode amplifier schematic</center>"
   ]
  },
  {
   "cell_type": "markdown",
   "metadata": {},
   "source": [
    "For the following, use the Level 1 SPICE model in Razavi Chapter 2. \n",
    "\n",
    "In the above schematic, E1 is used to stabilize the DC value of the output voltage at 1.5V using negative feedback. Note that this results in a gain of 1 between the source V2 and $V_{out}$, which is the \"closed-loop\" gain. For our design, we are interested in the \"open-loop\" gain, that between nodes $V_{in}$ and $V_{out}$.\n",
    "\n",
    "You are to design a cascode amplifier with an NMOS gain device ($M_1$). Use $L = 1 \\mu m$ for all devices and increments of $100nm$ for $W$. "
   ]
  },
  {
   "cell_type": "markdown",
   "metadata": {},
   "source": [
    "__a)__ Size $M_5$, $M_6$, $M_7$, and $M_8$ for overdrive voltages of approximately $200mV$. Note that the threshold voltages of $M_5$ and $M_8$ will be affected by the body effect. Use the full long-channel expression for drain current (including $\\lambda$) to size your devices."
   ]
  },
  {
   "cell_type": "markdown",
   "metadata": {},
   "source": [
    "__b)__ Size $M_2$, $M_3$, and $M_4$ for drain currents of $100\\mu A$ (widths should be integer multiples of those of $M_8$, $M_5$, and $M_6$).   "
   ]
  },
  {
   "cell_type": "markdown",
   "metadata": {},
   "source": [
    "__c)__ Size $M1$ for a transconductance of $2m\\Omega^{-1}$. What is the corresponding overdrive voltage $V_{OV1}$?"
   ]
  },
  {
   "cell_type": "markdown",
   "metadata": {},
   "source": [
    "__d)__ Calculate the minimum and maximum values of $V_{out}$ that ensure $M_1$, $M_2$, $M_3$, and $M_4$ remain in saturation."
   ]
  },
  {
   "cell_type": "markdown",
   "metadata": {},
   "source": [
    "__e)__ Verify your design using a DC operating point simulation. Annotate your schematic (Results $\\rightarrow$ Annotate $\\rightarrow$ DC operating point, DC node voltages) to display all relevant node voltages and branch currents. Determine the small-signal transconductance $g_m$, bulk transconductance $g_{mb}$, and output resistance $r_o$ for $M_1 - M_4$ (to do this, you can use Results $\\rightarrow$ Print $\\rightarrow$ DC operating point, and select the device of interest in the schematic). Recall that $r_{o} = 1/g_{ds}$."
   ]
  },
  {
   "cell_type": "markdown",
   "metadata": {},
   "source": [
    "__f)__ Use AC analysis to compute the small signal gain $v_{out}/v_{in}$. Use the expressions for $G_m$ and $R_o$ derived in Problem 1 and the small signal parameters computed in Part e to compare your simulation results with the small signal model. "
   ]
  }
 ],
 "metadata": {
  "kernelspec": {
   "display_name": "Python 3",
   "language": "python",
   "name": "python3"
  },
  "language_info": {
   "codemirror_mode": {
    "name": "ipython",
    "version": 3
   },
   "file_extension": ".py",
   "mimetype": "text/x-python",
   "name": "python",
   "nbconvert_exporter": "python",
   "pygments_lexer": "ipython3",
   "version": "3.8.2"
  }
 },
 "nbformat": 4,
 "nbformat_minor": 4
}
