{
 "cells": [
  {
   "cell_type": "markdown",
   "metadata": {},
   "source": [
    "__Instructor: Jason Silver__   \n",
    "__Assignment #4 (10 points)__  \n",
    "__Due Sunday, February 7 (Submit on Canvas as a PDF)__  "
   ]
  },
  {
   "cell_type": "markdown",
   "metadata": {},
   "source": [
    "<i>Please show your work</i>"
   ]
  },
  {
   "cell_type": "markdown",
   "metadata": {},
   "source": [
    "__Problem 1: Source follower analysis and design__"
   ]
  },
  {
   "cell_type": "markdown",
   "metadata": {},
   "source": [
    "<center><img src=\"source_follower.png\" width=300></center></center>\n",
    "<br/>\n",
    "<center><b> Figure 1. NMOS source follower with cascode current source</center>"
   ]
  },
  {
   "cell_type": "markdown",
   "metadata": {},
   "source": [
    "You are to design an NMOS source follower biased with a cascode current source. Use the Level 1 SPICE model in Razavi Chapter 2 for design and verification (simulation). "
   ]
  },
  {
   "cell_type": "markdown",
   "metadata": {},
   "source": [
    "__DC operating point__"
   ]
  },
  {
   "cell_type": "markdown",
   "metadata": {},
   "source": [
    "__a)__ Assuming $\\lambda = 0$ for all transistors, calculate the bias current $I_{D1}$ and aspect ratio $(W/L)_1$ of $M_1$ needed for a source-follower output impedance $R_o = 100 \\Omega$. Assume a $DC$ gate voltage of $2.5V$ and source voltage of $1.5V$ for $M_1$ (i.e. $V_{GS1} = 1V$)."
   ]
  },
  {
   "cell_type": "markdown",
   "metadata": {},
   "source": [
    "__b)__\tDesign a cascode current mirror to generate $V_{BN1}$ and $V_{BN}$ for a minimum output voltage ($V_o$) of $400mV$. You should use a \"low-voltage\" biasing structure, as discussed in lecture (more discussion on cascode biasing can be found in Razavi 5.2). Use $I_{BIAS} = 10 \\mu A$ for any bias branches. Determine $(W/L)$ for all transistors ($M_2$, $M_3$, and any bias transistors), as well as the values of any resistors used."
   ]
  },
  {
   "cell_type": "markdown",
   "metadata": {},
   "source": [
    "__c)__ Determine the minimum and maximum values of the *input* voltage ($V_i$) that ensure all transistors remain in saturation."
   ]
  },
  {
   "cell_type": "markdown",
   "metadata": {},
   "source": [
    "__Small-signal performance__"
   ]
  },
  {
   "cell_type": "markdown",
   "metadata": {},
   "source": [
    "__d)__ Draw the small-signal model for the circuit and calculate the small-signal voltage gain and output impedance of the source follower (for this step, $\\lambda \\neq 0$)."
   ]
  },
  {
   "cell_type": "markdown",
   "metadata": {},
   "source": [
    "__Cadence Verification__"
   ]
  },
  {
   "cell_type": "markdown",
   "metadata": {},
   "source": [
    "__e)__ Simulate the DC operating point of your circuit to verify your answers in __a)__ and __b)__. In your submission, include your Cadence schematic with all node voltages and transistor operating points annotated,and report simulated values of $g_m$, $r_o$, and $g_{mbs}$ (bulk transconductance) for $M_1$, $M_2$, and $M_3$. "
   ]
  },
  {
   "cell_type": "markdown",
   "metadata": {},
   "source": [
    "__f)__ Perform a parametric sweep of the $DC$ value of $V_i$ with an $AC$ analysis at $1Hz$ to verify your answers in __c)__ and __d)__. Plot the AC voltage gain $v_o/v_i$ against the $DC$ value of $V_i$ as it is swept from $0$ to $3V$ (you will need to select *Axis* $\\rightarrow$ *Swap Sweep Variable* to plot against the $DC$ voltage instead of $AC$ frequency). "
   ]
  }
 ],
 "metadata": {
  "kernelspec": {
   "display_name": "Python 3",
   "language": "python",
   "name": "python3"
  },
  "language_info": {
   "codemirror_mode": {
    "name": "ipython",
    "version": 3
   },
   "file_extension": ".py",
   "mimetype": "text/x-python",
   "name": "python",
   "nbconvert_exporter": "python",
   "pygments_lexer": "ipython3",
   "version": "3.8.2"
  }
 },
 "nbformat": 4,
 "nbformat_minor": 4
}
