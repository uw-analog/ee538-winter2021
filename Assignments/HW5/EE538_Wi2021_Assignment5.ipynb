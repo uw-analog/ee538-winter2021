{
 "cells": [
  {
   "cell_type": "markdown",
   "metadata": {},
   "source": [
    "<center><b>EE 538 Winter 2021<br />\n",
    "Analog Integrated Circuit Design<br />\n",
    "    University of Washington Electrical & Computer Engineering</b></center>"
   ]
  },
  {
   "cell_type": "markdown",
   "metadata": {},
   "source": [
    "__Instructor: Jason Silver__   \n",
    "__Assignment #5 (10 points)__  \n",
    "__Due Sunday, February 14 (Submit on Canvas as a PDF)__  "
   ]
  },
  {
   "cell_type": "markdown",
   "metadata": {},
   "source": [
    "<i>Please show your work</i>"
   ]
  },
  {
   "cell_type": "markdown",
   "metadata": {},
   "source": [
    "__Problem 1: OTA design__"
   ]
  },
  {
   "cell_type": "markdown",
   "metadata": {},
   "source": [
    "<center><img src=\"5_pack_OTA.png\" width=600></center></center>\n",
    "<br/>\n",
    "<center><b> Figure 1. 5-transistor OTA with biasing</center>"
   ]
  },
  {
   "cell_type": "markdown",
   "metadata": {},
   "source": [
    "__Table 1. OTA Specifications__"
   ]
  },
  {
   "cell_type": "markdown",
   "metadata": {},
   "source": [
    "| Parameter       | Specification | Unit |\n",
    "|:---------:      |:-------------:|:----:|\n",
    "|DC gain ($A_v0$) | ~40           | $dB$ |\n",
    "| Input transconductance ($g_{m1,2}$) | > 1 | $mS$ |\n",
    "| Minimum input voltage ($V_{ip}$, $V_{im}$) | $1.2$ | $V$ |\n",
    "| Maximum output voltage ($V_{out}$) | $2.8$ | $V$ |\n",
    "| Maximum power dissipation ($I_{total} \\times V_{DD}$) | $350$ | $\\mu W$ |"
   ]
  },
  {
   "cell_type": "markdown",
   "metadata": {},
   "source": [
    "Design the 5-transistor OTA in Figure 1 (i.e. choose transistor widths and bias currents) to meet the specifications given in Table 1. Use increments of $100nm$ for $W$, and use the Level 1 MOS model for hand calculations and simulations.\n",
    "\n",
    "Use $V_{DD} = 3V$ and $L = 1\\mu m$ for all transistors. You are free to choose an appropriate value for $I_{BIAS}$.\n",
    "PMOS and NMOS bulk terminals should be tied to $V_{DD}$ and ground, respectively.\n",
    "\n",
    "Verify your design in Cadence and include the following in your submission."
   ]
  },
  {
   "cell_type": "markdown",
   "metadata": {},
   "source": [
    "__a)__ Your schematic with all transistor $W/L|$ values, bias currents, and DC node voltages clearly indicated"
   ]
  },
  {
   "cell_type": "markdown",
   "metadata": {},
   "source": [
    "__b)__ A table of $I_D$, $W/L$, $V_{OV}$, and $g_m$ for all devices"
   ]
  },
  {
   "cell_type": "markdown",
   "metadata": {},
   "source": [
    "__c)__ AC simulation result demonstrating the low-frequency gain of the amplifier"
   ]
  },
  {
   "cell_type": "markdown",
   "metadata": {},
   "source": [
    "__Problem 2: Telescopic Cascode Amplifier Biasing (analysis only, no Cadence)__"
   ]
  },
  {
   "cell_type": "markdown",
   "metadata": {},
   "source": [
    "<center><img src=\"telescopic_cascode.png\" width=600></center></center>\n",
    "<br/>\n",
    "<center><b> Figure 2. Telescopic cascode amplifier</center>"
   ]
  },
  {
   "cell_type": "markdown",
   "metadata": {},
   "source": [
    "For the following, $V_{DD} = 3V$, $V_{iCM} = 1.5V$, $V_{GS} = V_{SG} = 900mV$, $V_{thn} = |V_{thp}| = 0.7V$ for all devices, unless otherwise stated."
   ]
  },
  {
   "cell_type": "markdown",
   "metadata": {},
   "source": [
    "__a)__\tDetermine the minimum value of $V_{BN2}$ that allows $M_{1,2}$ to remain in saturation."
   ]
  },
  {
   "cell_type": "markdown",
   "metadata": {},
   "source": [
    "__b)__ Determine the maximum value of $V_{BP}$ that allows $M_{7,8}$ to remain in saturation."
   ]
  },
  {
   "cell_type": "markdown",
   "metadata": {},
   "source": [
    "__c)__ Determine the minimum value of $V_{iCM}$ that allows $M_9$ to remain in saturation."
   ]
  },
  {
   "cell_type": "markdown",
   "metadata": {},
   "source": [
    "__d)__ Assuming $V_{BN2}$ and $V_{BNP}$ are designed based on your answers to __a)__ and __b)__, determine the output swing of the amplifier "
   ]
  }
 ],
 "metadata": {
  "kernelspec": {
   "display_name": "Python 3",
   "language": "python",
   "name": "python3"
  },
  "language_info": {
   "codemirror_mode": {
    "name": "ipython",
    "version": 3
   },
   "file_extension": ".py",
   "mimetype": "text/x-python",
   "name": "python",
   "nbconvert_exporter": "python",
   "pygments_lexer": "ipython3",
   "version": "3.8.2"
  }
 },
 "nbformat": 4,
 "nbformat_minor": 4
}
