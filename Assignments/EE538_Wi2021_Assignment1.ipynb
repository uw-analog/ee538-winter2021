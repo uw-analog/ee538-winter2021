{
 "cells": [
  {
   "cell_type": "markdown",
   "metadata": {},
   "source": [
    "<center><b>EE 538 Winter 2021<br />\n",
    "Analog Integrated Circuit Design<br />\n",
    "    University of Washington Electrical & Computer Engineering</b></center>"
   ]
  },
  {
   "cell_type": "markdown",
   "metadata": {},
   "source": [
    "__Instructor: Jason Silver__   \n",
    "__Assignment #1 (40 points)__  \n",
    "__Due Sunday, January 17 (Submit on Canvas as a Jupyter Notebook)__  "
   ]
  },
  {
   "cell_type": "markdown",
   "metadata": {},
   "source": [
    "<i>Please show your work</i>"
   ]
  },
  {
   "cell_type": "markdown",
   "metadata": {},
   "source": [
    "__Problem 1: MOS DC characteristics__"
   ]
  },
  {
   "attachments": {},
   "cell_type": "markdown",
   "metadata": {
    "cell_style": "center"
   },
   "source": [
    "<center><img src=\"NMOS_DC.png\" width=400></center></center>\n",
    "<br>\n",
    "<center><b> Figure 1a. NMOS DC Testbench</center>"
   ]
  },
  {
   "attachments": {},
   "cell_type": "markdown",
   "metadata": {
    "cell_style": "center"
   },
   "source": [
    "<center><img src=\"PMOS_DC.png\" width=400></center>\n",
    "<br>\n",
    "<center><b> Figure 1b. PMOS DC Testbench</center>"
   ]
  },
  {
   "cell_type": "markdown",
   "metadata": {},
   "source": [
    "For the following, use the Level 1 SPICE model in Razavi Chapter 2. Note that you will need to calculate values for both $C_{ox}$ and $L_{eff}$ ($L_{eff} = L - 2\\cdot L_D$). $W/L = 20\\mu/500n$"
   ]
  },
  {
   "cell_type": "markdown",
   "metadata": {},
   "source": [
    "__a)__ For $V_{gs} = V_{ds} = 1V$ ($V_{sg} = V_{sd} = 1V$ for $PMOS$), calculate $I_d$, $g_m$, and $r_o$, and the intrinsic gain, $g_m \\cdot r_o$. Verify with Cadence and show that your calculations and simulation results agree."
   ]
  },
  {
   "cell_type": "markdown",
   "metadata": {},
   "source": [
    "__b)__ For $V_{gs} (V_{sg}) = 3V$ and  $V_{ds} (V_{sd}) = 1V$, calculate $I_d$ and $R_{on}$. Verify with Cadence."
   ]
  },
  {
   "cell_type": "markdown",
   "metadata": {},
   "source": [
    "__c)__ Cadence only: Sweep $V_{gs}$ from $0.7$ to $1.5 V$ ($0.1V$ steps) and $V_{ds}$ from $0$ to $3V$ ($0.01V$ steps). Plot the drain current $I_d$. How does $r_o$ vary with $I_d$? (use the curves to support your answer)"
   ]
  },
  {
   "cell_type": "markdown",
   "metadata": {},
   "source": [
    "__Problem 2: DC small-signal model__"
   ]
  },
  {
   "attachments": {},
   "cell_type": "markdown",
   "metadata": {},
   "source": [
    "<center><img src=\"NMOS_DC_small_signal.png\" width=500></center><br/>\n",
    "<center><b> Figure 2. NMOS AC Testbench</center>"
   ]
  },
  {
   "cell_type": "markdown",
   "metadata": {},
   "source": [
    "For the following, use the Level 1 SPICE models from Razavi. $W/L = 10\\mu/500n$."
   ]
  },
  {
   "cell_type": "markdown",
   "metadata": {},
   "source": [
    "__a)__\tUsing the DC small-signal model, determine the following relationships between $v_g$, $v_s$, and $v_d$ and $i_d$: $i_d/v_g$, $v_s/i_d$, $v_d/i_d$. \n"
   ]
  },
  {
   "cell_type": "markdown",
   "metadata": {},
   "source": [
    "__b)__\tUse a low-frequency (e.g. $0.01 - 1 Hz$) AC analysis in Cadence to validate your calculations from b. For each ratio, use only a single $AC$ source (e.g. to determine $i_d/v_g$, set the $AC$ value of $v_g$ to $1$ and $v_s = v_d = 0$)."
   ]
  }
 ],
 "metadata": {
  "kernelspec": {
   "display_name": "Python 3",
   "language": "python",
   "name": "python3"
  },
  "language_info": {
   "codemirror_mode": {
    "name": "ipython",
    "version": 3
   },
   "file_extension": ".py",
   "mimetype": "text/x-python",
   "name": "python",
   "nbconvert_exporter": "python",
   "pygments_lexer": "ipython3",
   "version": "3.8.2"
  }
 },
 "nbformat": 4,
 "nbformat_minor": 4
}
