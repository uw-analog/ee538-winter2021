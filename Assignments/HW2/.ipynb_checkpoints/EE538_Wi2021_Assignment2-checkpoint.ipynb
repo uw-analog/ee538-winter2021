{
 "cells": [
  {
   "cell_type": "markdown",
   "metadata": {},
   "source": [
    "<center><b>EE 538 Winter 2021<br />\n",
    "Analog Integrated Circuit Design<br />\n",
    "    University of Washington Electrical & Computer Engineering</b></center>"
   ]
  },
  {
   "cell_type": "markdown",
   "metadata": {},
   "source": [
    "__Instructor: Jason Silver__   \n",
    "__Assignment #2 (10 points)__  \n",
    "__Due Sunday, January 24 (Submit on Canvas as a PDF)__  "
   ]
  },
  {
   "cell_type": "markdown",
   "metadata": {},
   "source": [
    "<i>Please show your work</i>"
   ]
  },
  {
   "cell_type": "markdown",
   "metadata": {},
   "source": [
    "__Problem 1: Common-source amplifier design__"
   ]
  },
  {
   "cell_type": "markdown",
   "metadata": {
    "cell_style": "center"
   },
   "source": [
    "<center><img src=\"common_source_schematic.png\" width=900></center></center>\n",
    "<br>\n",
    "<center><b> Figure 1. Common-source amplifier</center>"
   ]
  },
  {
   "cell_type": "markdown",
   "metadata": {},
   "source": [
    "For the following, use the Level 1 SPICE model in Razavi Chapter 2. In the above schematic, E0 is used to\n",
    "stabilize the DC value of the output voltage at $1.5V$ using negative feedback. This component is available in *analogLib* as a voltage-controlled voltage source, *vcvs*.\n",
    "\n",
    "You are to design a common source $NMOS$ amplifier with an active $PMOS$ load. Use $L = 1\\mu m$ for $PMOS$\n",
    "and $L = 500nm$ for $NMOS$ devices."
   ]
  },
  {
   "cell_type": "markdown",
   "metadata": {},
   "source": [
    "__a)__ Size $M3$ (i.e. choose $W/L$) for an overdrive voltage of approximately $200 mV$. "
   ]
  },
  {
   "cell_type": "markdown",
   "metadata": {},
   "source": [
    "__b)__ Size $M2$ for a $DC$ current ($I_{D2}$) of $100\\mu A$. For this step, assume $\\lambda = 0$. With this assumption, $I_{D2}$ won't be exactly $100\\mu A$ (this is fine)."
   ]
  },
  {
   "cell_type": "markdown",
   "metadata": {},
   "source": [
    "__c)__ Size $M1$ for a transconductance of $2m\\Omega^{-1}$. What is the corresponding overdrive voltage?"
   ]
  },
  {
   "cell_type": "markdown",
   "metadata": {},
   "source": [
    "__d)__ Calculate the minimum and maximum values of $V_{out}$ that ensure both $M1$ and $M2$ remain in\n",
    "saturation (i.e. determine the output swing)."
   ]
  },
  {
   "cell_type": "markdown",
   "metadata": {},
   "source": [
    "__e)__ Verify your design using a DC operating point simulation. Include your schematic in your submssion, displaying all relevant node voltages and device currents."
   ]
  },
  {
   "cell_type": "markdown",
   "metadata": {},
   "source": [
    "__Bonus (1 point):__  "
   ]
  },
  {
   "cell_type": "markdown",
   "metadata": {},
   "source": [
    "__Problem 2: Small-signal analysis__"
   ]
  },
  {
   "cell_type": "markdown",
   "metadata": {},
   "source": [
    "<center><img src=\"source_degeneration.png\" width=500></center><br/>\n",
    "<center><b> Figure 2. Source-degenerated $NMOS$</center>"
   ]
  },
  {
   "cell_type": "markdown",
   "metadata": {},
   "source": [
    "The above structure is often used as either a current source or, rarely, a transconductance stage. The placement\n",
    "of $R_S$ between the source and ground (or $V_{DD}$ for a $PMOS$) is called “source degeneration.”\n",
    "\n",
    "$v_g$, $i_d$, and $v_d$ are small signal quantities. For the following, you may ignore body effect (i.e. $g_{mb} = 0$)."
   ]
  },
  {
   "cell_type": "markdown",
   "metadata": {},
   "source": [
    "__a)__\tDraw the small signal model for the above circuit for $v_g = 0$. Derive an expression for the output\n",
    "resistance $R_o = v_d/i_d$. This is equivalent to finding the Thevenin resistance."
   ]
  },
  {
   "cell_type": "markdown",
   "metadata": {},
   "source": [
    "__b)__\tCompare the expression for $R_o$ to the MOS small signal output resistance, $r_o$. Does this structure\n",
    "make a better or worse current source than an $NMOS$ alone? Explain."
   ]
  },
  {
   "cell_type": "markdown",
   "metadata": {},
   "source": [
    "__c)__ Redraw the small signal model for $v_d = 0$. Derive an expression for the equivalent\n",
    "transconductance of the circuit, $G_m = i_d/v_g$. This is equivalent to finding the Norton short circuit\n",
    "output current."
   ]
  },
  {
   "cell_type": "markdown",
   "metadata": {},
   "source": [
    "__d)__ Compare the expression for $G_m$ to the MOS small signal transconductance $g_m$. Does this\n",
    "structure make a better or worse transconductor than an $NMOS$ alone? Explain."
   ]
  }
 ],
 "metadata": {
  "kernelspec": {
   "display_name": "Python 3",
   "language": "python",
   "name": "python3"
  },
  "language_info": {
   "codemirror_mode": {
    "name": "ipython",
    "version": 3
   },
   "file_extension": ".py",
   "mimetype": "text/x-python",
   "name": "python",
   "nbconvert_exporter": "python",
   "pygments_lexer": "ipython3",
   "version": "3.8.2"
  }
 },
 "nbformat": 4,
 "nbformat_minor": 4
}
