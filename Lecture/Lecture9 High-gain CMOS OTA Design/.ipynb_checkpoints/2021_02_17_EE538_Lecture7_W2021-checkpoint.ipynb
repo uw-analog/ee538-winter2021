{
 "cells": [
  {
   "cell_type": "markdown",
   "metadata": {
    "cell_style": "center",
    "slideshow": {
     "slide_type": "slide"
    }
   },
   "source": [
    "# EE 538: Analog Integrated Circuit Design\n",
    "\n",
    "## Winter 2021\n",
    "\n",
    "## Instructor: Jason Silver"
   ]
  },
  {
   "cell_type": "markdown",
   "metadata": {
    "slideshow": {
     "slide_type": "skip"
    }
   },
   "source": [
    "## Python packages/modules"
   ]
  },
  {
   "cell_type": "code",
   "execution_count": 73,
   "metadata": {
    "slideshow": {
     "slide_type": "skip"
    }
   },
   "outputs": [],
   "source": [
    "import matplotlib as mpl\n",
    "from matplotlib import pyplot as plt\n",
    "import numpy as np\n",
    "from scipy import signal\n",
    "#%matplotlib notebook\n",
    "\n",
    "mpl.rcParams['font.size'] = 12\n",
    "mpl.rcParams['legend.fontsize'] = 'large'\n",
    "\n",
    "def plot_xy(x, y, xlabel, ylabel):\n",
    "    fig, ax = plt.subplots(figsize=(10.0, 7.5));\n",
    "    ax.plot(x, y, 'b');\n",
    "    ax.grid();\n",
    "    ax.set_xlabel(xlabel);\n",
    "    ax.set_ylabel(ylabel);\n",
    "    \n",
    "def plot_xy2(x1, y1, x1label, y1label, x2, y2, x2label, y2label):\n",
    "    fig, ax = plt.subplots(2, figsize = (10.0, 7.5));\n",
    "    ax[0].plot(x1, y1, 'b');\n",
    "    ax[0].set_ylabel(y1label)\n",
    "    ax[0].grid()\n",
    "    \n",
    "    ax[1].plot(x2, y2, 'b');\n",
    "    ax[1].set_xlabel(x1label)\n",
    "    ax[1].set_xlabel(x2label);\n",
    "    ax[1].set_ylabel(y2label);\n",
    "    ax[1].grid();\n",
    "    \n",
    "    fig.align_ylabels(ax[:])\n",
    "    \n",
    "def plot_x2y(x, y1, y2, xlabel, ylabel, y1label, y2label):\n",
    "        \n",
    "    fig, ax = plt.subplots(figsize=(10.0, 7.5));\n",
    "    ax.plot(x, y1, 'b')\n",
    "    ax.plot(x, y2, 'r')\n",
    "    ax.legend( [y1label,y2label] ,loc='upper center', ncol=5, fancybox=True, \n",
    "           shadow=True, bbox_to_anchor=(0.5,1.1))  \n",
    "    ax.grid()\n",
    "    ax.set_xlabel(xlabel)\n",
    "    ax.set_ylabel(ylabel)\n",
    "    \n",
    "def plot_xy3(x, y1, y2, y3, xlabel, y1label, y2label, y3label):\n",
    "    fig, ax = plt.subplots(3, figsize=(10.0,7.5))\n",
    "    \n",
    "    ax[0].plot(x, y1)\n",
    "    ax[0].set_ylabel(y1label)\n",
    "    ax[0].grid()\n",
    "    \n",
    "    ax[1].plot(x, y2)\n",
    "    ax[1].set_ylabel(y2label)\n",
    "    ax[1].grid()\n",
    "    \n",
    "    ax[2].plot(x, y3)  \n",
    "    ax[2].set_ylabel(y3label)\n",
    "    ax[2].set_xlabel(xlabel)\n",
    "    ax[2].grid()\n",
    "    \n",
    "def plot_xlogy(x, y, xlabel, ylabel):\n",
    "    fig, ax = plt.subplots(figsize=(10.0, 7.5));\n",
    "    ax.semilogy(x, y, 'b');\n",
    "    ax.grid();\n",
    "    ax.set_xlabel(xlabel);\n",
    "    ax.set_ylabel(ylabel);\n",
    "    \n",
    "def nmos_iv_sweep(V_gs, V_ds, W, L, lmda):\n",
    "    u_n = 350                 # electron mobility (device parameter)\n",
    "    e_ox = 3.9*8.854e-12/100; # relative permittivity\n",
    "    t_ox = 9e-9*100;          # oxide thickness\n",
    "    C_ox = e_ox/t_ox          # oxide capacitance\n",
    "    V_thn = 0.7                # threshold voltage (device parameter)\n",
    "    V_ov = V_gs - V_thn\n",
    "    Ldn = 0.08e-6\n",
    "    Leff = L - 2*Ldn\n",
    "    \n",
    "    I_d = []\n",
    "    \n",
    "    for i in range(len(V_ds)):\n",
    "        I_d.append(np.piecewise(V_ds[i], [V_ds[i] < V_ov, V_ds[i] >= V_ov],\n",
    "                       [u_n*C_ox*(W/Leff)*(V_gs - V_thn - V_ds[i]/2)*V_ds[i]*(1+lmda*V_ds[i]) , \n",
    "                        0.5*u_n*C_ox*(W/Leff)*(V_gs - V_thn)**2*(1+lmda*V_ds[i])])) \n",
    "    \n",
    "    return np.array(I_d)\n",
    "\n",
    "def pmos_iv_sweep(V_sg, V_sd, W, L, lmda):\n",
    "    u_p = 100                 # electron mobility (device parameter)\n",
    "    e_ox = 3.9*8.854e-12/100; # relative permittivity\n",
    "    t_ox = 9e-9*100;          # oxide thickness\n",
    "    C_ox = e_ox/t_ox          # oxide capacitance\n",
    "    V_thp = -0.8                # threshold voltage (device parameter)\n",
    "    V_ov = V_sg - np.abs(V_thp)\n",
    "    Ldp = 0.09e-6\n",
    "    Leff = L - 2*Ldp\n",
    "    \n",
    "    I_d = []\n",
    "    \n",
    "    for i in range(len(V_sd)):\n",
    "        I_d.append(np.piecewise(V_sd[i], [V_sd[i] < V_ov, V_sd[i] >= V_ov],\n",
    "                       [u_p*C_ox*(W/Leff)*(V_sg - np.abs(V_thp) - V_sd[i]/2)*V_sd[i]*(1+lmda*V_sd[i]) , \n",
    "                        0.5*u_p*C_ox*(W/Leff)*(V_sg - np.abs(V_thp))**2*(1+lmda*V_sd[i])])) \n",
    "    \n",
    "    return np.array(I_d)\n",
    "\n",
    "def nmos_iv_sat(V_gs, V_ds, W, L, lmda):\n",
    "    u_n = 350                 # electron mobility (device parameter)\n",
    "    e_ox = 3.9*8.854e-12/100; # relative permittivity\n",
    "    t_ox = 9e-9*100;          # oxide thickness\n",
    "    C_ox = e_ox/t_ox          # oxide capacitance\n",
    "    V_thn = 0.7                # threshold voltage (device parameter)\n",
    "    V_ov = V_gs - V_thn\n",
    "    Ldn = 0.08e-6\n",
    "    Leff = L - 2*Ldn\n",
    "    \n",
    "    I_d = 0.5*u_n*C_ox*(W/Leff)*(V_gs - V_thn)**2*(1+lmda*V_ds)\n",
    "    \n",
    "    return I_d\n",
    "\n",
    "def nmos_diff_pair(V_id, I_ss, R_D, W, L, V_dd):\n",
    "    u_n = 350                 # electron mobility (device parameter)\n",
    "    e_ox = 3.9*8.854e-12/100; # relative permittivity\n",
    "    t_ox = 9e-9*100;          # oxide thickness\n",
    "    C_ox = e_ox/t_ox          # oxide capacitance\n",
    "    V_thn = 0.7                # threshold voltage (device parameter)\n",
    "    Ldn = 0.08e-6\n",
    "    Leff = L - 2*Ldn\n",
    "    \n",
    "    I_dp = I_ss/2 + 0.25*u_n*C_ox*(W/L)*V_id*np.sqrt(4*I_ss/(u_n*C_ox*(W/L)) - V_id**2)\n",
    "    I_dm = I_ss/2 - 0.25*u_n*C_ox*(W/L)*V_id*np.sqrt(4*I_ss/(u_n*C_ox*(W/L)) - V_id**2)\n",
    "\n",
    "    return I_dp, I_dm"
   ]
  },
  {
   "cell_type": "markdown",
   "metadata": {
    "slideshow": {
     "slide_type": "slide"
    }
   },
   "source": [
    "# Lecture 7 - g<sub>m</sub>/I<sub>D</sub> Design"
   ]
  },
  {
   "cell_type": "markdown",
   "metadata": {
    "slideshow": {
     "slide_type": "slide"
    }
   },
   "source": [
    "## Announcements"
   ]
  },
  {
   "cell_type": "markdown",
   "metadata": {
    "cell_style": "center",
    "slideshow": {
     "slide_type": "-"
    }
   },
   "source": [
    " - Midterm exam available now, due February 21\n",
    "     - 180-minute time limit, administered as a Canvas quiz\n",
    " - Design Project Phase 1 posted, due Sunday March 7\n",
    "     - PDF submission on Canvas "
   ]
  },
  {
   "cell_type": "markdown",
   "metadata": {
    "slideshow": {
     "slide_type": "slide"
    }
   },
   "source": [
    "## Week 7"
   ]
  },
  {
   "cell_type": "markdown",
   "metadata": {
    "slideshow": {
     "slide_type": "slide"
    }
   },
   "source": [
    "## Overview"
   ]
  },
  {
   "cell_type": "markdown",
   "metadata": {},
   "source": [
    " - Last time...\n",
    "     - MOS capacitance\n",
    "     - Common source amplifier\n",
    "     - Miller Effect\n",
    "     - Zero Value Time Constant (ZVTC) analysis\n",
    "     - Gain-bandwidth product\n",
    " - Today...\n",
    "     - CMOS amplifier design\n",
    "     - Subthreshold MOS operation\n",
    "     - $g_m/I_D$ design methodology"
   ]
  },
  {
   "cell_type": "markdown",
   "metadata": {
    "slideshow": {
     "slide_type": "slide"
    }
   },
   "source": [
    "## Amplifier design considerations"
   ]
  },
  {
   "cell_type": "markdown",
   "metadata": {
    "cell_style": "center"
   },
   "source": [
    " - Analog design involves compromises between\n",
    "    - Speed (circuit bandwidth)\n",
    "    - Noise (SNR)\n",
    "    - Power dissipation (supply current)\n",
    "    - Size (silicon area)\n",
    " - Design typically begins with a target for one or more of these metrics\n",
    " - Sometimes, one or more metrics may constitute a degree of freedom (e.g. no noise spec)"
   ]
  },
  {
   "cell_type": "markdown",
   "metadata": {
    "slideshow": {
     "slide_type": "slide"
    }
   },
   "source": [
    "## Transistor sizing methodology"
   ]
  },
  {
   "cell_type": "markdown",
   "metadata": {
    "cell_style": "center"
   },
   "source": [
    " - Other limitations/constraints apply, including supply voltage, input voltage range, and output swing\n",
    " - These requirements need to be met while satisfying the core specifications (i.e. power and bandwidth)\n",
    " - Every transistor should be sized with these targets in mind (i.e. no random selection of $W/L$ values)\n",
    " - Transistor sizes should ideally be determined with little to no “tweaking” in Cadence"
   ]
  },
  {
   "cell_type": "markdown",
   "metadata": {
    "slideshow": {
     "slide_type": "slide"
    }
   },
   "source": [
    "## Amplifier design example"
   ]
  },
  {
   "cell_type": "markdown",
   "metadata": {
    "cell_style": "split"
   },
   "source": [
    "<center><img src=5_transistor_OTA.png\" width=600 /></center>"
   ]
  },
  {
   "cell_type": "markdown",
   "metadata": {
    "cell_style": "split"
   },
   "source": [
    " - Specifications:\n",
    " \n",
    "\\begin{equation}\n",
    "A(j0) \\approx -g_{m1,2}r_{o2}||r_{o4}  \n",
    "\\end{equation}\n",
    "\n",
    "\\begin{equation}\n",
    "\\omega_{3dB} = \\dfrac{1}{r_{o2}||r_{o4} C_L}\n",
    "\\end{equation}\n",
    "\n",
    "\\begin{equation}\n",
    "GBW = |A(j0)|\\cdot \\omega_{3dB} \\approx \\dfrac{g_{m1,2}}{C_L}\n",
    "\\end{equation}\n",
    "\n",
    " - Amplifier bandwidth/power tradeoff:\n",
    "\n",
    "\\begin{equation}\n",
    "GBW = \\dfrac{I_{SS}}{V_{OV1,2}\\cdot C_L} = \\dfrac{P_{diss}/V_{DD}}{V_{OV1,2}\\cdot C_L}\n",
    "\\end{equation}\n",
    "\n"
   ]
  },
  {
   "cell_type": "markdown",
   "metadata": {},
   "source": [
    " - There is a tradeoff between power and bandwidth due to $I_{SS}$ and $C_L$ limitations\n",
    " - If both are specified/constrained, design will be a process of optimization (e.g. maximize bandwidth under a given power constraint, or minimize power while meeting bandwidth spec)"
   ]
  },
  {
   "cell_type": "markdown",
   "metadata": {
    "slideshow": {
     "slide_type": "slide"
    }
   },
   "source": [
    "## Amplifier design example"
   ]
  },
  {
   "cell_type": "markdown",
   "metadata": {
    "cell_style": "split"
   },
   "source": [
    "<center><img src=5_transistor_OTA.png\" width=600 /></center>"
   ]
  },
  {
   "cell_type": "markdown",
   "metadata": {
    "cell_style": "split"
   },
   "source": [
    " - Specifications:\n",
    " \n",
    "\\begin{equation}\n",
    "GBW \\approx \\dfrac{g_{m1,2}}{C_L} \\:\\:\\:\\:\\:\\:\\:\\:\\: P_{diss} =I_{SS}\\cdot V_{DD}\n",
    "\\end{equation}\n",
    "\n",
    " - Design:\n",
    " \n",
    "\\begin{align}\n",
    "g_{m1,2} &\\approx GBW \\cdot C_L = \\dfrac{I_{SS}}{V_{OV1,2}} \\\\\n",
    "\\end{align}\n",
    "\n",
    "\\begin{equation}\n",
    "\\left(\\dfrac{W}{L}\\right)_{1,2} = \\dfrac{I_{SS}}{\\mu_n C_{ox}V_{OV1,2}^2}\n",
    "\\end{equation}"
   ]
  },
  {
   "cell_type": "markdown",
   "metadata": {},
   "source": [
    " - $V_{DD}$, $C_L$, and $P_{diss}$ are set by either specifications or technology limitations\n",
    " - $M_{1,2}$ should be sized based on the required overdrive voltage\n",
    " - Selection of $I_{SS}$ and sizing of $M_1$, $M_2$ follows directly from specifications"
   ]
  },
  {
   "cell_type": "markdown",
   "metadata": {
    "slideshow": {
     "slide_type": "slide"
    }
   },
   "source": [
    "## Long-channel model limitations"
   ]
  },
  {
   "cell_type": "markdown",
   "metadata": {
    "cell_style": "center"
   },
   "source": [
    " - Unfortunately, modern “short-channel” devices do not obey long-channel equations\n",
    " - Starting with these equations typically leads to an iterative, *simulate-and-repeat* process, which is counter to our goal of “no tweaking”\n",
    " - We would like to\n",
    "    - Follow a reasonably simple design approach requiring minimal hand analysis, and\n",
    "    - Obtain accurate results with little to no iteration (i.e. right the first time)\n",
    " - It turns out that this is largely possibly through an approach called $g_m/I_D$ design "
   ]
  },
  {
   "cell_type": "markdown",
   "metadata": {
    "slideshow": {
     "slide_type": "slide"
    }
   },
   "source": [
    "## Amplifier design, revisited"
   ]
  },
  {
   "cell_type": "markdown",
   "metadata": {
    "cell_style": "split"
   },
   "source": [
    "<center><img src=5_transistor_OTA.png\" width=600 /></center>"
   ]
  },
  {
   "cell_type": "markdown",
   "metadata": {
    "cell_style": "split"
   },
   "source": [
    " - Specifications:\n",
    " \n",
    "\\begin{equation}\n",
    "GBW \\approx \\dfrac{g_{m1,2}}{C_L} \\:\\:\\:\\:\\:\\:\\:\\:\\: P_{diss} =I_{SS}\\cdot V_{DD}\n",
    "\\end{equation}\n",
    "\n",
    " - Required value of $g_m/I_D$:\n",
    " \n",
    "\\begin{align}\n",
    "\\dfrac{g_m}{I_D} &\\approx \\dfrac{2\\cdot GBW \\cdot C_L}{I_{SS}} = \\dfrac{2}{V_{OV}}\n",
    "\\end{align}"
   ]
  },
  {
   "cell_type": "markdown",
   "metadata": {},
   "source": [
    " - Viewing specifications in terms of transconductance efficiency ($g_m/I_D$) provides a model- and operating region-agnostic approach to design and sizing\n",
    " - However, $g_m/I_D$ depends on process technology and operating region, making the simple square-law MOS model inaccurate in many cases\n",
    " - From the above expression for $g_m/I_D$, it seems like we can just continue decreasing $V_{OV}$ to obtain inifinitely higher transconductance efficiency values!"
   ]
  },
  {
   "cell_type": "markdown",
   "metadata": {
    "slideshow": {
     "slide_type": "slide"
    }
   },
   "source": [
    "## Subthreshold MOS operation"
   ]
  },
  {
   "cell_type": "markdown",
   "metadata": {
    "cell_style": "split"
   },
   "source": [
    "<center><img src=MOS_subthreshold.png\" width=700 /></center>"
   ]
  },
  {
   "cell_type": "markdown",
   "metadata": {
    "cell_style": "split"
   },
   "source": [
    " - Subthreshold drain current\n",
    " \n",
    "\\begin{equation}\n",
    "I_D = I_S \\exp^{\\dfrac{V_{GS}}{\\zeta V_T}}\n",
    "\\end{equation}\n",
    "\n",
    " - where\n",
    " \n",
    "\\begin{equation}\n",
    "\\zeta = \\dfrac{C_{GC} + C_{CB}}{C_{GC}}\n",
    "\\end{equation}"
   ]
  },
  {
   "attachments": {},
   "cell_type": "markdown",
   "metadata": {},
   "source": [
    " - As $V_{OV}$ decreases, $V_{GS}$ becomes equal to/less than $V_{th}$\n",
    " - For $V_{GS}$ values less than $V_{th}$, the bulk region under the gate has a high concentration of majority carriers (holes for NMOS)\n",
    " - Increasing/decreasing the gate potential in this regime lowers/raises the potential barrier for diffusion of majority carriers between the S/B regions (this is similar to BJT operation)\n",
    " - $\\zeta$ is a process parameter, typically in the range 1.5 to 2"
   ]
  },
  {
   "cell_type": "markdown",
   "metadata": {
    "slideshow": {
     "slide_type": "slide"
    }
   },
   "source": [
    "## Subthreshold transconductance"
   ]
  },
  {
   "attachments": {},
   "cell_type": "markdown",
   "metadata": {
    "cell_style": "center"
   },
   "source": [
    " - For subthreshold operation (also called weak inversion), transconductance is given as\n",
    " \n",
    "\\begin{equation}\n",
    "g_m =\\dfrac{\\partial I_D}{\\partial V_{GS}} = \\dfrac{\\partial}{\\partial V_{GS}} I_S \\exp^{\\dfrac{V_{GS}}{\\zeta V_T}} = \\dfrac{I_S \\exp^{\\dfrac{V_{GS}}{\\zeta V_T}}}{\\zeta V_T} = \\boxed{ \\dfrac{I_D}{\\zeta V_T}}\n",
    "\\end{equation}\n",
    "\n",
    " - This an analogous expression to the transconductance of a $BJT$, with the exception of the $\\zeta$ term\n",
    " - As in the square-law model, transconductance varies linearly with $I_D$\n",
    " - Both drain current and transconductance are in fact continuous functions of $V_{GS}$, and the models merely serve as approximations\n",
    " - It should be noted that the accuracy of both square law and exponential models is poor for $V_{GS} \\approx V_{th}$"
   ]
  },
  {
   "cell_type": "markdown",
   "metadata": {
    "slideshow": {
     "slide_type": "slide"
    }
   },
   "source": [
    "## Transconductance efficiency (g<sub>m</sub>/I<sub>D</sub>)"
   ]
  },
  {
   "attachments": {},
   "cell_type": "markdown",
   "metadata": {},
   "source": [
    " - In saturation, the transconductance is given by \n",
    "\n",
    "\\begin{equation}\n",
    "g_m = \\dfrac{2I_D}{V_{OV}}\n",
    "\\end{equation}\n",
    "\n",
    " - From this we can define the transconductance efficiency, given by\n",
    "\n",
    "\\begin{equation}\n",
    "\\dfrac{g_m}{I_D} = \\dfrac{2}{V_{OV}}\n",
    "\\end{equation}\n",
    "\n",
    " - For a MOS transistor in subthreshold, this becomes\n",
    "\n",
    "\\begin{equation}\n",
    "\\dfrac{g_m}{I_D} = \\dfrac{1}{\\zeta V_T}\n",
    "\\end{equation}\n",
    "\n",
    " - At room temperature ($300K$) for $\\zeta \\approx 1.5$, this is limited to approximately\n",
    " \n",
    "\\begin{equation}\n",
    "\\dfrac{g_m}{I_D} \\approx 26 S/A\n",
    "\\end{equation}\n"
   ]
  },
  {
   "cell_type": "markdown",
   "metadata": {
    "slideshow": {
     "slide_type": "slide"
    }
   },
   "source": [
    "## g<sub>m</sub>/I<sub>D</sub> design example"
   ]
  },
  {
   "cell_type": "markdown",
   "metadata": {
    "cell_style": "split"
   },
   "source": [
    "<center><img src=5_transistor_OTA.png\" width=600 /></center>"
   ]
  },
  {
   "cell_type": "markdown",
   "metadata": {
    "cell_style": "split"
   },
   "source": [
    " - Specifications:\n",
    " \n",
    "\\begin{equation}\n",
    "V_{DD} = 2.5V \\:\\:\\:\\:\\:\\:\\:\\: C_L = 10pF \\\\\n",
    "P_{diss} =  320\\mu W \\:\\:\\:\\:\\:\\:\\:\\: GBW = 10MHz \n",
    "\\end{equation}\n",
    "\n",
    " - Design calculations:\n",
    "\n",
    "\\begin{equation}\n",
    "I_{D1,2} = \\dfrac{P_{diss}}{2V_{DD}} = 64 \\mu A\n",
    "\\end{equation}\n",
    "\n",
    "\\begin{equation}\n",
    "g_{m1,2} = 2 \\pi \\cdot 10MHz \\cdot 10 pF = 630 \\mu S\n",
    "\\end{equation}\n",
    "\n",
    "\\begin{equation}\n",
    "\\dfrac{g_{m}}{I_{D}} = \\dfrac{630 \\mu S}{64 \\mu A} \\approx 10V^{-1}\n",
    "\\end{equation}"
   ]
  },
  {
   "cell_type": "markdown",
   "metadata": {
    "slideshow": {
     "slide_type": "slide"
    }
   },
   "source": [
    "## g<sub>m</sub>/I<sub>D</sub> current density chart"
   ]
  },
  {
   "cell_type": "markdown",
   "metadata": {},
   "source": [
    "<center><img src=gm_over_ID_vs_ID_over_W.png\" width=1100 /></center>"
   ]
  },
  {
   "cell_type": "markdown",
   "metadata": {
    "slideshow": {
     "slide_type": "slide"
    }
   },
   "source": [
    "## Input pair sizing"
   ]
  },
  {
   "cell_type": "markdown",
   "metadata": {},
   "source": [
    " - The allowable current for $M_{1,2}$ is based on the power dissipation spec:\n",
    " \n",
    "\\begin{equation}\n",
    "I_{D1,2} = \\dfrac{P_{diss}}{2V_{DD}} = 64 \\mu A\n",
    "\\end{equation}\n",
    "\n",
    " - The current density chart allows us to directly select $W$ based on the target $g_m/I_D$ and the target drain current $I_{D1,2}$\n",
    " \n",
    "\\begin{equation}\n",
    "W_{1,2} = \\dfrac{I_{D1,2}}{I_D/W} = \\dfrac{64\\mu A}{2.6 \\mu A/\\mu m} = 25.6 \\mu m\n",
    "\\end{equation}\n",
    "\n",
    "- We can use the same approach to size bias devices in terms of $V_{OV}$ with the corresponding charts (e.g. $V_{OV}$ vs $I_D/W$)"
   ]
  },
  {
   "attachments": {},
   "cell_type": "markdown",
   "metadata": {
    "slideshow": {
     "slide_type": "subslide"
    }
   },
   "source": [
    "<center><img src=OTA_schematic_cadence.png\" width=1200 /></center>"
   ]
  },
  {
   "attachments": {},
   "cell_type": "markdown",
   "metadata": {
    "slideshow": {
     "slide_type": "subslide"
    }
   },
   "source": [
    "<center><img src=OTA_operating_point.png\" width=1200 /></center>"
   ]
  },
  {
   "cell_type": "markdown",
   "metadata": {
    "slideshow": {
     "slide_type": "slide"
    }
   },
   "source": [
    "## Simulation results"
   ]
  },
  {
   "cell_type": "markdown",
   "metadata": {},
   "source": [
    "<center><img src=OTA_bode_plot.png\" width=1200 /></center>"
   ]
  },
  {
   "cell_type": "markdown",
   "metadata": {
    "slideshow": {
     "slide_type": "slide"
    }
   },
   "source": [
    "## g<sub>m</sub>/I<sub>D</sub> design results"
   ]
  },
  {
   "cell_type": "markdown",
   "metadata": {},
   "source": [
    " - Our design is essentially right on target, with little to no need for tweaking\n",
    " - This result was achieved without using any of the long-channel equations\n",
    " - Much less model uncertainty, since the model complexity is “built in” to the $g_m/I_D$ chart generated by simulation\n",
    " - $g_m/I_D$ design enables the designer to think in terms of transconductance efficiency and current density, improving intuition relative to an equation-based approach"
   ]
  },
  {
   "cell_type": "markdown",
   "metadata": {
    "slideshow": {
     "slide_type": "slide"
    }
   },
   "source": [
    "## General design flow"
   ]
  },
  {
   "cell_type": "markdown",
   "metadata": {},
   "source": [
    " - Determine the required value(s) of $g_m$, $g_m r_o$, or $V_{OV}$ from design objectives (e.g. bandwidth, gain, output swing)\n",
    " - Select channel length $L$\n",
    "    - Short channel $\\rightarrow$ high $f_T$ (high speed)\n",
    "    - Long channel $\\rightarrow$ high intrinsic gain, good matching\n",
    " - Determine required value of $g_m/I_D$\n",
    "    - Large $g_m/I_D$ $\\rightarrow$ low power or large signal swing (low $V_{OV}$)\n",
    "    - Small $g_m/I_D$ $\\rightarrow$ high speed, better linearity\n",
    " - Determine $I_D$ from $g_m$ and $g_m/I_D$\n",
    " - Determine $W$ from current density ($I_D/W$) chart"
   ]
  },
  {
   "cell_type": "markdown",
   "metadata": {
    "slideshow": {
     "slide_type": "slide"
    }
   },
   "source": [
    "## Summary"
   ]
  },
  {
   "cell_type": "markdown",
   "metadata": {},
   "source": [
    " - Analog CMOS design can (and should) be a systematic process \n",
    "     - Specifications $\\rightarrow$ circuit architecture $\\rightarrow$ device currents/sizes\n",
    " - The long-channel MOS model is inadequate for accurately predicting device behavior in short-channel CMOS technologies or at low current densities (subthreshold)\n",
    " - $g_m/I_D$ design offers a unified approach that captures complex device model behavior while still allowing the use of simple expressions for making design decisions"
   ]
  }
 ],
 "metadata": {
  "celltoolbar": "Slideshow",
  "kernelspec": {
   "display_name": "Python 3",
   "language": "python",
   "name": "python3"
  },
  "language_info": {
   "codemirror_mode": {
    "name": "ipython",
    "version": 3
   },
   "file_extension": ".py",
   "mimetype": "text/x-python",
   "name": "python",
   "nbconvert_exporter": "python",
   "pygments_lexer": "ipython3",
   "version": "3.8.2"
  },
  "livereveal": {
   "controls": false,
   "scroll": true,
   "theme": "simple"
  },
  "rise": {
   "enable_chalkboard": true,
   "slideNumber": true
  }
 },
 "nbformat": 4,
 "nbformat_minor": 4
}
