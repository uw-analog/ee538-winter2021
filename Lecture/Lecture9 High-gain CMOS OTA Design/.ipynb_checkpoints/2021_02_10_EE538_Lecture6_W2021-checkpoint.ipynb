{
 "cells": [
  {
   "cell_type": "markdown",
   "metadata": {
    "cell_style": "center",
    "slideshow": {
     "slide_type": "slide"
    }
   },
   "source": [
    "# EE 538: Analog Integrated Circuit Design\n",
    "\n",
    "## Winter 2021\n",
    "\n",
    "## Instructor: Jason Silver"
   ]
  },
  {
   "cell_type": "markdown",
   "metadata": {
    "slideshow": {
     "slide_type": "skip"
    }
   },
   "source": [
    "## Python packages/modules"
   ]
  },
  {
   "cell_type": "code",
   "execution_count": 73,
   "metadata": {
    "slideshow": {
     "slide_type": "skip"
    }
   },
   "outputs": [],
   "source": [
    "import matplotlib as mpl\n",
    "from matplotlib import pyplot as plt\n",
    "import numpy as np\n",
    "from scipy import signal\n",
    "#%matplotlib notebook\n",
    "\n",
    "mpl.rcParams['font.size'] = 12\n",
    "mpl.rcParams['legend.fontsize'] = 'large'\n",
    "\n",
    "def plot_xy(x, y, xlabel, ylabel):\n",
    "    fig, ax = plt.subplots(figsize=(10.0, 7.5));\n",
    "    ax.plot(x, y, 'b');\n",
    "    ax.grid();\n",
    "    ax.set_xlabel(xlabel);\n",
    "    ax.set_ylabel(ylabel);\n",
    "    \n",
    "def plot_xy2(x1, y1, x1label, y1label, x2, y2, x2label, y2label):\n",
    "    fig, ax = plt.subplots(2, figsize = (10.0, 7.5));\n",
    "    ax[0].plot(x1, y1, 'b');\n",
    "    ax[0].set_ylabel(y1label)\n",
    "    ax[0].grid()\n",
    "    \n",
    "    ax[1].plot(x2, y2, 'b');\n",
    "    ax[1].set_xlabel(x1label)\n",
    "    ax[1].set_xlabel(x2label);\n",
    "    ax[1].set_ylabel(y2label);\n",
    "    ax[1].grid();\n",
    "    \n",
    "    fig.align_ylabels(ax[:])\n",
    "    \n",
    "def plot_x2y(x, y1, y2, xlabel, ylabel, y1label, y2label):\n",
    "        \n",
    "    fig, ax = plt.subplots(figsize=(10.0, 7.5));\n",
    "    ax.plot(x, y1, 'b')\n",
    "    ax.plot(x, y2, 'r')\n",
    "    ax.legend( [y1label,y2label] ,loc='upper center', ncol=5, fancybox=True, \n",
    "           shadow=True, bbox_to_anchor=(0.5,1.1))  \n",
    "    ax.grid()\n",
    "    ax.set_xlabel(xlabel)\n",
    "    ax.set_ylabel(ylabel)\n",
    "    \n",
    "def plot_xy3(x, y1, y2, y3, xlabel, y1label, y2label, y3label):\n",
    "    fig, ax = plt.subplots(3, figsize=(10.0,7.5))\n",
    "    \n",
    "    ax[0].plot(x, y1)\n",
    "    ax[0].set_ylabel(y1label)\n",
    "    ax[0].grid()\n",
    "    \n",
    "    ax[1].plot(x, y2)\n",
    "    ax[1].set_ylabel(y2label)\n",
    "    ax[1].grid()\n",
    "    \n",
    "    ax[2].plot(x, y3)  \n",
    "    ax[2].set_ylabel(y3label)\n",
    "    ax[2].set_xlabel(xlabel)\n",
    "    ax[2].grid()\n",
    "    \n",
    "def plot_xlogy(x, y, xlabel, ylabel):\n",
    "    fig, ax = plt.subplots(figsize=(10.0, 7.5));\n",
    "    ax.semilogy(x, y, 'b');\n",
    "    ax.grid();\n",
    "    ax.set_xlabel(xlabel);\n",
    "    ax.set_ylabel(ylabel);\n",
    "    \n",
    "def nmos_iv_sweep(V_gs, V_ds, W, L, lmda):\n",
    "    u_n = 350                 # electron mobility (device parameter)\n",
    "    e_ox = 3.9*8.854e-12/100; # relative permittivity\n",
    "    t_ox = 9e-9*100;          # oxide thickness\n",
    "    C_ox = e_ox/t_ox          # oxide capacitance\n",
    "    V_thn = 0.7                # threshold voltage (device parameter)\n",
    "    V_ov = V_gs - V_thn\n",
    "    Ldn = 0.08e-6\n",
    "    Leff = L - 2*Ldn\n",
    "    \n",
    "    I_d = []\n",
    "    \n",
    "    for i in range(len(V_ds)):\n",
    "        I_d.append(np.piecewise(V_ds[i], [V_ds[i] < V_ov, V_ds[i] >= V_ov],\n",
    "                       [u_n*C_ox*(W/Leff)*(V_gs - V_thn - V_ds[i]/2)*V_ds[i]*(1+lmda*V_ds[i]) , \n",
    "                        0.5*u_n*C_ox*(W/Leff)*(V_gs - V_thn)**2*(1+lmda*V_ds[i])])) \n",
    "    \n",
    "    return np.array(I_d)\n",
    "\n",
    "def pmos_iv_sweep(V_sg, V_sd, W, L, lmda):\n",
    "    u_p = 100                 # electron mobility (device parameter)\n",
    "    e_ox = 3.9*8.854e-12/100; # relative permittivity\n",
    "    t_ox = 9e-9*100;          # oxide thickness\n",
    "    C_ox = e_ox/t_ox          # oxide capacitance\n",
    "    V_thp = -0.8                # threshold voltage (device parameter)\n",
    "    V_ov = V_sg - np.abs(V_thp)\n",
    "    Ldp = 0.09e-6\n",
    "    Leff = L - 2*Ldp\n",
    "    \n",
    "    I_d = []\n",
    "    \n",
    "    for i in range(len(V_sd)):\n",
    "        I_d.append(np.piecewise(V_sd[i], [V_sd[i] < V_ov, V_sd[i] >= V_ov],\n",
    "                       [u_p*C_ox*(W/Leff)*(V_sg - np.abs(V_thp) - V_sd[i]/2)*V_sd[i]*(1+lmda*V_sd[i]) , \n",
    "                        0.5*u_p*C_ox*(W/Leff)*(V_sg - np.abs(V_thp))**2*(1+lmda*V_sd[i])])) \n",
    "    \n",
    "    return np.array(I_d)\n",
    "\n",
    "def nmos_iv_sat(V_gs, V_ds, W, L, lmda):\n",
    "    u_n = 350                 # electron mobility (device parameter)\n",
    "    e_ox = 3.9*8.854e-12/100; # relative permittivity\n",
    "    t_ox = 9e-9*100;          # oxide thickness\n",
    "    C_ox = e_ox/t_ox          # oxide capacitance\n",
    "    V_thn = 0.7                # threshold voltage (device parameter)\n",
    "    V_ov = V_gs - V_thn\n",
    "    Ldn = 0.08e-6\n",
    "    Leff = L - 2*Ldn\n",
    "    \n",
    "    I_d = 0.5*u_n*C_ox*(W/Leff)*(V_gs - V_thn)**2*(1+lmda*V_ds)\n",
    "    \n",
    "    return I_d\n",
    "\n",
    "def nmos_diff_pair(V_id, I_ss, R_D, W, L, V_dd):\n",
    "    u_n = 350                 # electron mobility (device parameter)\n",
    "    e_ox = 3.9*8.854e-12/100; # relative permittivity\n",
    "    t_ox = 9e-9*100;          # oxide thickness\n",
    "    C_ox = e_ox/t_ox          # oxide capacitance\n",
    "    V_thn = 0.7                # threshold voltage (device parameter)\n",
    "    Ldn = 0.08e-6\n",
    "    Leff = L - 2*Ldn\n",
    "    \n",
    "    I_dp = I_ss/2 + 0.25*u_n*C_ox*(W/L)*V_id*np.sqrt(4*I_ss/(u_n*C_ox*(W/L)) - V_id**2)\n",
    "    I_dm = I_ss/2 - 0.25*u_n*C_ox*(W/L)*V_id*np.sqrt(4*I_ss/(u_n*C_ox*(W/L)) - V_id**2)\n",
    "\n",
    "    return I_dp, I_dm"
   ]
  },
  {
   "cell_type": "markdown",
   "metadata": {
    "slideshow": {
     "slide_type": "slide"
    }
   },
   "source": [
    "# Lecture 6 - Frequency Response of MOS Amplifiers"
   ]
  },
  {
   "cell_type": "markdown",
   "metadata": {
    "slideshow": {
     "slide_type": "slide"
    }
   },
   "source": [
    "## Announcements"
   ]
  },
  {
   "cell_type": "markdown",
   "metadata": {
    "cell_style": "center",
    "slideshow": {
     "slide_type": "-"
    }
   },
   "source": [
    " - Assignment 5 posted, due Sunday February 14\n",
    "     - PDF submission on Canvas\n",
    " - Midterm exam will be available February 15-21 (due the 21st)\n",
    "     - 180-minute time limit, administered as a Canvas quiz\n",
    "     - Will cover material through Lecture 5\n",
    "         - MOS physics/operation\n",
    "         - Small-signal model\n",
    "         - Single-stage amplifiers\n",
    "         - Current mirrors and biasing\n",
    "         - Differential amplifiers"
   ]
  },
  {
   "cell_type": "markdown",
   "metadata": {
    "slideshow": {
     "slide_type": "slide"
    }
   },
   "source": [
    "## Week 6"
   ]
  },
  {
   "cell_type": "markdown",
   "metadata": {},
   "source": [
    " - Chapter 2 of Razavi (MOS physics)\n",
    "     - Section 2.4.2 MOS Device Capacitances\n",
    " - Chapter 6 of Razavi (frequency response)\n",
    "     - Section 6.2 Common Source Stage\n",
    "     - Section 6.3 Source Followers\n",
    "     - Section 6.5 Cascode Stage\n",
    "     - Section 6.6 Differential Pair\n",
    "     - Section 6.7 Gain-Bandwidth Tradeoffs"
   ]
  },
  {
   "cell_type": "markdown",
   "metadata": {
    "slideshow": {
     "slide_type": "slide"
    }
   },
   "source": [
    "## Overview"
   ]
  },
  {
   "cell_type": "markdown",
   "metadata": {},
   "source": [
    " - Last time...\n",
    "    - Single-ended vs differential signaling\n",
    "    - Differential amplifiers\n",
    "    - 5-transistor MOS OTA\n",
    "    - Telescopic and Folded Cascode OTAs\n",
    " - Today...\n",
    "    - MOS capacitance\n",
    "    - Common source amplifier\n",
    "    - Miller Effect\n",
    "    - Zero Value Time Constant (ZVTC) analysis\n",
    "    - Gain-bandwidth product"
   ]
  },
  {
   "cell_type": "markdown",
   "metadata": {
    "slideshow": {
     "slide_type": "slide"
    }
   },
   "source": [
    "## MOS device capacitance"
   ]
  },
  {
   "cell_type": "markdown",
   "metadata": {
    "cell_style": "center"
   },
   "source": [
    "<center><img src=MOS_capacitance.png\" width=600 /></center>"
   ]
  },
  {
   "cell_type": "markdown",
   "metadata": {
    "cell_style": "center"
   },
   "source": [
    " - MOS model comprises both intrinsic and extrinsic capacitances\n",
    " - Intrinsic capacitances ($C_{GC}$, $C_{GB}$) are fundamental to device operation\n",
    " - Extrinsic capacitances ($C_j$, $C_{OV}$) are incidental to its structure\n",
    " "
   ]
  },
  {
   "cell_type": "markdown",
   "metadata": {
    "slideshow": {
     "slide_type": "slide"
    }
   },
   "source": [
    "## Intrinsic capacitance: subthreshold"
   ]
  },
  {
   "cell_type": "markdown",
   "metadata": {
    "cell_style": "split"
   },
   "source": [
    "<center><img src=subthreshold_capacitance.png\" width=600 /></center>"
   ]
  },
  {
   "cell_type": "markdown",
   "metadata": {
    "cell_style": "split"
   },
   "source": [
    "\\begin{equation}\n",
    "C_{CB} = WL \\sqrt{\\dfrac{q\\epsilon_{Si}N_{sub}}{4 \\phi_F}}\n",
    "\\end{equation}\n",
    " \n",
    "\\begin{equation}\n",
    "C_{GC} = WLC_{ox}\n",
    "\\end{equation}\n",
    "\n",
    "\\begin{equation}\n",
    "\\boxed{C_G = \\dfrac{C_{CB}C_{GC}}{C_{CB}+C_{GC}}}\n",
    "\\end{equation}"
   ]
  },
  {
   "cell_type": "markdown",
   "metadata": {},
   "source": [
    " - For $V_{GS} < V_{th}$ no conductive channel exists between source and drain\n",
    " - $C_{GC}$ and $C_{CB}$ form a series capacitance\n",
    " -  The ratio of $C_{GC}$ to $C_{CB}$ sets the factor $n$ in the subthreshold drain current expression"
   ]
  },
  {
   "cell_type": "markdown",
   "metadata": {
    "slideshow": {
     "slide_type": "slide"
    }
   },
   "source": [
    "## Intrinsic capacitance: triode"
   ]
  },
  {
   "cell_type": "markdown",
   "metadata": {
    "cell_style": "split"
   },
   "source": [
    "<center><img src=triode_capacitance.png\" width=600 /></center>"
   ]
  },
  {
   "cell_type": "markdown",
   "metadata": {
    "cell_style": "split"
   },
   "source": [
    "\\begin{equation}\n",
    "C_{GS} - C_{GD} = \\dfrac{1}{2}WLC_{ox}\n",
    "\\end{equation}\n",
    "\n",
    "\n",
    "\\begin{equation}\n",
    "\\boxed{C_G = C_{GS} + C_{GD} = WLC_{ox}}\n",
    "\\end{equation}"
   ]
  },
  {
   "cell_type": "markdown",
   "metadata": {},
   "source": [
    " - In triode, the gate and channel form a parallel plate capacitance $C{GC} = WL \\epsilon_{ox}/t_{ox} = WLC_{ox}$\n",
    " - Approximation using lumped capacitance $C_{GS}$ and $C_{GD}$ between gate-source and gate-drain terminals, each equal to $C_{GC}/2$\n",
    " - Depletion (junction) capacitance is typically negligible in comparison"
   ]
  },
  {
   "cell_type": "markdown",
   "metadata": {
    "slideshow": {
     "slide_type": "slide"
    }
   },
   "source": [
    "## Intrinsic capacitance: saturation"
   ]
  },
  {
   "cell_type": "markdown",
   "metadata": {
    "cell_style": "split"
   },
   "source": [
    "<center><img src=saturation_capacitance.png\" width=600 /></center>"
   ]
  },
  {
   "cell_type": "markdown",
   "metadata": {
    "cell_style": "split"
   },
   "source": [
    "\\begin{equation}\n",
    "C_{GD} \\approx 0\n",
    "\\end{equation}\n",
    "\n",
    "\\begin{equation}\n",
    "\\boxed{C_G = C_{GS} = \\dfrac{2}{3}WLC_{ox}}\n",
    "\\end{equation}"
   ]
  },
  {
   "cell_type": "markdown",
   "metadata": {},
   "source": [
    " - In saturation, the “bottom plate” associated with $C_{GC}$ isn’t uniform along the channel\n",
    " - Detailed analysis gives $C_{G} = C_{GS} = (2/3) WLC_{ox}$\n",
    " - Drain voltage no longer affects channel charge, so $C_{GD} = 0$"
   ]
  },
  {
   "cell_type": "markdown",
   "metadata": {
    "slideshow": {
     "slide_type": "slide"
    }
   },
   "source": [
    "## Extrinsic capacitance (C<sub>OV</sub>)"
   ]
  },
  {
   "cell_type": "markdown",
   "metadata": {
    "cell_style": "split"
   },
   "source": [
    "<center><img src=overlap_capacitance.png\" width=600 /></center>"
   ]
  },
  {
   "cell_type": "markdown",
   "metadata": {
    "cell_style": "split"
   },
   "source": [
    "\\begin{equation}\n",
    "\\boxed{C_{OV} = WC_{GD0}}\n",
    "\\end{equation}\n",
    "\n",
    "\\begin{equation}\n",
    "[C_{GD0}] = F/m\n",
    "\\end{equation}"
   ]
  },
  {
   "cell_type": "markdown",
   "metadata": {},
   "source": [
    " - Due to diffusion during device fabrication, both source and drain regions extend under the gate by $\\Delta L$\n",
    " - The overlap between gate polysilicon and S/D regions results in a capacitance-per-unit-width $C_{OV}$\n",
    " - “Fringe” electric fields also contribute to the capacitance"
   ]
  },
  {
   "cell_type": "markdown",
   "metadata": {
    "slideshow": {
     "slide_type": "slide"
    }
   },
   "source": [
    "## Extrinsic capacitance (C<sub>j</sub>)"
   ]
  },
  {
   "cell_type": "markdown",
   "metadata": {
    "cell_style": "split"
   },
   "source": [
    "<center><img src=junction_capacitance.png\" width=600 /></center>"
   ]
  },
  {
   "cell_type": "markdown",
   "metadata": {
    "cell_style": "split"
   },
   "source": [
    "\\begin{equation}\n",
    "\\boxed{C_{j,tot} = A_{SD}C_j + P_{SD}C_{jsw}}\n",
    "\\end{equation}\n",
    "\n",
    "\\begin{equation}\n",
    "[C_j] = F/m^2\n",
    "\\end{equation}\n",
    "\n",
    "\\begin{equation}\n",
    "[C_{jsw}] = F/m\n",
    "\\end{equation}"
   ]
  },
  {
   "cell_type": "markdown",
   "metadata": {},
   "source": [
    " - Source and drain regions form $pn$-junction capacitances with the bulk semiconductor ($C_{SB}$, $C_{DB}$)\n",
    " - These junctions are nominally reverse-biased (for an NMOS transistor, the bulk is biased at the most negative potential in the system, typically ground)\n",
    " - Similarly for PMOS devices, the $n$-type bulk is biased at $V_{DD}$, reverse-biasing the junction\n",
    " - Junction capacitances scale with transistor width"
   ]
  },
  {
   "cell_type": "markdown",
   "metadata": {
    "slideshow": {
     "slide_type": "slide"
    }
   },
   "source": [
    "## MOS saturation model"
   ]
  },
  {
   "cell_type": "markdown",
   "metadata": {
    "cell_style": "split"
   },
   "source": [
    " - MOS capacitance in saturation is largely dominated by $C_{GS}$, so in many cases other capacitances are neglected in hand calculations\n",
    " - All intrinsic/extrinsic capacitances increase with gate dimensions, such that larger transistors exhibit higher capacitance\n",
    " - The ultimate limit of usability of the MOS transistor as a gain element is determined by intrinsic device capacitance, and is described by the transit frequency ($f_t$) of a device"
   ]
  },
  {
   "cell_type": "markdown",
   "metadata": {
    "cell_style": "split"
   },
   "source": [
    "<center><img src=MOS_cap_saturation.png\" width=600 /></center>"
   ]
  },
  {
   "cell_type": "markdown",
   "metadata": {
    "slideshow": {
     "slide_type": "slide"
    }
   },
   "source": [
    "## Small-signal MOS model (AC)"
   ]
  },
  {
   "cell_type": "markdown",
   "metadata": {},
   "source": [
    "<center><img src=AC_small_signal.png\" width=1200 /></center>"
   ]
  },
  {
   "cell_type": "markdown",
   "metadata": {},
   "source": [
    " - In analog design, we typically use MOS devices in a common-source or current-source configuration\n",
    " - Small-signal models quickly become unwieldy due to the large number of devices/parameters\n",
    " - Again, we should use the simplest model that is accurate enough for our purposes!"
   ]
  },
  {
   "cell_type": "markdown",
   "metadata": {
    "slideshow": {
     "slide_type": "slide"
    }
   },
   "source": [
    "## Common-source amplifier"
   ]
  },
  {
   "cell_type": "markdown",
   "metadata": {
    "cell_style": "center"
   },
   "source": [
    "<center><img src=common_source_AC.png\" width=500 /></center>"
   ]
  },
  {
   "cell_type": "markdown",
   "metadata": {},
   "source": [
    " - We are interested in finding $v_o/v_i$ (small-signal gain) as a function of frequency:\n",
    " \n",
    "\\begin{equation}\n",
    "A_v(s) =\\dfrac{v_o}{v_i}(s) = ?\n",
    "\\end{equation}\n",
    " - Device capacitance plays a role, as do other capacitances (e.g. load capacitors or subsequent stage parasitics)\n",
    " - For now, we’ll perform our analysis with only the MOS capacitances"
   ]
  },
  {
   "cell_type": "markdown",
   "metadata": {
    "slideshow": {
     "slide_type": "slide"
    }
   },
   "source": [
    "## Common-source small-signal model"
   ]
  },
  {
   "cell_type": "markdown",
   "metadata": {
    "cell_style": "center"
   },
   "source": [
    "<center><img src=common_source_small_signal_model.png\" width=1200 /></center>"
   ]
  },
  {
   "cell_type": "markdown",
   "metadata": {},
   "source": [
    " - Complete small-signal model includes $g_m$, $r_o$, and MOS capacitances\n",
    " - Small-signal analysis is a bit more involved that at DC, but hand analysis is still manageable for one or two devices\n",
    " - The output resistance is given by $R_o = r_o||R_D$ \n",
    " - $R_S$ represents the output (Thevenin) resistance of the previous stage"
   ]
  },
  {
   "cell_type": "markdown",
   "metadata": {
    "slideshow": {
     "slide_type": "slide"
    }
   },
   "source": [
    "## Complete small-signal analysis"
   ]
  },
  {
   "cell_type": "markdown",
   "metadata": {
    "cell_style": "center"
   },
   "source": [
    "<center><img src=common_source_small_signal.png\" width=800 /></center>"
   ]
  },
  {
   "cell_type": "markdown",
   "metadata": {},
   "source": [
    "\\begin{equation}\n",
    "\\dfrac{v_i - v_{gs}}{R_S} = sC_{GS}v_{gs} + sC_{GD}(v_{gs} - v_o)\n",
    "\\end{equation}\n",
    "\n",
    "\\begin{equation}\n",
    "sC_{GD}(v_{gs} - v_o) = g_m v_{gs} + v_o\\left(sC_{GB} + \\dfrac{1}{R_o}\\right)\n",
    "\\end{equation}"
   ]
  },
  {
   "cell_type": "markdown",
   "metadata": {},
   "source": [
    " - This system of equations is deceptively simple!\n",
    " - Let’s solve for $v_o/v_i$..."
   ]
  },
  {
   "cell_type": "markdown",
   "metadata": {
    "slideshow": {
     "slide_type": "subslide"
    }
   },
   "source": [
    " - The small-signal AC model is used to obtain two KCL equations, one for the gate node and one for the drain\n",
    "\n",
    "\\begin{equation}\n",
    "\\dfrac{v_i - v_{gs}}{R_S} = sC_{GS}v_{gs} + sC_{GD}(v_{gs} - v_o)\n",
    "\\end{equation}\n",
    "\n",
    "\\begin{equation}\n",
    "sC_{GD}(v_{gs} - v_o) = g_m v_{gs} + v_o\\left(sC_{GB} + \\dfrac{1}{R_o}\\right)\n",
    "\\end{equation}\n",
    "\n",
    " - From this pair of equations we obtain\n",
    " \n",
    "\\begin{equation}\n",
    "A_v(s) =\\dfrac{v_o}{v_i} = \\dfrac{(sC_{GD} - g_m)R_o}{R_S R_o\\xi s^2 + [R_S(1+g_mR_o)C_{GD} + R_SC_{GS}+R_D(C_{GD} + C_{DB})]s+1}\n",
    "\\end{equation}\n",
    "\n",
    " - where the term $\\xi$ is given by\n",
    " \n",
    "\\begin{equation}\n",
    "\\xi = C_{GS}C_{GD} + C_{GS}C_{DB} + C_{GD}C_{DB}\n",
    "\\end{equation}"
   ]
  },
  {
   "cell_type": "markdown",
   "metadata": {
    "slideshow": {
     "slide_type": "subslide"
    }
   },
   "source": [
    "## Low-frequency response"
   ]
  },
  {
   "cell_type": "markdown",
   "metadata": {},
   "source": [
    "<center><img src=common_source_LF.png\" width=600 /></center>"
   ]
  },
  {
   "cell_type": "markdown",
   "metadata": {},
   "source": [
    " - To understand the performance of the amplifier at low frequencies, we can \"open-circuit\" capacitances in the small-signal model\n",
    " - The transfer function of the common-source amplifier is given by\n",
    " \n",
    "\\begin{equation}\n",
    "A_v(s) = \\dfrac{(sC_{GD} - g_m)R_o}{R_S R_o\\xi s^2 + [R_S(1+g_mR_o)C_{GD} + R_SC_{GS}+R_o(C_{GD} + C_{DB})]s+1}\n",
    "\\end{equation}\n",
    "\n",
    " - If we let $s\\rightarrow0$, we obtain the low-frequency (DC) response\n",
    " \n",
    "\\begin{equation}\n",
    "\\lim_{s\\rightarrow 0}{A_v(s)} = -g_m R_o = -g_m r_o || R_D \\approx \\boxed{-g_m R_D}\n",
    "\\end{equation}"
   ]
  },
  {
   "cell_type": "markdown",
   "metadata": {
    "slideshow": {
     "slide_type": "subslide"
    }
   },
   "source": [
    "## High-frequency response"
   ]
  },
  {
   "cell_type": "markdown",
   "metadata": {},
   "source": [
    "<center><img src=common_source_HF.png\" width=600 /></center>"
   ]
  },
  {
   "cell_type": "markdown",
   "metadata": {},
   "source": [
    " - To assess the behavior of the circuit at high frequencies, we note that capacitances will shunt (i.e. short-circuit) other circuit elements due to the fact that their impedances are decreasing with frequency\n",
    " - As $s \\rightarrow \\infty$ in the transfer function, we obtain\n",
    " \n",
    "\\begin{equation}\n",
    "\\lim_{s\\rightarrow \\infty}{A_v(s)} = \\dfrac{C_{GD}}{sR_S(C_{GS}C_{GD} + C_{GS}C_{DB} + C_{GD}C_{DB})}\n",
    "\\end{equation}"
   ]
  },
  {
   "cell_type": "markdown",
   "metadata": {
    "slideshow": {
     "slide_type": "slide"
    }
   },
   "source": [
    "## Common-source dominant pole"
   ]
  },
  {
   "cell_type": "markdown",
   "metadata": {},
   "source": [
    " - The common-source transfer function can be expressed as\n",
    "  \n",
    "\\begin{align}\n",
    "A_v(s) &= \\dfrac{(sC_{GD} - g_m)R_o}{R_S R_o\\xi s^2 + [R_S(1+g_mR_o)C_{GD} + R_SC_{GS}+R_o(C_{GD} + C_{DB})]s+1} \\\\\n",
    "\\\\\n",
    "&=\\dfrac{(sC_{GD} - g_m)R_o}{\\dfrac{s^2}{\\omega_{p1}\\omega_{p2}} + \\left(\\dfrac{1}{\\omega_{p1}}+\\dfrac{1}{\\omega_{p2}} \\right)s + 1\n",
    "}\\end{align}\n",
    "\n",
    " - If we assume that $\\omega_{p1} << \\omega_{p2}$ (the so-called \"dominant-pole approximation\"), $\\omega_{p1}$ can be approximated as\n",
    " \n",
    "\\begin{equation}\n",
    "\\omega_{p1} \\approx \\dfrac{1}{R_S(1+g_mR_o)C_{GD} + R_SC_{GS}+R_D(C_{GD} + C_{DB})}\n",
    "\\end{equation}\n",
    " \n"
   ]
  },
  {
   "cell_type": "markdown",
   "metadata": {
    "slideshow": {
     "slide_type": "slide"
    }
   },
   "source": [
    "## Common-source frequency response"
   ]
  },
  {
   "cell_type": "markdown",
   "metadata": {},
   "source": [
    " - By making some assumptions (i.e. the dominant pole approximation) we were able to arrive at some results that provide some design insight\n",
    " - However, this was only possible after somewhat lengthy (small-signal) analysis, and this even for a circuit with only a single transistor\n",
    " - Let's look at a couple of useful methods for simplifying the frequency response analysis of MOS circuits: Miller’s Theorem and Zero-Value Time Constant Analysis"
   ]
  },
  {
   "cell_type": "markdown",
   "metadata": {
    "slideshow": {
     "slide_type": "slide"
    }
   },
   "source": [
    "## Miller's Theorem"
   ]
  },
  {
   "cell_type": "markdown",
   "metadata": {
    "cell_style": "center"
   },
   "source": [
    "<center><img src=miller_theorem.png\" width=1200 /></center>"
   ]
  },
  {
   "cell_type": "markdown",
   "metadata": {},
   "source": [
    " - Theorem: If Circuit (a) can be represented as Circuit (b), then $Z_1$ and $Z_2$ can be given by \n",
    " \n",
    "\\begin{equation}\n",
    "Z_1 = \\dfrac{Z}{1+A_v} \\:\\:\\:\\:\\:\\:\\:\\:\\:\\:\\:\\: Z_2 = Z\\cdot (1+A_v)\n",
    "\\end{equation}"
   ]
  },
  {
   "cell_type": "markdown",
   "metadata": {
    "cell_style": "center",
    "slideshow": {
     "slide_type": "subslide"
    }
   },
   "source": [
    "<center><img src=miller_theorem.png\" width=1200 /></center>"
   ]
  },
  {
   "cell_type": "markdown",
   "metadata": {},
   "source": [
    " - The current through $Z$, $i_Z$, is given by\n",
    "\n",
    "\\begin{equation}\n",
    "i_Z = \\dfrac{v_i - v_o}{Z} = \\dfrac{v_i(1 + A_v)}{Z} = \\dfrac{-v_o \\left(\\dfrac{1}{A_v}+1\\right)}{Z}\n",
    "\\end{equation}\n",
    "\n",
    " - We can then relate $Z_1$ and $Z_2$ to $i_Z$ and the node voltages $v_i$ and $v_o$\n",
    " \n",
    "\\begin{equation}\n",
    "Z_1 = \\dfrac{v_i}{i_Z} = \\dfrac{Z}{1+A_v} \\:\\:\\:\\:\\:\\:\\:\\:\\:\\:\\:\\: Z_2 = -\\dfrac{v_o}{i_Z} = \\dfrac{Z}{\\dfrac{1}{A_v}+1} = \\dfrac{A_v Z}{A_v + 1}\n",
    "\\end{equation}"
   ]
  },
  {
   "cell_type": "markdown",
   "metadata": {
    "cell_style": "center",
    "slideshow": {
     "slide_type": "subslide"
    }
   },
   "source": [
    "<center><img src=miller_capacitance.png\" width=1200 /></center>"
   ]
  },
  {
   "cell_type": "markdown",
   "metadata": {
    "cell_style": "split"
   },
   "source": [
    "\\begin{equation}\n",
    "Z_{C1} = \\dfrac{Z_C}{1+A_v} = \\dfrac{1}{sC(1+A_v)} = \\dfrac{1}{sC_1}\n",
    "\\end{equation}\n",
    "\n",
    "\\begin{equation}\n",
    "\\boxed{C_1 = (1+A_v) \\cdot C \\approx A_v \\cdot C}\n",
    "\\end{equation}"
   ]
  },
  {
   "cell_type": "markdown",
   "metadata": {
    "cell_style": "split"
   },
   "source": [
    "\\begin{equation}\n",
    "Z_{C2} = \\dfrac{A_vZ_C}{1+A_v} = \\dfrac{A_v}{sC(1+A_v)} = \\dfrac{1}{sC_2}\n",
    "\\end{equation}\n",
    "\n",
    "\\begin{equation}\n",
    "\\boxed{C_2 = \\dfrac{(1+A_v) \\cdot C}{A_v} \\approx C}\n",
    "\\end{equation}"
   ]
  },
  {
   "cell_type": "markdown",
   "metadata": {},
   "source": [
    " - Due to the amplification of $v_i$ by $A_v$, the voltage across capacitor $C$ is increased by a factor $A_v$\n",
    " - This increases the current through $C$ by the same factor ($A_v$), increasing the *effective* capacitance \"seen\" by $v_i$ ($C_1$) by $A_v$\n",
    " - From the perspective of $v_o$, $v_i$ appears as a small-signal ground, so the effective capacitance for $v_o$ ($C_2$) is just $C$"
   ]
  },
  {
   "cell_type": "markdown",
   "metadata": {
    "slideshow": {
     "slide_type": "slide"
    }
   },
   "source": [
    "## Common-source Miller approximation"
   ]
  },
  {
   "cell_type": "markdown",
   "metadata": {
    "cell_style": "center",
    "slideshow": {
     "slide_type": "-"
    }
   },
   "source": [
    "<center><img src=common_source_miller_approximation.png\" width=1200 /></center>"
   ]
  },
  {
   "cell_type": "markdown",
   "metadata": {},
   "source": [
    " - By applying Miller’s Theorem to the common-source amplifier, we greatly simplify the analysis of its frequency response\n",
    " - Note that in using Miller’s approximation, we neglect a zero in the transfer function, as well as interaction between the input and output nodes of the amplifier"
   ]
  },
  {
   "cell_type": "markdown",
   "metadata": {
    "slideshow": {
     "slide_type": "slide"
    }
   },
   "source": [
    "## Input and output poles"
   ]
  },
  {
   "cell_type": "markdown",
   "metadata": {},
   "source": [
    " - The input pole is given by\n",
    " \n",
    "\\begin{equation}\n",
    "\\omega_{p1} \\approx \\dfrac{1}{R_S( C_{GS} + A_v C_{GD}) }\n",
    "\\end{equation}\n",
    "\n",
    " - And the output pole is predicted to be\n",
    " \n",
    "\\begin{equation}\n",
    "\\omega_{p2} \\approx \\dfrac{1}{R_o(C_{DB} + C_{GD})}\n",
    "\\end{equation}\n",
    "\n",
    " - This is an intuitive approach, and it provides a fair estimate of the input pole frequency\n",
    " - However, due to its neglect of the interaction between $v_i$ and $v_o$, Miller's approach provides a poor estimate of the output pole"
   ]
  },
  {
   "cell_type": "markdown",
   "metadata": {
    "slideshow": {
     "slide_type": "slide"
    }
   },
   "source": [
    "## Zero-value time constant (ZVTC) analysis"
   ]
  },
  {
   "cell_type": "markdown",
   "metadata": {},
   "source": [
    "\\begin{equation}\n",
    "A_v(s) = \\dfrac{v_o}{v_i}(s) = \\dfrac{A_0}{(\\tau_1 s + 1)(\\tau_2 s + 1)\\cdots (\\tau_n s + 1)} = \\dfrac{A_0}{D(s)}\n",
    "\\end{equation}\n",
    "\n",
    "\\begin{equation}\n",
    "D(s) = b_n s^n + b_{n-1} s^{n-1} + \\cdots b_1 s + 1\n",
    "\\end{equation}\n",
    "\n",
    "\\begin{equation}\n",
    "A(s) \\approx \\dfrac{A_0}{b_1 s + 1} = \\dfrac{A_0}{(\\sum_{i-1}^n \\tau_i) s + 1} \\:\\:\\:\\:\\:\\:\\:\\:\\:\\:\\:\\: \\omega_{3dB} \\approx \\dfrac{1}{b_1}\n",
    "\\end{equation}"
   ]
  },
  {
   "cell_type": "markdown",
   "metadata": {},
   "source": [
    " - Transfer function an nth order polynomial with coefficients comprised of $n$ time constants\n",
    " - With the dominant pole assumption, the $3dB$ frequency can be calculated using the linear term coefficient, $b_1$"
   ]
  },
  {
   "cell_type": "markdown",
   "metadata": {
    "slideshow": {
     "slide_type": "slide"
    }
   },
   "source": [
    "## Applying the ZVTC method"
   ]
  },
  {
   "cell_type": "markdown",
   "metadata": {},
   "source": [
    " - To determine $\\tau_1 \\cdots \\tau_n$ we short the input voltage and find the resistance seen by each capacitor in the circuit\n",
    " - To find the resistance seen by the $i^{th}$ capacitor $C_i$, open-circuit (remove) the other capacitances and replace the $i^{th}$ capacitor with a test voltage\n",
    " - Compute the resistance $R_i$ by taking the ratio of the applied voltage $v_t$ to the resulting current $i_t$\n",
    " - The $i^{th}$ time constant is computed as the product of $C_i$ and $R_i$"
   ]
  },
  {
   "cell_type": "markdown",
   "metadata": {
    "slideshow": {
     "slide_type": "slide"
    }
   },
   "source": [
    "## Common-source using ZVTC"
   ]
  },
  {
   "cell_type": "markdown",
   "metadata": {
    "cell_style": "split"
   },
   "source": [
    "<center><img src=common_source_AC.png\" width=500 /></center>"
   ]
  },
  {
   "cell_type": "markdown",
   "metadata": {
    "cell_style": "split"
   },
   "source": [
    "\\begin{equation}\n",
    "\\tau_1 = R_o C_{DB}  \n",
    "\\end{equation}\n",
    "\n",
    "\\begin{equation}\n",
    "\\tau_2 = R_S C_{GS}\n",
    "\\end{equation}\n",
    "\n",
    "\\begin{equation}\n",
    "\\tau_3 = (R_o + g_m R_S R_o + R_S) C_{GD}\n",
    "\\end{equation}"
   ]
  },
  {
   "cell_type": "markdown",
   "metadata": {},
   "source": [
    "\\begin{equation}\n",
    "\\omega_{3dB} \\approx \\dfrac{1}{R_S(1+g_m R_o)C_{GD} + R_SC_{GS}+R_o(C_{DB}+C_{GD})}\n",
    "\\end{equation}"
   ]
  },
  {
   "cell_type": "markdown",
   "metadata": {},
   "source": [
    " - We arrive at an accurate expression for $\\omega_{p1}$ by an intuitive approach\n",
    " - The ZVTC method still has limitations (e.g. when poles are close together) \n",
    " - We should combine the ZVTC method with SPICE/Cadence for design"
   ]
  },
  {
   "cell_type": "markdown",
   "metadata": {
    "slideshow": {
     "slide_type": "slide"
    }
   },
   "source": [
    "## Dominant-pole behavior"
   ]
  },
  {
   "cell_type": "markdown",
   "metadata": {
    "cell_style": "split"
   },
   "source": [
    "<center><img src=active_common_source.png\" width=400 /></center>"
   ]
  },
  {
   "cell_type": "markdown",
   "metadata": {
    "cell_style": "split"
   },
   "source": [
    " - DC gain:\n",
    " \n",
    "\\begin{equation}\n",
    "A_{v,DC} = -g_m R_o\n",
    "\\end{equation}\n",
    "\n",
    " - Output pole:\n",
    " \n",
    "\\begin{equation}\n",
    "\\omega_{3dB} \\approx \\dfrac{1}{R_o C_L}\n",
    "\\end{equation}"
   ]
  },
  {
   "cell_type": "markdown",
   "metadata": {},
   "source": [
    " - For many applications we need to assume (or guarantee) that our amplifiers exhibit behavior similar to that of single-pole circuits (this is for stability reasons, which we’ll discuss later)\n",
    " - We do this by ensuring one pole is “dominant,” i.e. much lower in frequency than other poles\n",
    " - Here we are assuming that $C_L$ is large enough for us to ignore other \"parasitic\" capacitances"
   ]
  },
  {
   "cell_type": "markdown",
   "metadata": {
    "slideshow": {
     "slide_type": "slide"
    }
   },
   "source": [
    "## Gain-bandwidth product"
   ]
  },
  {
   "cell_type": "markdown",
   "metadata": {
    "cell_style": "split"
   },
   "source": [
    "<center><img src=active_common_source.png\" width=400 /></center>"
   ]
  },
  {
   "cell_type": "markdown",
   "metadata": {
    "cell_style": "split"
   },
   "source": [
    " - DC gain:\n",
    " \n",
    "\\begin{equation}\n",
    "A_{v,DC} = -g_m R_o\n",
    "\\end{equation}\n",
    "\n",
    " - Output pole:\n",
    " \n",
    "\\begin{equation}\n",
    "\\omega_{3dB} \\approx \\dfrac{1}{R_o C_L}\n",
    "\\end{equation}"
   ]
  },
  {
   "cell_type": "markdown",
   "metadata": {},
   "source": [
    " - If we assume dominant-pole behavior for the common-source amplifier, we can evaluate its gain-bandwidth product as\n",
    " \n",
    "\\begin{equation}\n",
    "GBW \\approx |A_{v,DC}|\\cdot f_{3dB} = g_m R_o \\cdot \\dfrac{1}{2 \\pi R_o C_L} = \\dfrac{g_m}{2\\pi C_L}\n",
    "\\end{equation}\n",
    "\n",
    " - In many practical cases the gain-bandwidth product turns out to be a constant that is *independent of output resistance*\n",
    " - This can be explained by the observation that as $R_o$ increases, gain increases while bandwidth decreases, keeping their product constant"
   ]
  },
  {
   "cell_type": "markdown",
   "metadata": {
    "slideshow": {
     "slide_type": "slide"
    }
   },
   "source": [
    "## Summary"
   ]
  },
  {
   "cell_type": "markdown",
   "metadata": {},
   "source": [
    " - The high-frequency behavior of MOS amplifiers is limited by intrinsic and extrinsic transistor capacitances\n",
    " - The frequency dependence of an amplifier's gain, input, and output impedances can be quantified in terms of poles and zeros contributed by those capacitances\n",
    " - The dominant pole of a common-source amplifier can be estimated via rigorous small-signal analysis, Miller's Theorem, or ZVTC analysis, though only the full small-signal transfer function can provide accurate assessments of non-dominant poles\n",
    " - When designing MOS analog circuits, we will use the dominant-pole approximation to provide an estimate of the gain-bandwidth product, and only include the effects of other \"non-dominant\" poles when analyzing stability"
   ]
  }
 ],
 "metadata": {
  "celltoolbar": "Slideshow",
  "kernelspec": {
   "display_name": "Python 3",
   "language": "python",
   "name": "python3"
  },
  "language_info": {
   "codemirror_mode": {
    "name": "ipython",
    "version": 3
   },
   "file_extension": ".py",
   "mimetype": "text/x-python",
   "name": "python",
   "nbconvert_exporter": "python",
   "pygments_lexer": "ipython3",
   "version": "3.8.2"
  },
  "livereveal": {
   "controls": false,
   "scroll": true,
   "theme": "simple"
  },
  "rise": {
   "enable_chalkboard": true,
   "slideNumber": true
  }
 },
 "nbformat": 4,
 "nbformat_minor": 4
}
