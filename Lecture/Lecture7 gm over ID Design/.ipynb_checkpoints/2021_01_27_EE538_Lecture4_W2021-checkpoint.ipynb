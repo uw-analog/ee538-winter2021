{
 "cells": [
  {
   "cell_type": "markdown",
   "metadata": {
    "cell_style": "center",
    "slideshow": {
     "slide_type": "slide"
    }
   },
   "source": [
    "# EE 538: Analog Integrated Circuit Design\n",
    "\n",
    "## Winter 2021\n",
    "\n",
    "## Instructor: Jason Silver"
   ]
  },
  {
   "cell_type": "markdown",
   "metadata": {
    "slideshow": {
     "slide_type": "skip"
    }
   },
   "source": [
    "## Python packages/modules"
   ]
  },
  {
   "cell_type": "code",
   "execution_count": 2,
   "metadata": {
    "slideshow": {
     "slide_type": "skip"
    }
   },
   "outputs": [],
   "source": [
    "import matplotlib as mpl\n",
    "from matplotlib import pyplot as plt\n",
    "import numpy as np\n",
    "from scipy import signal\n",
    "#%matplotlib notebook\n",
    "\n",
    "mpl.rcParams['font.size'] = 12\n",
    "mpl.rcParams['legend.fontsize'] = 'large'\n",
    "\n",
    "def plot_xy(x, y, xlabel, ylabel):\n",
    "    fig, ax = plt.subplots(figsize=(10.0, 7.5));\n",
    "    ax.plot(x, y, 'b');\n",
    "    ax.grid();\n",
    "    ax.set_xlabel(xlabel);\n",
    "    ax.set_ylabel(ylabel);\n",
    "    \n",
    "def plot_xy2(x1, y1, x1label, y1label, x2, y2, x2label, y2label):\n",
    "    fig, ax = plt.subplots(2, figsize = (10.0, 7.5));\n",
    "    ax[0].plot(x1, y1, 'b');\n",
    "    ax[0].set_ylabel(y1label)\n",
    "    ax[0].grid()\n",
    "    \n",
    "    ax[1].plot(x2, y2, 'b');\n",
    "    ax[1].set_xlabel(x1label)\n",
    "    ax[1].set_xlabel(x2label);\n",
    "    ax[1].set_ylabel(y2label);\n",
    "    ax[1].grid();\n",
    "    \n",
    "    fig.align_ylabels(ax[:])\n",
    "    \n",
    "def plot_xlogy(x, y, xlabel, ylabel):\n",
    "    fig, ax = plt.subplots(figsize=(10.0, 7.5));\n",
    "    ax.semilogy(x, y, 'b');\n",
    "    ax.grid();\n",
    "    ax.set_xlabel(xlabel);\n",
    "    ax.set_ylabel(ylabel);\n",
    "    \n",
    "def nmos_iv_sweep(V_gs, V_ds, W, L, lmda):\n",
    "    u_n = 350                 # electron mobility (device parameter)\n",
    "    e_ox = 3.9*8.854e-12/100; # relative permittivity\n",
    "    t_ox = 9e-9*100;          # oxide thickness\n",
    "    C_ox = e_ox/t_ox          # oxide capacitance\n",
    "    V_thn = 0.7                # threshold voltage (device parameter)\n",
    "    V_ov = V_gs - V_thn\n",
    "    Ldn = 0.08e-6\n",
    "    Leff = L - 2*Ldn\n",
    "    \n",
    "    I_d = []\n",
    "    \n",
    "    for i in range(len(V_ds)):\n",
    "        I_d.append(np.piecewise(V_ds[i], [V_ds[i] < V_ov, V_ds[i] >= V_ov],\n",
    "                       [u_n*C_ox*(W/Leff)*(V_gs - V_thn - V_ds[i]/2)*V_ds[i]*(1+lmda*V_ds[i]) , \n",
    "                        0.5*u_n*C_ox*(W/Leff)*(V_gs - V_thn)**2*(1+lmda*V_ds[i])])) \n",
    "    \n",
    "    return np.array(I_d)\n",
    "\n",
    "def pmos_iv_sweep(V_sg, V_sd, W, L, lmda):\n",
    "    u_p = 100                 # electron mobility (device parameter)\n",
    "    e_ox = 3.9*8.854e-12/100; # relative permittivity\n",
    "    t_ox = 9e-9*100;          # oxide thickness\n",
    "    C_ox = e_ox/t_ox          # oxide capacitance\n",
    "    V_thp = -0.8                # threshold voltage (device parameter)\n",
    "    V_ov = V_sg - np.abs(V_thp)\n",
    "    Ldp = 0.09e-6\n",
    "    Leff = L - 2*Ldp\n",
    "    \n",
    "    I_d = []\n",
    "    \n",
    "    for i in range(len(V_sd)):\n",
    "        I_d.append(np.piecewise(V_sd[i], [V_sd[i] < V_ov, V_sd[i] >= V_ov],\n",
    "                       [u_p*C_ox*(W/Leff)*(V_sg - np.abs(V_thp) - V_sd[i]/2)*V_sd[i]*(1+lmda*V_sd[i]) , \n",
    "                        0.5*u_p*C_ox*(W/Leff)*(V_sg - np.abs(V_thp))**2*(1+lmda*V_sd[i])])) \n",
    "    \n",
    "    return np.array(I_d)\n",
    "\n",
    "def nmos_iv_sat(V_gs, V_ds, W, L, lmda):\n",
    "    u_n = 350                 # electron mobility (device parameter)\n",
    "    e_ox = 3.9*8.854e-12/100; # relative permittivity\n",
    "    t_ox = 9e-9*100;          # oxide thickness\n",
    "    C_ox = e_ox/t_ox          # oxide capacitance\n",
    "    V_thn = 0.7                # threshold voltage (device parameter)\n",
    "    V_ov = V_gs - V_thn\n",
    "    Ldn = 0.08e-6\n",
    "    Leff = L - 2*Ldn\n",
    "    \n",
    "    I_d = 0.5*u_n*C_ox*(W/Leff)*(V_gs - V_thn)**2*(1+lmda*V_ds)\n",
    "    \n",
    "    return I_d"
   ]
  },
  {
   "cell_type": "markdown",
   "metadata": {
    "slideshow": {
     "slide_type": "slide"
    }
   },
   "source": [
    "# Lecture 4 - Biasing of Analog Circuits"
   ]
  },
  {
   "cell_type": "markdown",
   "metadata": {
    "slideshow": {
     "slide_type": "slide"
    }
   },
   "source": [
    "## Announcements"
   ]
  },
  {
   "cell_type": "markdown",
   "metadata": {
    "slideshow": {
     "slide_type": "-"
    }
   },
   "source": [
    " - Assignment 3 posted, due Sunday January 31\n",
    "     - PDF submission on Canvas"
   ]
  },
  {
   "cell_type": "markdown",
   "metadata": {
    "slideshow": {
     "slide_type": "slide"
    }
   },
   "source": [
    "## Week 4"
   ]
  },
  {
   "cell_type": "markdown",
   "metadata": {},
   "source": [
    " - Chapter 3 of Razavi (single-stage amplifiers)\n",
    "     - Section 3.6 Cascode Stage\n",
    " - Chapter 5 of Razavi (current mirrors)\n",
    "     - Section 5.1 Basic Current Mirrors\n",
    "     - Section 5.2 Cascode Current Mirrors"
   ]
  },
  {
   "cell_type": "markdown",
   "metadata": {
    "slideshow": {
     "slide_type": "slide"
    }
   },
   "source": [
    "## Overview"
   ]
  },
  {
   "cell_type": "markdown",
   "metadata": {},
   "source": [
    " - Last time...\n",
    "     - Source degeneration\n",
    "     - Cascode current mirror\n",
    "     - Cascode amplifier\n",
    "     - Body effect\n",
    "     - Cascode biasing\n",
    " - Today...\n",
    "    - Amplifier output swing\n",
    "    - Current references\n",
    "    - Low-voltage cascode biasing"
   ]
  },
  {
   "cell_type": "markdown",
   "metadata": {
    "slideshow": {
     "slide_type": "slide"
    }
   },
   "source": [
    "## Output swing: common-source amplifier"
   ]
  },
  {
   "cell_type": "markdown",
   "metadata": {
    "cell_style": "center"
   },
   "source": [
    "<center><img src=\"CS_active_swing.png\" width=1200 /></center>"
   ]
  },
  {
   "cell_type": "markdown",
   "metadata": {
    "cell_style": "center"
   },
   "source": [
    "\\begin{align}\n",
    "V_{swing} &= V_{max} - V_{min}\\\\\n",
    "&= V_{DD} - V_{OV2} - V_{OV1}\\\\\n",
    "&\\approx \\boxed{ V_{DD} - 2V_{OV} }\n",
    "\\end{align}"
   ]
  },
  {
   "cell_type": "markdown",
   "metadata": {},
   "source": [
    " - The output swing of a common source stage is $V_{DD} – 2V_{OV}$\n",
    " \n",
    " - Common source amplifier thus requires an “overhead” of $2V_{OV}$\n",
    " \n",
    " - This structure is often used where wide output swing is required"
   ]
  },
  {
   "cell_type": "markdown",
   "metadata": {
    "slideshow": {
     "slide_type": "slide"
    }
   },
   "source": [
    "## Output swing: CS with source-degenerated load"
   ]
  },
  {
   "cell_type": "markdown",
   "metadata": {
    "cell_style": "center"
   },
   "source": [
    "<center><img src=\"CS_degenerated_load_swing.png\" width=1000 /></center>"
   ]
  },
  {
   "cell_type": "markdown",
   "metadata": {
    "cell_style": "center"
   },
   "source": [
    "\\begin{align}\n",
    "V_{swing} &= V_{max} - V_{min}\\\\\n",
    "&= V_{DD} - I_{D2}R_S - V_{OV2} - V_{OV1}\\\\\n",
    "&\\approx \\boxed{ V_{DD} - I_{D2}R_S - 2V_{OV} }\n",
    "\\end{align}"
   ]
  },
  {
   "cell_type": "markdown",
   "metadata": {},
   "source": [
    " - Degenerated load adds $I_D R_S$ overhead\n",
    " \n",
    " - Overhead depends on value of $R_S$, as does $R_o$ (tradeoff between gain and headroom)\n",
    " \n",
    " - Simple structure, only requires the addition of resistors but no additional bias transistors"
   ]
  },
  {
   "cell_type": "markdown",
   "metadata": {
    "slideshow": {
     "slide_type": "slide"
    }
   },
   "source": [
    "## Output swing: cascode amplifier"
   ]
  },
  {
   "cell_type": "markdown",
   "metadata": {
    "cell_style": "center"
   },
   "source": [
    "<center><img src=\"cascode_amplifier_swing.png\" width=1100 /></center>"
   ]
  },
  {
   "cell_type": "markdown",
   "metadata": {
    "cell_style": "center"
   },
   "source": [
    "\\begin{align}\n",
    "V_{swing} &= V_{max} - V_{min}\\\\\n",
    "&= V_{DD} - V_{SG,4,7} - V_{OV3} - V_{GS8} - V_{OV2}\\\\\n",
    "&\\approx \\boxed{ V_{DD} - 2V_{GS} - 2V_{OV} }\n",
    "\\end{align}"
   ]
  },
  {
   "cell_type": "markdown",
   "metadata": {},
   "source": [
    " - Diode-connections of $M_7$ and $M_8$ add $V_{SG}$, $V_{GS}$ overhead\n",
    " \n",
    " - $V_{GS} \\geq V_{th}$, typically, so headroom depends on device threshold(s)\n",
    " \n",
    " - Need a means of biasing the cascode amplifier that uses less headroom"
   ]
  },
  {
   "cell_type": "markdown",
   "metadata": {
    "cell_style": "center",
    "slideshow": {
     "slide_type": "slide"
    }
   },
   "source": [
    "## Biasing of MOS circuits"
   ]
  },
  {
   "cell_type": "markdown",
   "metadata": {},
   "source": [
    " - Design of MOS circuits involves selection of drain currents and aspect ratios ($W/L$) for all devices in a circuit\n",
    " \n",
    " - The combination of drain current and $W/L$ determines the *current density* of each device, $I_D/W\n",
    "$, which in turn sets the overdrive voltage $V_{OV}$\n",
    "\n",
    " - For example, if we ignore channel-length modulation MOS drain current is given by\n",
    "\n",
    "\\begin{equation}\n",
    "I_D \\approx \\dfrac{1}{2}\\mu C_{ox} \\dfrac{W}{L}V_{OV}^2\n",
    "\\end{equation}\n",
    "\n",
    " - Assuming a constant value for $L$, this results in a direct dependence of overdrive on drain current density\n",
    "\n",
    "\\begin{equation}\n",
    "V_{OV} = \\sqrt{\\dfrac{2I_D}{\\mu C_{ox} \\dfrac{W}{L}}} = \\sqrt{\\dfrac{I_D}{W}\\cdot\\dfrac{2L}{\\mu C_{ox}}}\n",
    "\\end{equation}\n",
    "\n",
    " - As a result, the voltage headroom (i.e. swing) of a circuit is determined by the current densities of transistors in the signal path\n"
   ]
  },
  {
   "cell_type": "markdown",
   "metadata": {
    "slideshow": {
     "slide_type": "slide"
    }
   },
   "source": [
    "## Simple current reference"
   ]
  },
  {
   "cell_type": "markdown",
   "metadata": {
    "cell_style": "split"
   },
   "source": [
    "<center><img src=\"simple_current_reference.png\" width=500 /></center>"
   ]
  },
  {
   "cell_type": "markdown",
   "metadata": {
    "cell_style": "split"
   },
   "source": [
    " - The current in $M_1$ is set by the voltage drop across $R_{BIAS}$\n",
    "\n",
    "\\begin{equation}\n",
    "I_{D1} = \\dfrac{V_{DD}-V_{SG1}}{R_{BIAS}}\n",
    "\\end{equation}\n",
    "\n",
    " - $V_{SG}$ of $M_1$ is given by\n",
    " \n",
    "\\begin{equation}\n",
    "V_{SG1} = |V_{thp}| + \\sqrt{\\dfrac{2I_{D1}}{\\mu_p C_{ox}\\left(\\frac{W}{L}\\right)_1}}\n",
    "\\end{equation}"
   ]
  },
  {
   "cell_type": "markdown",
   "metadata": {},
   "source": [
    " - A simple current reference can be created using a diode-connected MOS device in series with a resistance between $V_{DD}$ and ground\n",
    " \n",
    " - However, variations in (primarily) $V_{DD}$, $V_{thp}$, and $R_{BIAS}$ result in an $I_{BIAS}$ that vary significantly with manufacturing (process) and temperature\n",
    " \n",
    " - These variations are collectively known as \"PVT\" (process, voltage, temperature), and significant effort is invested in making analog circuits robust against these sources of variability\n",
    " "
   ]
  },
  {
   "cell_type": "markdown",
   "metadata": {
    "slideshow": {
     "slide_type": "slide"
    }
   },
   "source": [
    "## Supply-independent reference"
   ]
  },
  {
   "cell_type": "markdown",
   "metadata": {
    "cell_style": "center"
   },
   "source": [
    "<center><img src=\"current_reference.png\" width=800 /></center>"
   ]
  },
  {
   "cell_type": "markdown",
   "metadata": {
    "cell_style": "center"
   },
   "source": [
    " - A more reliable means of generating bias currents involves \"self-biased,\" supply-independent reference circuits\n",
    "\n",
    " - In the circuit depicted here, often called a \"constant $g_m$\" reference, $I_{D2}$ is given by\n",
    " \n",
    "\\begin{equation}\n",
    "I_{D2} = \\dfrac{V_{S2}}{R_S} = \\dfrac{V_{BN}-V_{GS2}}{R_S} = \\dfrac{V_{GS1}-V_{GS2}}{R_S} = \\dfrac{\\Delta V_{GS}}{R_S}\n",
    "\\end{equation}\n",
    "\n",
    " - $\\Delta V_{GS}$ depends on the ratio of $(W/L)_2$ to $(W/L)_1$, which is independent of $V_{DD}$ "
   ]
  },
  {
   "cell_type": "markdown",
   "metadata": {
    "slideshow": {
     "slide_type": "slide"
    }
   },
   "source": [
    "## Cascode current mirror"
   ]
  },
  {
   "cell_type": "markdown",
   "metadata": {
    "cell_style": "split"
   },
   "source": [
    "<center><img src=\"cascode_current_mirror.png\" width=900 /></center>"
   ]
  },
  {
   "cell_type": "markdown",
   "metadata": {
    "cell_style": "split"
   },
   "source": [
    " - Assuming $I_{D1} = I_{D3}$, we can write\n",
    "\n",
    "\\begin{equation}\n",
    "V_{S2} = V_{D1} = V_{GS3} = V_{GS1}\n",
    "\\end{equation}\n",
    "\n",
    "- To keep $M_2$ in saturation, $V_{out}$ needs to satisify\n",
    "\n",
    "\\begin{equation}\n",
    "V_{out} - V_{S2} > V_{GS2} - V_{th2} \n",
    "\\end{equation}\n",
    "\n",
    "- This sets the minimum value of $V_{out}$ to be\n",
    "\n",
    "\\begin{equation}\n",
    "V_{out} > V_{GS1} + V_{GS2} - V_{th2} = V_{GS1} + V_{OV2}\n",
    "\\end{equation}"
   ]
  },
  {
   "cell_type": "markdown",
   "metadata": {},
   "source": [
    " - Cascode current mirrors are employed everywhere high precision (or high gain) is needed\n",
    " \n",
    " - However, the basic cascode current mirror has a headroom problem, because $V_{out}$ needs to be greater than $2V_{OV}$ to ensure saturation for both $M_1$ and $M_2$\n",
    " \n",
    " - To improve upon this, we need to modify the approach used to generate $V_{BN1}$ and $V_{BN2}$"
   ]
  },
  {
   "cell_type": "markdown",
   "metadata": {
    "slideshow": {
     "slide_type": "slide"
    }
   },
   "source": [
    "## Low-voltage cascode bias"
   ]
  },
  {
   "cell_type": "markdown",
   "metadata": {
    "cell_style": "split"
   },
   "source": [
    "<center><img src=\"cascode_current_source.png\" width=800 /></center>"
   ]
  },
  {
   "cell_type": "markdown",
   "metadata": {
    "cell_style": "split"
   },
   "source": [
    " \n",
    " - To minimize the headroom required by the cascode current source, $M_2$ should be biased such that \n",
    " \n",
    "\\begin{equation}\n",
    "V_{S2} = V_{D1} \\approx V_{OV1}\n",
    "\\end{equation}\n",
    "\n",
    " - We can achieve this by selecting a value for $V_{BN2}$ that satisfies\n",
    " \n",
    "\\begin{equation}\n",
    "V_{BN2} = V_{OV1} + V_{GS2}\n",
    "\\end{equation}\n",
    "\n",
    " - In this case, the minimum output voltage would be given by\n",
    " \n",
    "\\begin{equation}\n",
    "V_{out} > V_{OV1} + V_{OV2} \\approx 2V_{OV}\n",
    "\\end{equation}\n",
    "\n",
    " - How can we generate $V_{BN1}$ and $V_{BN2}$ to achieve this? "
   ]
  },
  {
   "cell_type": "markdown",
   "metadata": {
    "slideshow": {
     "slide_type": "slide"
    }
   },
   "source": [
    "## Generation of V<sub>BN1</sub>"
   ]
  },
  {
   "cell_type": "markdown",
   "metadata": {
    "cell_style": "split"
   },
   "source": [
    "<center><img src=\"cascode_VBN1.png\" width=900 /></center>"
   ]
  },
  {
   "cell_type": "markdown",
   "metadata": {
    "cell_style": "split"
   },
   "source": [
    " \n",
    " - $V_{BN1}$ is generated by diode-connecting $M_3$ ($M_3$ and $M_1$ form a current mirror)\n",
    " \n",
    " - The presence of $M_4$ does not affect the value of $V_{BN1}$, but $V_{BN1}$ needs to be high enough to keep $M_4$ in saturation\n",
    " \n",
    " - Our goal is to select a value of $V_{BN2}$ that is high enough to keep $M_1$ ($M_3$) in saturation, but no higher than this\n",
    " \n",
    " - Once again, if we assume that the drain voltage of $M_1$ is *exactly* equal to $V_{OV1}$, the minimum value of $V_{out}$ will be $V_{OV1} + V_{OV2}$\n",
    " \n",
    " - The value of $V_{BN2}$ that achieves this is\n",
    " \n",
    "\\begin{equation}\n",
    "V_{BN2} = V_{OV1} + V_{GS4}\n",
    "\\end{equation}"
   ]
  },
  {
   "cell_type": "markdown",
   "metadata": {
    "slideshow": {
     "slide_type": "slide"
    }
   },
   "source": [
    "## Generation of V<sub>BN2</sub>"
   ]
  },
  {
   "cell_type": "markdown",
   "metadata": {
    "cell_style": "split"
   },
   "source": [
    "<center><img src=\"cascode_VBN2_a.png\" width=1200 /></center>"
   ]
  },
  {
   "cell_type": "markdown",
   "metadata": {
    "cell_style": "split"
   },
   "source": [
    " \n",
    " - One method of generating $𝑉_{BN1}$ is shown here\n",
    " \n",
    " - Remember, we just need to ensure that\n",
    " \n",
    "\\begin{equation}\n",
    "V_{BN2} = V_{OV1} + V_{BN1}\n",
    "\\end{equation}\n",
    "\n",
    " - To achieve this, we note that\n",
    "\n",
    "\\begin{equation}\n",
    "V_{BN2} = V_{GS5} + V_{GS6} - I_{BIAS2}\\cdot R\n",
    "\\end{equation}\n",
    "\n",
    " - This results in the following condition for the resistance $R$\n",
    " \n",
    "\\begin{align}\n",
    "R &= \\dfrac{V_{GS5} + V_{GS6} - V_{BN2} }{I_{BIAS2}} = \\dfrac{V_{GS5} + V_{GS6} - V_{OV1} - V_{BN1} }{I_{BIAS2}}\n",
    "\\end{align}\n",
    "\n",
    " - If all values of $V_{GS}$ are considered to be approximately equal, this results in\n",
    " \n",
    "\\begin{equation}\n",
    "R \\approx \\dfrac{V_{thn}}{I_{BIAS2}}\n",
    "\\end{equation}"
   ]
  },
  {
   "cell_type": "markdown",
   "metadata": {
    "slideshow": {
     "slide_type": "slide"
    }
   },
   "source": [
    "## Low-overhead PMOS cascode bias"
   ]
  },
  {
   "attachments": {},
   "cell_type": "markdown",
   "metadata": {
    "cell_style": "split"
   },
   "source": [
    "<center><img src=\"PMOS_cascode_bias.png\" width=800 /></center>"
   ]
  },
  {
   "cell_type": "markdown",
   "metadata": {
    "cell_style": "split"
   },
   "source": [
    " - To guarantee saturation for $M_2$ and $M_4$ and use minimal headroom, we need to ensure that\n",
    "\n",
    "\\begin{equation}\n",
    "V_{BP1} \\approx V_{DD} - V_{OV4} - V_{SG2}\n",
    "\\end{equation}\n",
    "\n",
    " - As with the $NMOS$ version of the circuit, the above expression  needs to be related to the following\n",
    " \n",
    "\\begin{equation}\n",
    "V_{BP1} = V_{DD} - V_{SG7} - V_{SG6} + I_{BIAS2}\\cdot R_1\n",
    "\\end{equation}\n",
    "\n",
    " - Equation the two results in an expression for $R_1$ that we can use for design:\n",
    " \n",
    "\\begin{equation}\n",
    "R_1 = \\dfrac{V_{SG7}+V_{SG6}-V_{SG2}-V_{OV4}}{I_{BIAS2}}\n",
    "\\end{equation}"
   ]
  },
  {
   "cell_type": "markdown",
   "metadata": {
    "slideshow": {
     "slide_type": "slide"
    }
   },
   "source": [
    "## Alternate realization of V<sub>BN2</sub> (self-biased cascode)"
   ]
  },
  {
   "cell_type": "markdown",
   "metadata": {
    "cell_style": "split"
   },
   "source": [
    "<center><img src=\"cascode_self_biased.png\" width=900 /></center>"
   ]
  },
  {
   "cell_type": "markdown",
   "metadata": {
    "cell_style": "split"
   },
   "source": [
    " \n",
    " - One disadvantage of the previous biasing schemes is the need for an extra current branch, which increases power and cirucuit area\n",
    " \n",
    " - The configuration here generates $V_{BN1}$ and $V_{BN2}$ without the additional current branch\n",
    " \n",
    " - $R$ should be selected such that\n",
    "\n",
    "\\begin{equation}\n",
    "V_{BN1} + I_{BIAS}\\cdot R = V_{OV1} + V_{GS2}\n",
    "\\end{equation}\n",
    "\n",
    " - This results in \n",
    " \n",
    "\\begin{equation}\n",
    "R = \\dfrac{V_{GS2} - V_{th1}}{I_{BIAS}}\n",
    "\\end{equation}\n",
    "\n",
    " - Assuming $V_{th1} \\approx V_{th2}$, the voltage drop across $R$ is equal to the overdrive voltage of $M_{2,4}$ (say, ~$200mV$)\n",
    "\n",
    " - Note that resistance and $MOS$ parameters will vary differently due to process and temperature, so $R$ should be selected to take this into account (simulations required)"
   ]
  },
  {
   "cell_type": "markdown",
   "metadata": {
    "slideshow": {
     "slide_type": "slide"
    }
   },
   "source": [
    "## Where we're headed"
   ]
  },
  {
   "cell_type": "markdown",
   "metadata": {
    "cell_style": "split"
   },
   "source": [
    "<center><img src=\"telescopic_ota.png\" width=900 /></center>"
   ]
  },
  {
   "cell_type": "markdown",
   "metadata": {
    "cell_style": "split"
   },
   "source": [
    " - We want to create a high-gain amplifier with differential inputs, referred to either as an opamp or an *operational transconductance amplifier (OTA)*\n",
    " \n",
    " - $M_1$, $M_2$, and $M_{11}$ are used as transconductance (gain) transistors\n",
    " \n",
    " - $M_{7,8}$ and $M_{12,13}$ act as current sources, while $M_{3,4}$, $M_{5,6}$, and $M_{9,10}$ are used as cascode devices\n",
    " \n",
    " - $C_c$ is a \"compensation\" capacitor that sets the bandwidth of the amplifier\n",
    " \n",
    " - $C_L$ is a load capacitor, representing the capacitance associated with potential interface circuitry\n",
    " \n",
    " - With this structure (or something very similar), we can use feedback to realize precise voltage gain for various applications"
   ]
  },
  {
   "cell_type": "markdown",
   "metadata": {
    "slideshow": {
     "slide_type": "slide"
    }
   },
   "source": [
    "## Single-ended amplifiers"
   ]
  },
  {
   "cell_type": "markdown",
   "metadata": {
    "cell_style": "split"
   },
   "source": [
    "<center><img src=\"common_source_single_ended.png\" width=600 /></center>"
   ]
  },
  {
   "cell_type": "markdown",
   "metadata": {
    "cell_style": "split"
   },
   "source": [
    " - \"Single-ended\" circuits are those whose inputs/outputs are referenced to a $DC$ voltage (usually $V_{DD}$ or $GND$)\n",
    " \n",
    " - Supply voltages are not ideal $DC$ voltages, but have time-varying content in the form of noise/disturbances (e.g. $V_{DD} = V_{DD0} + v_n$)\n",
    "  \n",
    " - In the case of a resistively-loaded commmon-source amplifier supply noise adds directly to the amplifier output:\n",
    " \n",
    "\\begin{align}\n",
    "V_{o} &= V_{DD} - I_D\\cdot R_D \\\\\n",
    "\\\\\n",
    "&= V_{DD0} + v_n - (I_{DC} + g_m v_i)R_D\n",
    "\\end{align}\n",
    "\n",
    " - The small-signal output voltage is thus\n",
    " \n",
    "\\begin{equation}\n",
    "v_o = -g_m\\cdot v_i R_D + v_n\n",
    "\\end{equation}\n",
    "\n",
    " - How can we mitigate this?\n",
    " \n",
    " "
   ]
  },
  {
   "cell_type": "markdown",
   "metadata": {
    "slideshow": {
     "slide_type": "slide"
    }
   },
   "source": [
    "## Summary"
   ]
  },
  {
   "cell_type": "markdown",
   "metadata": {},
   "source": [
    " - Current source precision and high gain both require current sources with high output impedance\n",
    " \n",
    " - Cascode current sources provide this, but the simple cascode mirror substantially reduces headroom\n",
    "     \n",
    "     - The minimum voltage required for a standard cascode current source is $V_{GS} + V_{OV}$\n",
    " \n",
    " - Cascode bias structures can be used that result in a cascode current source overhead approximately equal to $2V_{OV}$"
   ]
  }
 ],
 "metadata": {
  "celltoolbar": "Slideshow",
  "kernelspec": {
   "display_name": "Python 3",
   "language": "python",
   "name": "python3"
  },
  "language_info": {
   "codemirror_mode": {
    "name": "ipython",
    "version": 3
   },
   "file_extension": ".py",
   "mimetype": "text/x-python",
   "name": "python",
   "nbconvert_exporter": "python",
   "pygments_lexer": "ipython3",
   "version": "3.8.2"
  },
  "livereveal": {
   "controls": false,
   "scroll": true,
   "theme": "simple"
  },
  "rise": {
   "enable_chalkboard": true,
   "slideNumber": true
  }
 },
 "nbformat": 4,
 "nbformat_minor": 4
}
