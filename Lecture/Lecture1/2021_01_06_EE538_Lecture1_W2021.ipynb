{
 "cells": [
  {
   "cell_type": "markdown",
   "metadata": {
    "cell_style": "center",
    "slideshow": {
     "slide_type": "slide"
    }
   },
   "source": [
    "# EE 538: Analog Integrated Circuit Design\n",
    "\n",
    "## Winter 2021\n",
    "\n",
    "## Instructor: Jason Silver"
   ]
  },
  {
   "cell_type": "markdown",
   "metadata": {
    "slideshow": {
     "slide_type": "slide"
    }
   },
   "source": [
    "## EE 538 basics I"
   ]
  },
  {
   "cell_type": "markdown",
   "metadata": {
    "slideshow": {
     "slide_type": "-"
    }
   },
   "source": [
    " - Instructor\n",
    "     - Jason Silver\n",
    "     - Office hours TBD via Google poll\n",
    " - Teaching assistant\n",
    "     - Thushara Maria Xavier\n",
    "     - Office hours TBD\n",
    " - Web page: [EE 538 Winter 2021 (Canvas)](https://canvas.uw.edu/courses/1448967)\n",
    "     - Access assignments, grades, and solutions\n",
    " - Slack\n",
    "     - [EE 538 Winter 2021 Slack workspace](https://join.slack.com/t/uwaic2021/shared_invite/zt-k8e4c07p-6mkI7JSqfLv_lYJ21zW2ZQ)\n",
    "     - Use Slack to ask questions about assignments and projects\n",
    "     - Participation in online discussion benefits everyone!\n",
    "     \n",
    "         "
   ]
  },
  {
   "cell_type": "markdown",
   "metadata": {
    "slideshow": {
     "slide_type": "slide"
    }
   },
   "source": [
    "## EE 538 basics II"
   ]
  },
  {
   "cell_type": "markdown",
   "metadata": {
    "slideshow": {
     "slide_type": "-"
    }
   },
   "source": [
    " - There are no official prerequisites, but it will be helpful to have some familiarity with\n",
    "     - Elementary circuit theory\n",
    "        - KVL, KCL, Thevenin equivalent circuits, Laplace/Fourier transforms\n",
    "     - Semiconductor device operation and circuit analysis \n",
    "         - Diodes, FETs, BJTs\n",
    "     - Basic linear systems\n",
    "         - Frequency response, poles, zeros, Bode plots\n",
    "     - Circuit simulation with some flavor of SPICE (__S__imulation __P__rogram with __I__ntegrated __C__ircuit __E__mphasis)\n",
    " \n",
    "         \n",
    "         "
   ]
  },
  {
   "cell_type": "markdown",
   "metadata": {
    "slideshow": {
     "slide_type": "slide"
    }
   },
   "source": [
    "## About your instructor"
   ]
  },
  {
   "cell_type": "markdown",
   "metadata": {
    "slideshow": {
     "slide_type": "-"
    }
   },
   "source": [
    " - PhD from UW EE in 2015\n",
    "     - Low power integrated circuit (IC) design for bioelectrical interfaces\n",
    "         - EEG, EMG, neural recording\n",
    "     - Focus on optimizing for power efficiency\n",
    " - 13 years experience designing ICs and systems for academia and industry\n",
    "     - Mixed-signal design for biomedical applications\n",
    " - Current full-time role\n",
    "     - Director of Hardware and Biosystems Engineering at Curi Bio\n",
    "         - Formerly housed in UW CoMotion startup incubator (Fluke Hall)\n",
    "         - Instrumentation for *in vitro* cell studies"
   ]
  },
  {
   "cell_type": "markdown",
   "metadata": {
    "slideshow": {
     "slide_type": "slide"
    }
   },
   "source": [
    "## Course breakdown"
   ]
  },
  {
   "cell_type": "markdown",
   "metadata": {
    "slideshow": {
     "slide_type": "-"
    }
   },
   "source": [
    "- Weekly Assignments (40%)\n",
    "    - Typically assigned Saturday, submitted online the Sunday of the following week\n",
    "- Design project (40%)\n",
    "    - Analog IC design project using Cadence tools\n",
    "    - Optimization for performance, power, cost\n",
    "- Midterm exam (20%)\n",
    "    - Single exam covering approximately half of the course material\n",
    "    - \"Take-home\" format, submitted online\n"
   ]
  },
  {
   "cell_type": "markdown",
   "metadata": {
    "slideshow": {
     "slide_type": "slide"
    }
   },
   "source": [
    "## Course learning goals"
   ]
  },
  {
   "cell_type": "markdown",
   "metadata": {
    "slideshow": {
     "slide_type": "-"
    }
   },
   "source": [
    " - Develop deeper understanding of MOS transistor behavior relevant to analog (and some digital) design\n",
    " - Develop intuition w.r.t. tradeoffs in analog circuits (speed, noise, power dissipation)\n",
    " - Learn to bridge the gap between complex device models/behavior and “back-of-the-envelope” calculations\n",
    " - Develop a systematic approach to circuit analysis and design"
   ]
  },
  {
   "cell_type": "markdown",
   "metadata": {
    "slideshow": {
     "slide_type": "slide"
    }
   },
   "source": [
    "## Course topics"
   ]
  },
  {
   "cell_type": "markdown",
   "metadata": {
    "slideshow": {
     "slide_type": "-"
    }
   },
   "source": [
    " - CMOS technology and device models\n",
    " - Single-stage amplifiers\n",
    " - Current mirrors, active loads\n",
    " - Differential pairs\n",
    " - Operational transconductance amplifiers (OTAs)\n",
    " - Feedback, stability, and compensation"
   ]
  },
  {
   "cell_type": "markdown",
   "metadata": {
    "slideshow": {
     "slide_type": "slide"
    }
   },
   "source": [
    "## Software and CAD "
   ]
  },
  {
   "cell_type": "markdown",
   "metadata": {
    "slideshow": {
     "slide_type": "-"
    }
   },
   "source": [
    " - We will use Cadence for circuit simulation\n",
    "     - Tutorial following today's lecture\n",
    " - Design, data analysis, and results plotting using Python/Jupyter Notebooks\n",
    "    - Design scripts iterable and reusable\n",
    "    - More flexible than Cadence native plotting functions\n",
    "    - Lecture examples created using Python/Jupyter Notebooks"
   ]
  },
  {
   "cell_type": "markdown",
   "metadata": {
    "slideshow": {
     "slide_type": "slide"
    }
   },
   "source": [
    "## SPICE design methodology"
   ]
  },
  {
   "cell_type": "markdown",
   "metadata": {
    "slideshow": {
     "slide_type": "-"
    }
   },
   "source": [
    " - SPICE is a numerical simulation tool that enables you to evaluate circuit ideas\n",
    " - General rule: Don't simulate something you don't already (mostly) understand\n",
    "    - SPICE is for verification only!\n",
    " - Neither analytical nor simulation models provide a complete picture of reality\n",
    "     - Understanding model limitations is crucial to building successful circuits and systems"
   ]
  },
  {
   "cell_type": "markdown",
   "metadata": {
    "slideshow": {
     "slide_type": "slide"
    }
   },
   "source": [
    "## JupyterHub"
   ]
  },
  {
   "cell_type": "markdown",
   "metadata": {
    "slideshow": {
     "slide_type": "-"
    }
   },
   "source": [
    " - Jupyter Hub enables execution of Python code without the need for installation/maintenance of packages, etc\n",
    " - Lecture notes/slides will be made available in student directories several days prior to lecture\n",
    " - [EE538 Jupyter Hub Server](https://rttl.axdd.s.uw.edu/2021-winter-e-e-538-c)\n",
    " - Please log out of the server when you're not using it!\n",
    " "
   ]
  },
  {
   "cell_type": "markdown",
   "metadata": {
    "slideshow": {
     "slide_type": "skip"
    }
   },
   "source": [
    "## Python packages/modules"
   ]
  },
  {
   "cell_type": "code",
   "execution_count": 5,
   "metadata": {
    "slideshow": {
     "slide_type": "skip"
    }
   },
   "outputs": [],
   "source": [
    "import matplotlib as mpl\n",
    "from matplotlib import pyplot as plt\n",
    "import numpy as np\n",
    "from scipy import signal\n",
    "#%matplotlib notebook\n",
    "\n",
    "mpl.rcParams['font.size'] = 12\n",
    "mpl.rcParams['legend.fontsize'] = 'large'\n",
    "\n",
    "def plot_xy(x, y, xlabel, ylabel):\n",
    "    fig, ax = plt.subplots(figsize=(10.0, 7.5));\n",
    "    ax.plot(x, y, 'b');\n",
    "    ax.grid();\n",
    "    ax.set_xlabel(xlabel);\n",
    "    ax.set_ylabel(ylabel);\n",
    "    \n",
    "def plot_xy2(x1, y1, x1label, y1label, x2, y2, x2label, y2label):\n",
    "    fig, ax = plt.subplots(2, figsize = (10.0, 7.5));\n",
    "    ax[0].plot(x1, y1, 'b');\n",
    "    ax[0].set_ylabel(y1label)\n",
    "    ax[0].grid()\n",
    "    \n",
    "    ax[1].plot(x2, y2, 'b');\n",
    "    ax[1].set_xlabel(x1label)\n",
    "    ax[1].set_xlabel(x2label);\n",
    "    ax[1].set_ylabel(y2label);\n",
    "    ax[1].grid();\n",
    "    \n",
    "    fig.align_ylabels(ax[:])\n",
    "    \n",
    "def plot_xlogy(x, y, xlabel, ylabel):\n",
    "    fig, ax = plt.subplots(figsize=(10.0, 7.5));\n",
    "    ax.semilogy(x, y, 'b');\n",
    "    ax.grid();\n",
    "    ax.set_xlabel(xlabel);\n",
    "    ax.set_ylabel(ylabel);"
   ]
  },
  {
   "cell_type": "markdown",
   "metadata": {
    "slideshow": {
     "slide_type": "slide"
    }
   },
   "source": [
    "# Lecture 1 - MOS Physics and Operation"
   ]
  },
  {
   "cell_type": "markdown",
   "metadata": {
    "slideshow": {
     "slide_type": "slide"
    }
   },
   "source": [
    "## MOS transistor"
   ]
  },
  {
   "cell_type": "markdown",
   "metadata": {},
   "source": [
    "<center><img src=\"MOS_structure.png\" width=800 /></center>"
   ]
  },
  {
   "cell_type": "markdown",
   "metadata": {},
   "source": [
    " - MOSFET: __M__etal-__O__xide-__S__emiconductor __F__ield __E__ffect __T__ransistor\n",
    " - CMOS: __C__omplementary __MOS__ (NMOS and PMOS in a single process)\n",
    " - n-type transistors (NMOS) consist of p-doped bulk, n-doped source/drain, polysilicon gate, and SiO2 insulating layer\n",
    " - p-type transistors (PMOS) have n-doped bulk, p-doped source/drain"
   ]
  },
  {
   "cell_type": "markdown",
   "metadata": {
    "slideshow": {
     "slide_type": "slide"
    }
   },
   "source": [
    "## NMOS operation"
   ]
  },
  {
   "cell_type": "markdown",
   "metadata": {},
   "source": [
    "<center><img src=\"NMOS_operation.png\" width=800 /></center>"
   ]
  },
  {
   "cell_type": "markdown",
   "metadata": {},
   "source": [
    " - In the absence of an applied gate-source voltage ($V_{gs}$), the charge concentration under the gate is dominated by *majority* carriers (holes for an NMOS)\n",
    " - An *inversion layer* begins to form as minority carriers are drawn from bulk to interface for $V_{gs} > 0$\n",
    " - Threshold voltage ($V_{th}$) is defined as the $V_{gs}$ value at which the minority carrier (electron) concentration equals that of the majority carriers (holes)"
   ]
  },
  {
   "cell_type": "markdown",
   "metadata": {
    "slideshow": {
     "slide_type": "slide"
    }
   },
   "source": [
    "## NMOS operation"
   ]
  },
  {
   "cell_type": "markdown",
   "metadata": {
    "slideshow": {
     "slide_type": "-"
    }
   },
   "source": [
    "<center><img src=\"NMOS_operation.png\" width=800 /></center>"
   ]
  },
  {
   "cell_type": "markdown",
   "metadata": {},
   "source": [
    " - Current is controlled by the velocity of mobile charge in the channel\n",
    " - Vertical electric field controls charge density\n",
    " - Carrier velocity proportional to lateral electric field ($v=\\mu E_{lateral}$)\n",
    " - Our goal: Calculate drain current as a function of $V_{gs}$ and $V_{ds}$"
   ]
  },
  {
   "cell_type": "markdown",
   "metadata": {
    "slideshow": {
     "slide_type": "slide"
    }
   },
   "source": [
    "## Vertical field "
   ]
  },
  {
   "cell_type": "markdown",
   "metadata": {
    "cell_style": "split"
   },
   "source": [
    "<center><img src=\"MOS_vertical_field.png\" width=500 /></center>"
   ]
  },
  {
   "cell_type": "markdown",
   "metadata": {
    "cell_style": "split"
   },
   "source": [
    "\\begin{equation}\n",
    "C_{ox} = \\dfrac{\\epsilon_{ox}}{t_{ox}}\n",
    "\\end{equation}\n",
    "\n",
    "\\begin{equation}\n",
    "Q(y) = C_{ox}[V_{gs} - V_{th} - V(y)]\n",
    "\\end{equation}"
   ]
  },
  {
   "cell_type": "markdown",
   "metadata": {},
   "source": [
    " - $C_{ox}$: Oxide capacitance, in $F/m^2$\n",
    " - Charge per unit area, $Q(y)$, depends on $V_{gs} - V_{th}$, $\\epsilon_{ox}$, and $t_{ox}$\n",
    " - Vertical electric field controls channel charge density"
   ]
  },
  {
   "cell_type": "markdown",
   "metadata": {
    "slideshow": {
     "slide_type": "slide"
    }
   },
   "source": [
    "## Lateral field"
   ]
  },
  {
   "cell_type": "markdown",
   "metadata": {
    "cell_style": "split"
   },
   "source": [
    "<center><img src=\"MOS_lateral_field.png\" width=400 /></center>"
   ]
  },
  {
   "cell_type": "markdown",
   "metadata": {
    "cell_style": "split"
   },
   "source": [
    "\\begin{equation}\n",
    "I = Q(y) \\cdot v\n",
    "\\end{equation}\n",
    "\n",
    "\\begin{equation}\n",
    "v = \\mu \\cdot E\n",
    "\\end{equation}\n",
    "\n",
    "\\begin{equation}\n",
    "E = \\dfrac{dV(y)}{dy}\n",
    "\\end{equation}"
   ]
  },
  {
   "cell_type": "markdown",
   "metadata": {},
   "source": [
    " - Current is controlled by charge density, mobility, and applied voltage\n",
    " - While the vertical electric field controls charge density, the lateral electric field controls charge velocity"
   ]
  },
  {
   "cell_type": "markdown",
   "metadata": {
    "slideshow": {
     "slide_type": "slide"
    }
   },
   "source": [
    "## First-order I-V characteristics"
   ]
  },
  {
   "cell_type": "markdown",
   "metadata": {},
   "source": [
    "<center><img src=\"MOS_IV_cross_section.png\" width=800 /></center>"
   ]
  },
  {
   "cell_type": "markdown",
   "metadata": {
    "cell_style": "split"
   },
   "source": [
    " - Charge density and velocity:\n",
    "\n",
    "\\begin{equation}\n",
    "Q_n(y) = C_{ox}[V_{gs} - V_{th} - V(y)]\n",
    "\\end{equation}\n",
    "\n",
    "\\begin{equation}\n",
    "v = \\mu \\cdot E\n",
    "\\end{equation}"
   ]
  },
  {
   "cell_type": "markdown",
   "metadata": {
    "cell_style": "split"
   },
   "source": [
    " - Resulting drain current:\n",
    "\n",
    "\\begin{align}\n",
    "I_d &= Q_n \\cdot v \\cdot W \\\\\n",
    "\\\\\n",
    "&= C_{ox}[V_{gs} - V_{th} - V(y)] \\cdot \\mu \\cdot E \\cdot W \\\\\n",
    "\\end{align}\n"
   ]
  },
  {
   "cell_type": "markdown",
   "metadata": {
    "slideshow": {
     "slide_type": "subslide"
    }
   },
   "source": [
    "## MOS I-V derivation"
   ]
  },
  {
   "cell_type": "markdown",
   "metadata": {
    "slideshow": {
     "slide_type": "-"
    }
   },
   "source": [
    "\\begin{align}\n",
    "I_d &= C_{ox}[V_{gs} - V_{th} - V(y)] \\cdot \\mu \\cdot E \\cdot W \\\\\n",
    "\\\\\n",
    "I_d \\cdot dy &= \\mu \\cdot C_{ox} \\cdot W [V_{gs} - V_{th} - V(y)]\\cdot dV \\\\\n",
    "\\\\\n",
    "I_d \\int_0^L{dy} &= \\mu \\cdot C_{ox} \\cdot W  \\int_0^{V_{ds}}{[V_{gs} - V_{th} - V(y)]\\cdot dV}\\\\\n",
    "\\end{align}\n",
    "\n",
    "$$\\boxed{I_d = \\mu \\cdot C_{ox} \\cdot \\dfrac{W}{L} {\\left[(V_{gs} - V_{th}) - \\dfrac{V_{ds}}{2}\\right]\\cdot V_{ds}}} $$\n",
    "\n",
    " - Drain current is the product of chrage density and velocity\n",
    " - Due to the variation in potential from source to drain charge density is not constant, and must be integrated to determine the drain current\n",
    " - Let's plot the resulting function..."
   ]
  },
  {
   "cell_type": "code",
   "execution_count": 22,
   "metadata": {
    "slideshow": {
     "slide_type": "subslide"
    }
   },
   "outputs": [],
   "source": [
    "u_n = 350                 # electron mobility (device parameter)\n",
    "e_ox = 3.9*8.854e-12/100; # relative permittivity\n",
    "t_ox = 9e-9*100;          # oxide thickness\n",
    "C_ox = e_ox/t_ox          # oxide capacitance\n",
    "V_th = 0.7                # threshold voltage (device parameter)\n",
    "W = 100                   # device width in microns\n",
    "L = 1                     # device length in microns\n",
    "\n",
    "V_ds = np.arange(0,2.65,step=0.05)\n",
    "V_gs = 2\n",
    "I_d = u_n*C_ox*(W/L)*(V_gs - V_th - V_ds/2)*V_ds "
   ]
  },
  {
   "cell_type": "code",
   "execution_count": 24,
   "metadata": {
    "slideshow": {
     "slide_type": "subslide"
    }
   },
   "outputs": [
    {
     "data": {
      "image/png": "[encoded data removed]",
      "text/plain": [
       "<Figure size 720x540 with 1 Axes>"
      ]
     },
     "metadata": {
      "needs_background": "light"
     },
     "output_type": "display_data"
    }
   ],
   "source": [
    "plot_xy(V_ds, I_d, r'$V_{ds} [V]$', '$I_d [A]$')"
   ]
  },
  {
   "cell_type": "markdown",
   "metadata": {},
   "source": [
    " - $I_d$ appears to be decreasing for $V_{ds} > V_{gs} - V_{th}$ \n",
    " - What really happens when $V_{ds} > V_{gs} - V_{th}$?\n",
    " - When the potential near the drain region is high enough such that $V_{gd} = V_{gs} - V_{ds} < V_{th}$, the inversion charge becomes zero (a phenomenon known as \"pinch-off\")"
   ]
  },
  {
   "cell_type": "markdown",
   "metadata": {
    "slideshow": {
     "slide_type": "slide"
    }
   },
   "source": [
    "## First-order I-V characteristics, revisited"
   ]
  },
  {
   "cell_type": "markdown",
   "metadata": {},
   "source": [
    "<center><img src=\"NMOS_pinch_off.png\" width=800 /></center>"
   ]
  },
  {
   "cell_type": "markdown",
   "metadata": {},
   "source": [
    " - Near the drain region, charge density is dependent on $V_{gd}$, not $V_{gs}$\n",
    " - Absence of inversion charge in this region results in high $E$-field region, across which the excess $V_{ds}$ drops\n",
    " - Drain current becomes “saturated,” and no longer increases with $V_{ds}$"
   ]
  },
  {
   "cell_type": "markdown",
   "metadata": {
    "slideshow": {
     "slide_type": "slide"
    }
   },
   "source": [
    "## MOS saturation operation"
   ]
  },
  {
   "cell_type": "markdown",
   "metadata": {},
   "source": [
    "<center><img src=\"MOS_saturation.png\" width=650 /></center>"
   ]
  },
  {
   "cell_type": "markdown",
   "metadata": {},
   "source": [
    " - In saturation, $I_{d}$ is independent of $V_{ds}$ (to first order), and is given by\n",
    " \n",
    "\\begin{equation}\n",
    "I_d = \\dfrac{1}{2}\\mu\\cdot C_{ox} \\cdot \\dfrac{W}{L}(V_{gs}-V_{th})^2\n",
    "\\end{equation}\n",
    "\n",
    " - This behavior is what makes the MOS transistor effective as both a current source and a transconductance (gain) element\n",
    " - What about operation between $V_{ds}=0$ and $V_{ds}=V_{gs}-V_{th}$?"
   ]
  },
  {
   "cell_type": "markdown",
   "metadata": {
    "slideshow": {
     "slide_type": "slide"
    }
   },
   "source": [
    "## MOS triode operation"
   ]
  },
  {
   "cell_type": "markdown",
   "metadata": {
    "cell_style": "split"
   },
   "source": [
    "\\begin{align}\n",
    "I_d &= \\mu \\cdot C_{ox} \\cdot \\dfrac{W}{L} {\\left[(V_{gs} - V_{th}) - \\dfrac{V_{ds}}{2}\\right]\\cdot V_{ds}}\\\\\n",
    "\\\\\n",
    "&= \\mu \\cdot C_{ox} \\cdot \\dfrac{W}{L} {\\left[(V_{gs} - V_{th})\\cdot V_{ds} - \\dfrac{V_{ds}^2}{2}\\right]}\n",
    "\\end{align}\n",
    "\n",
    " - For $V_{ds} << V_{gs} - V_{th}$, \n",
    " \n",
    "\\begin{equation}\n",
    "I_d \\approx \\mu \\cdot C_{ox} \\cdot \\dfrac{W}{L} {(V_{gs} - V_{th})\\cdot V_{ds}}\n",
    "\\end{equation}"
   ]
  },
  {
   "cell_type": "markdown",
   "metadata": {
    "cell_style": "split",
    "slideshow": {
     "slide_type": "-"
    }
   },
   "source": [
    " - For small values of $V_{ds}$, drain current is approximately a linear function of $V_{ds}$\n",
    " - The MOS transistor in triode can thus be approximated as a resistance:\n",
    " \n",
    "\\begin{equation}\n",
    "\\boxed{R_{on} = \\dfrac{V_{ds}}{I_d} \\approx \\dfrac{1}{\\mu C_{ox} \\dfrac{W}{L} (V_{gs} - V_{th})}} \n",
    "\\end{equation}\n",
    "\n",
    "- Though rarely used as an explicitly resistance, the MOS transistor is modeled this way when operated as a switch"
   ]
  },
  {
   "cell_type": "markdown",
   "metadata": {
    "slideshow": {
     "slide_type": "slide"
    }
   },
   "source": [
    "## MOS regions of operation"
   ]
  },
  {
   "cell_type": "markdown",
   "metadata": {
    "cell_style": "split"
   },
   "source": [
    "<center><img src=\"MOS_regions.png\" width=700 /></center>"
   ]
  },
  {
   "cell_type": "markdown",
   "metadata": {
    "cell_style": "split"
   },
   "source": [
    " - Triode region:\n",
    " \n",
    "\\begin{equation}\n",
    "I_d \\approx \\mu \\cdot C_{ox} \\cdot \\dfrac{W}{L} {(V_{gs} - V_{th})\\cdot V_{ds}}\n",
    "\\end{equation}\n",
    "\n",
    " - Saturation region:\n",
    " \n",
    "\\begin{equation}\n",
    "I_d = \\dfrac{1}{2}\\mu\\cdot C_{ox} \\cdot \\dfrac{W}{L}(V_{gs}-V_{th})^2\n",
    "\\end{equation}\n"
   ]
  },
  {
   "cell_type": "markdown",
   "metadata": {
    "slideshow": {
     "slide_type": "slide"
    }
   },
   "source": [
    "## First-order MOS model summary"
   ]
  },
  {
   "cell_type": "markdown",
   "metadata": {},
   "source": [
    "<center><img src=\"MOS_regions_summary.png\" width=1200 /></center>"
   ]
  },
  {
   "cell_type": "markdown",
   "metadata": {
    "slideshow": {
     "slide_type": "slide"
    }
   },
   "source": [
    "## MOS I-V characteristic"
   ]
  },
  {
   "cell_type": "code",
   "execution_count": 15,
   "metadata": {},
   "outputs": [],
   "source": [
    "def nmos_iv(V_gs, V_ds, W, L, lmda):\n",
    "    u_n = 350                 # electron mobility (device parameter)\n",
    "    e_ox = 3.9*8.854e-12/100; # relative permittivity\n",
    "    t_ox = 9e-9*100;          # oxide thickness\n",
    "    C_ox = e_ox/t_ox          # oxide capacitance\n",
    "    V_th = 0.7                # threshold voltage (device parameter)\n",
    "    V_ov = V_gs - V_th\n",
    "    \n",
    "    I_d = []\n",
    "    \n",
    "    for i in range(len(V_ds)):\n",
    "        I_d.append(np.piecewise(V_ds[i], [V_ds[i] < V_ov, V_ds[i] >= V_ov],\n",
    "                       [u_n*C_ox*(W/L)*(V_gs - V_th - V_ds[i]/2)*V_ds[i]*(1+lmda*V_ds[i]) , \n",
    "                        0.5*u_n*C_ox*(W/L)*(V_gs - V_th)**2*(1+lmda*V_ds[i])])) \n",
    "    \n",
    "    return np.array(I_d)"
   ]
  },
  {
   "cell_type": "code",
   "execution_count": 25,
   "metadata": {
    "slideshow": {
     "slide_type": "subslide"
    }
   },
   "outputs": [],
   "source": [
    "V_gs = 1\n",
    "V_ds = np.arange(0, 5, step=0.01)\n",
    "W = 100\n",
    "L = 1\n",
    "I_d = nmos_iv(V_gs, V_ds, W, L, lmda=0)"
   ]
  },
  {
   "cell_type": "code",
   "execution_count": 26,
   "metadata": {},
   "outputs": [
    {
     "data": {
      "image/png": "[encoded data removed]",
      "text/plain": [
       "<Figure size 720x540 with 1 Axes>"
      ]
     },
     "metadata": {
      "needs_background": "light"
     },
     "output_type": "display_data"
    }
   ],
   "source": [
    "plot_xy(V_ds, 1e6*I_d, r'$V_{ds} [V]$', r'$I_d [\\mu A]$')"
   ]
  },
  {
   "cell_type": "markdown",
   "metadata": {
    "slideshow": {
     "slide_type": "slide"
    }
   },
   "source": [
    "## Common-source amplifier"
   ]
  },
  {
   "cell_type": "markdown",
   "metadata": {
    "slideshow": {
     "slide_type": "slide"
    }
   },
   "source": [
    "## Small-signal gain"
   ]
  },
  {
   "cell_type": "markdown",
   "metadata": {},
   "source": [
    " - The input/output relationship is given by\n",
    " \n",
    "\\begin{equation}\n",
    "\\Delta V_o = -\\dfrac{2I_d}{V_{ov}} \\cdot R_D \\Delta V_i \\left[1 + \\dfrac{\\Delta V_i}{2V_{ov}} \\right]\n",
    "\\end{equation}\n",
    "\n",
    " - Assuming $\\Delta V_i << 2V_{ov}$, this becomes\n",
    " \n",
    "\\begin{equation}\n",
    "\\Delta V_o \\approx -\\dfrac{2I_d}{V_{ov}}\\cdot R_D \\Delta V_i\n",
    "\\end{equation}\n",
    "\n",
    " - Taking $\\Delta V_i$ to be arbitrarily small, we obtain the \"small-signal\" gain:\n",
    " \n",
    "\n",
    "\\begin{equation}\n",
    "A_v = \\dfrac{dV_o}{dV_i} \\approx -\\dfrac{2I_D}{V_{OV}} \\cdot R_D \n",
    "\\end{equation}"
   ]
  },
  {
   "cell_type": "markdown",
   "metadata": {
    "slideshow": {
     "slide_type": "slide"
    }
   },
   "source": [
    "## Small-signal transconductance"
   ]
  },
  {
   "cell_type": "markdown",
   "metadata": {},
   "source": []
  },
  {
   "cell_type": "markdown",
   "metadata": {},
   "source": [
    " - Instead of having to carry out the linearization process for every new circuit we build, we can linearize at the transistor level\n",
    " - As such, the nonlinear function relating $I_d$ to $V_{gs}$ is replaced with a linear transconductance term, $g_m$"
   ]
  },
  {
   "cell_type": "markdown",
   "metadata": {
    "slideshow": {
     "slide_type": "slide"
    }
   },
   "source": [
    "### Linear transconductance versus nonlinear square law"
   ]
  },
  {
   "cell_type": "code",
   "execution_count": 11,
   "metadata": {
    "slideshow": {
     "slide_type": "skip"
    }
   },
   "outputs": [],
   "source": [
    "def nmos_iv(V_gs, W, L):\n",
    "    u_n = 350                 # electron mobility (device parameter)\n",
    "    e_ox = 3.9*8.854e-12/100; # relative permittivity\n",
    "    t_ox = 9e-9*100;          # oxide thickness\n",
    "    C_ox = e_ox/t_ox          # oxide capacitance\n",
    "    V_th = 0.7                # threshold voltage (device parameter)\n",
    "    \n",
    "    I_d = 0.5*u_n*C_ox*(W/L)*(V_gs - V_th)**2 \n",
    "\n",
    "    return I_d\n",
    "\n",
    "def g_m(V_GS0, W, L):\n",
    "    V_th = 0.7                # threshold voltage (device parameter)\n",
    "    I_D0 = nmos_iv(V_GS0, W, L)\n",
    "    \n",
    "    return 2*I_D0/(V_GS0 - V_th)\n",
    "\n",
    "def gm_line (V_gs, W, L, V_GS0, I_D0):\n",
    "    return g_m(V_GS0, W, L)*(V_gs - V_GS0) + I_D0\n",
    "\n",
    "def plot_gm(V_gs, W, L, V_GS1, V_gs_range):\n",
    "    fig, ax = plt.subplots(figsize=(10.0,7.5))\n",
    "    ax.plot(V_gs, 1e3*nmos_iv(V_gs, W, L), \n",
    "            label=r'$\\frac{1}{2}\\mu C_{ox}\\frac{W}{L}(V_{gs}-V_{th})^2$')\n",
    "    I_D1 = nmos_iv(V_GS1, W, L)\n",
    "    ax.scatter(V_GS1, 1e3*I_D1, color='C1',s=10)\n",
    "    ax.plot(V_gs_range, 1e3*gm_line(V_gs_range, W, L, V_GS1, I_D1), \n",
    "            'C1--', linewidth=2, label=r'$g_mV_{gs}$')\n",
    "    ax.set_xlabel(r'$V_{gs} [V]$')\n",
    "    ax.set_ylabel(r'$I_{D} [mA]$')\n",
    "    ax.grid()\n",
    "    ax.legend()"
   ]
  },
  {
   "cell_type": "code",
   "execution_count": 12,
   "metadata": {
    "scrolled": true
   },
   "outputs": [
    {
     "data": {
      "image/png": "[encoded data removed]",
      "text/plain": [
       "<Figure size 720x540 with 1 Axes>"
      ]
     },
     "metadata": {
      "needs_background": "light"
     },
     "output_type": "display_data"
    }
   ],
   "source": [
    "V_gs = np.linspace(0.7,1,num=300)\n",
    "V_GS1 = 0.9\n",
    "V_gs_range = np.linspace(V_GS1-0.05, V_GS1+0.05, 10)\n",
    "plot_gm(V_gs, 1000, 1, V_GS1, V_gs_range)"
   ]
  },
  {
   "cell_type": "markdown",
   "metadata": {},
   "source": [
    " - In the vicinity of the linearation, or \"DC operating\" point, the linear model well approximates the square law\n",
    " - As $V_{gs}$ becomes much less or greater than $V_{GS0}$, a significant error results in using the linear model\n",
    " - For this reason, $g_m$ is used exclusively as a \"small-signal\" approximation for the transistor behavior"
   ]
  },
  {
   "cell_type": "markdown",
   "metadata": {
    "slideshow": {
     "slide_type": "slide"
    }
   },
   "source": [
    "## Saturation transconductance"
   ]
  },
  {
   "cell_type": "markdown",
   "metadata": {},
   "source": [
    " - Transconductance is defined as the derivative of drain current with respect to gate-source voltage\n",
    "\n",
    "\\begin{equation}\n",
    "g_m = \\dfrac{\\partial I_d}{\\partial V_{gs}} = \\dfrac{\\partial}{\\partial V_{gs}} \\mu C_{ox} \\dfrac{W}{L} (V_{gs} - V_{th})^2 = 2\\mu C_{ox} \\left(\\dfrac{W}{L} \\right) (V_{gs} - V_{th})\n",
    "\\end{equation}\n",
    "\n",
    " - In saturation, this can be expressed as \n",
    "\n",
    "\\begin{equation}\n",
    "g_m = \\dfrac{2I_d}{(V_{gs} - V_{th})} = \\dfrac{2I_D}{V_{OV}}\n",
    "\\end{equation}\n",
    "\n",
    " - Importantly, for a constant overdrive $g_m$ is linearly dependent on $I_d$"
   ]
  },
  {
   "cell_type": "markdown",
   "metadata": {
    "slideshow": {
     "slide_type": "slide"
    }
   },
   "source": [
    "## Dependence of I<sub>d</sub> on V<sub>ds</sub>"
   ]
  },
  {
   "cell_type": "markdown",
   "metadata": {
    "cell_style": "split"
   },
   "source": [
    "<center><img src=\"MOS_regions.png\" width=700 /></center>"
   ]
  },
  {
   "cell_type": "markdown",
   "metadata": {
    "cell_style": "split"
   },
   "source": [
    " - If we sweep $V_{ds}$ of a real transistor, we see a small dependence of $I_d$ on $V_{ds}$\n",
    " - The effect is analogous to the Early effect in BJTs\n",
    " - The variation of $I_d$ with $V_{ds}$ is largely due to a decrease in the effective channel length resulting from the high electric field at the drain, and is typically referred to as “channel-length modulation”"
   ]
  },
  {
   "cell_type": "markdown",
   "metadata": {
    "slideshow": {
     "slide_type": "slide"
    }
   },
   "source": [
    "## Channel-length modulation"
   ]
  },
  {
   "cell_type": "markdown",
   "metadata": {},
   "source": [
    "<center><img src=\"channel_length_modulation.png\" width=800 /></center>"
   ]
  },
  {
   "cell_type": "markdown",
   "metadata": {},
   "source": [
    " - As $V_{ds}$ increases, the high $E$-field region close to the drain grows, decreasing the effective channel length\n",
    " - The reduced channel length increases the drain current, resulting in a positive slope of $I_d$  vs $V_{ds}$\n",
    " - The effect is more pronounced for shorter gate lengths, due to the larger ratio $\\Delta L / L$"
   ]
  },
  {
   "cell_type": "markdown",
   "metadata": {
    "slideshow": {
     "slide_type": "slide"
    }
   },
   "source": [
    "## Square-law model with channel-length modulation"
   ]
  },
  {
   "cell_type": "markdown",
   "metadata": {},
   "source": [
    " - Finite slope of drain current with repsect to $V_{ds}$ is typically attributed to channel-length modulation\n",
    " - However, this is actually the result of a combination of a number of physical effects (DIBL, SCBE, …)\n",
    " - A simple model that assumes a linear increase in $I_d$ with $V_{ds}$ is generally used to model MOS behavior, where the combination of effects is lumped into a single parameter, $\\lambda$, inversely proportional to channel length $L$ ($\\lambda \\propto 1/L$)\n",
    " - The drain current expression is modified as\n",
    " \n",
    "\\begin{equation}\n",
    "\\boxed{I_d = \\dfrac{1}{2}\\mu\\cdot C_{ox} \\cdot \\dfrac{W}{L}(V_{gs}-V_{th})^2 (1+\\lambda V_{ds})}\n",
    "\\end{equation}"
   ]
  },
  {
   "cell_type": "markdown",
   "metadata": {
    "slideshow": {
     "slide_type": "slide"
    }
   },
   "source": [
    "## Intrinsic gain"
   ]
  },
  {
   "cell_type": "markdown",
   "metadata": {
    "cell_style": "split"
   },
   "source": [
    "<center><img src=\"MOS_intrinsic_gain.png\" width=600 /></center>"
   ]
  },
  {
   "cell_type": "markdown",
   "metadata": {
    "cell_style": "split"
   },
   "source": [
    "\\begin{equation}\n",
    "g_m = \\dfrac{2I_D}{V_{OV}}\n",
    "\\end{equation}\n",
    "\n",
    "\\begin{equation}\n",
    "r_o = \\dfrac{1}{g_{ds}} = \\dfrac{1}{\\lambda I_D}\n",
    "\\end{equation}\n",
    "\n",
    "\\begin{equation}\n",
    "\\left|\\dfrac{v_{ds}}{v_{gs}}\\right| = \\dfrac{g_m}{g_{ds}} = \\dfrac{2}{V_{OV}}\n",
    "\\end{equation}"
   ]
  },
  {
   "cell_type": "markdown",
   "metadata": {},
   "source": [
    " - The dependence of $I_d$ on $V_{ds}$ is modeled as a resistance $r_o$, referred to as the transistor *output impedance*, which is linearly dependent on $I_d$\n",
    " - The product $g_m \\cdot r_o$ is called the intrinsic gain of the MOSFET, which is, to first order, independent of drain current\n",
    " - As we will see, intrinsic gain is a fundamental device property that affects a number of circuit performance metrics (e.g. voltage gain)"
   ]
  },
  {
   "cell_type": "markdown",
   "metadata": {
    "slideshow": {
     "slide_type": "slide"
    }
   },
   "source": [
    "## Level 1 NMOS/PMOS SPICE models "
   ]
  },
  {
   "cell_type": "markdown",
   "metadata": {},
   "source": [
    "|NMOS Model |          |        |        |\n",
    "|:------:|---------:|:------:|:------:|\n",
    "|LEVEL = 1 | VTO = 0.7 | GAMMA = 0.45 | PHI = 0.9|\n",
    "|NSUB = 9e+14 | LD = 0.08e-6  | UO = 350 | LAMBDA = 0.1 |\n",
    "|TOX = 9e-9 | PB = 0.9 |  CJ = 0.56e-3 |  CJSW = 0.35e-11|\n",
    "|MJ = 0.45 | MJSW = 0.2 | CGDO = 0.4e-9 | JS = 1.0e-8 |\n",
    "\n",
    "|PMOS Model |          |        |        |\n",
    "|:------:|---------:|:------:|:------:|\n",
    "|LEVEL = 1 | VTO = -0.8 | GAMMA = 0.4 | PHI = 0.8 |\n",
    "|NSUB = 5e+14 | LD = 0.09e-6 | UO = 100 | LAMBDA = 0.2 |\n",
    "|TOX = 9e-9 | PB = 0.9 | CJ = 0.94e-3 | CJSW = 0.32e-11|\n",
    "|MJ = 0.5 | MJSW = 0.3 | CGDO = 0.3e-9 | JS = 0.5e-8 |"
   ]
  },
  {
   "cell_type": "markdown",
   "metadata": {
    "slideshow": {
     "slide_type": "slide"
    }
   },
   "source": [
    "## Comments on models"
   ]
  },
  {
   "cell_type": "markdown",
   "metadata": {},
   "source": [
    " - The model discussed is often referred to as the “long-channel” or “square-law” model\n",
    " - Although it is intuitively satisfying and readily applied analytically, it is grossly inadequate for modeling modern “short-channel” devices\n",
    " - To accurately model a wide range of “second-order” effects, a complex transistor model with many empirical parameters, must be used\n",
    " - However, the long-channel model is useful for gaining intuition and understanding general performance trends\n",
    " - A rule of thumb is useful here:\n",
    "\n",
    "*Use the simplest model that is accurate enough for the task*"
   ]
  },
  {
   "cell_type": "markdown",
   "metadata": {
    "slideshow": {
     "slide_type": "slide"
    }
   },
   "source": [
    "## Summary"
   ]
  },
  {
   "cell_type": "markdown",
   "metadata": {},
   "source": [
    " - Long-channel “square-law” model provides an intuitive picture of MOS device operation\n",
    "    - $g_m$ linearly dependent on $I_d$ if $V_{gs} - V_{th}$ is constant\n",
    "    - $r_o$ inversely dependent on $I_d$\n",
    "    - Intrinsic gain $g_m \\cdot r_o$ independent of $I_d$\n",
    " - Small-signal model will be used to design circuits with specific gain and impedance characteristics"
   ]
  }
 ],
 "metadata": {
  "celltoolbar": "Slideshow",
  "kernelspec": {
   "display_name": "Python 3",
   "language": "python",
   "name": "python3"
  },
  "language_info": {
   "codemirror_mode": {
    "name": "ipython",
    "version": 3
   },
   "file_extension": ".py",
   "mimetype": "text/x-python",
   "name": "python",
   "nbconvert_exporter": "python",
   "pygments_lexer": "ipython3",
   "version": "3.8.2"
  },
  "livereveal": {
   "controls": false,
   "scroll": true,
   "theme": "simple"
  },
  "rise": {
   "enable_chalkboard": true,
   "slideNumber": true
  }
 },
 "nbformat": 4,
 "nbformat_minor": 4
}
