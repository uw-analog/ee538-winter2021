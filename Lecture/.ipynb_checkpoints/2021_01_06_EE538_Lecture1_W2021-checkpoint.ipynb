{
 "cells": [
  {
   "cell_type": "markdown",
   "metadata": {
    "cell_style": "center",
    "slideshow": {
     "slide_type": "slide"
    }
   },
   "source": [
    "# EE 538: Analog Integrated Circuit Design\n",
    "## Winter 2021\n",
    "## Instructor: Jason Silver"
   ]
  },
  {
   "cell_type": "markdown",
   "metadata": {
    "slideshow": {
     "slide_type": "slide"
    }
   },
   "source": [
    "## EE 538 basics I"
   ]
  },
  {
   "cell_type": "markdown",
   "metadata": {
    "slideshow": {
     "slide_type": "fragment"
    }
   },
   "source": [
    " - Instructor\n",
    "     - Jason Silver\n",
    "     - Office hours TBD via Google poll\n",
    " - Teaching assistant\n",
    "     - Thushara\n",
    "     - Office hours TBD\n",
    " - Web page: [EE 538 Winter 2021 (Canvas)](https://canvas.uw.edu/courses/1448967)\n",
    "     - Access assignments, grades, and solutions\n",
    " - Slack\n",
    "     - [EE 538 Winter 2021 Slack workspace](https://join.slack.com/t/uwaic2021/shared_invite/zt-k8e4c07p-6mkI7JSqfLv_lYJ21zW2ZQ)\n",
    "     - Use Slack to ask questions about assignments and projects\n",
    "     - Participation in online discussion benefits everyone!\n",
    "     \n",
    "         "
   ]
  },
  {
   "cell_type": "markdown",
   "metadata": {
    "slideshow": {
     "slide_type": "slide"
    }
   },
   "source": [
    "## EE 538 basics II"
   ]
  },
  {
   "cell_type": "markdown",
   "metadata": {
    "slideshow": {
     "slide_type": "fragment"
    }
   },
   "source": [
    " - There are no official prerequisites, but it will be helpful to have some familiarity with\n",
    "     - Elementary circuit theory\n",
    "        - KVL, KCL, Thevenin equivalent circuits, Laplace/Fourier transforms\n",
    "     - Semiconductor device operation and circuit analysis \n",
    "         - Diodes, FETs, BJTs\n",
    "     - Basic linear systems\n",
    "         - Frequency response, poles, zeros, Bode plots\n",
    "     - Circuit simulation with some flavor of SPICE (__S__imulation __P__rogram with __I__ntegrated __C__ircuit __E__mphasis)\n",
    " \n",
    "         \n",
    "         "
   ]
  },
  {
   "cell_type": "markdown",
   "metadata": {
    "slideshow": {
     "slide_type": "slide"
    }
   },
   "source": [
    "## About your instructor"
   ]
  },
  {
   "cell_type": "markdown",
   "metadata": {
    "slideshow": {
     "slide_type": "fragment"
    }
   },
   "source": [
    " - PhD from UW EE in 2015\n",
    "     - Wireless Sensing Lab (Prof. Brian Otis)\n",
    "     - Low power integrated circuit (IC) design for bioelectrical interfaces\n",
    "         - EEG, EMG, neural recording\n",
    "     - Focus on optimizing for power efficiency\n",
    " - 13 years experience designing ICs and systems for academia and industry\n",
    "     - Mixed-signal design for biomedical applications\n",
    " - Current full-time role\n",
    "     - Director of Hardware and Biosystems Engineering at Curi Bio\n",
    "         - Formerly housed in UW CoMotion startup incubator (Fluke Hall)\n",
    "         - Instrumentation for *in vitro* cell studies"
   ]
  },
  {
   "cell_type": "markdown",
   "metadata": {
    "slideshow": {
     "slide_type": "slide"
    }
   },
   "source": [
    "## Course breakdown"
   ]
  },
  {
   "cell_type": "markdown",
   "metadata": {
    "slideshow": {
     "slide_type": "fragment"
    }
   },
   "source": [
    "- Weekly Assignments (40%)\n",
    "    - Typically assigned Saturday, submitted online the Sunday of the following week\n",
    "- Design project (40%)\n",
    "    - Analog IC design project using Cadence tools\n",
    "    - Optimization for performance, power, cost\n",
    "- Midterm exam (20%)\n",
    "    - Single exam covering approximately half of the course material\n",
    "    - \"Take-home\" format, submitted online\n"
   ]
  },
  {
   "cell_type": "markdown",
   "metadata": {
    "slideshow": {
     "slide_type": "slide"
    }
   },
   "source": [
    "## Course learning goals"
   ]
  },
  {
   "cell_type": "markdown",
   "metadata": {
    "slideshow": {
     "slide_type": "fragment"
    }
   },
   "source": [
    " - Develop deeper understanding of MOS transistor behavior relevant to analog (and some digital) design\n",
    " - Develop intuition w.r.t. tradeoffs in analog circuits (speed, noise, power dissipation)\n",
    " - Learn to bridge the gap between complex device models/behavior and “back-of-the-envelope” calculations\n",
    " - Develop a systematic approach to circuit analysis and design"
   ]
  },
  {
   "cell_type": "markdown",
   "metadata": {
    "slideshow": {
     "slide_type": "slide"
    }
   },
   "source": [
    "## Course topics"
   ]
  },
  {
   "cell_type": "markdown",
   "metadata": {
    "slideshow": {
     "slide_type": "fragment"
    }
   },
   "source": [
    " - CMOS technology and device models\n",
    " - Single-stage amplifiers\n",
    " - Current mirrors, active loads\n",
    " - Differential pairs\n",
    " - Operational transconductance amplifiers (OTAs)\n",
    " - Feedback, stability, and compensation"
   ]
  },
  {
   "cell_type": "markdown",
   "metadata": {
    "slideshow": {
     "slide_type": "slide"
    }
   },
   "source": [
    "## Software and CAD "
   ]
  },
  {
   "cell_type": "markdown",
   "metadata": {
    "slideshow": {
     "slide_type": "fragment"
    }
   },
   "source": [
    " - We will use Cadence for circuit simulation\n",
    "     - Tutorial following today's lecture\n",
    " - Design, data analysis, and results plotting using Python/Jupyter Notebooks\n",
    "    - Design scripts iterable and reusable\n",
    "    - More flexible than Cadence native plotting functions\n",
    "    - Lecture examples created using Python/Jupyter Notebooks"
   ]
  },
  {
   "cell_type": "markdown",
   "metadata": {
    "slideshow": {
     "slide_type": "slide"
    }
   },
   "source": [
    "## SPICE design methodology"
   ]
  },
  {
   "cell_type": "markdown",
   "metadata": {
    "slideshow": {
     "slide_type": "fragment"
    }
   },
   "source": [
    " - SPICE is a numerical simulation tool that enables you to evaluate circuit ideas\n",
    " - General rule: Don't simulate something you don't already (mostly) understand\n",
    "    - SPICE is for verification only!\n",
    " - Neither analytical nor simulation models provide a complete picture of reality\n",
    "     - Understanding model limitations is crucial to building successful circuits and systems"
   ]
  },
  {
   "cell_type": "markdown",
   "metadata": {
    "slideshow": {
     "slide_type": "slide"
    }
   },
   "source": [
    "## JupyterHub"
   ]
  },
  {
   "cell_type": "markdown",
   "metadata": {
    "slideshow": {
     "slide_type": "fragment"
    }
   },
   "source": [
    " - Jupyter Hub enables execution of Python code without the need for installation/maintenance of packages, etc\n",
    " - Lecture notes/slides will be made available in student directories several days prior to lecture\n",
    " - [EE538 Jupyter Hub Server](https://rttl.axdd.s.uw.edu/2021-winter-e-e-538-c)\n",
    " - Please log out of the server when you're not using it!\n",
    " "
   ]
  },
  {
   "cell_type": "markdown",
   "metadata": {
    "slideshow": {
     "slide_type": "slide"
    }
   },
   "source": [
    "# Lecture 1 - MOS Physics and Operation"
   ]
  },
  {
   "cell_type": "markdown",
   "metadata": {
    "slideshow": {
     "slide_type": "slide"
    }
   },
   "source": [
    "## MOS transistor"
   ]
  },
  {
   "cell_type": "markdown",
   "metadata": {},
   "source": [
    "<center><img src=\"MOS_structure.png\" width=700 /></center>"
   ]
  },
  {
   "cell_type": "markdown",
   "metadata": {},
   "source": [
    " - MOSFET: __Metal__-__O__xide-__S__emiconductor __F__ield __E__ffect __T__ransistor\n",
    " - CMOS: __C__omplementary __MOS__ (NMOS and PMOS in a single process)\n",
    " - n-type transistors (NMOS) consist of p-doped bulk, n-doped source/drain, polysilicon gate, and SiO2 insulating layer\n",
    " - p-type transistors (PMOS) have n-doped bulk, p-doped source/drain"
   ]
  },
  {
   "cell_type": "markdown",
   "metadata": {
    "slideshow": {
     "slide_type": "slide"
    }
   },
   "source": [
    "## NMOS operation (1)"
   ]
  },
  {
   "cell_type": "markdown",
   "metadata": {},
   "source": [
    "<center><img src=\"NMOS_operation.png\" width=700 /></center>"
   ]
  },
  {
   "attachments": {},
   "cell_type": "markdown",
   "metadata": {},
   "source": [
    " - Inversion layer forms as minority carriers are drawn from bulk to interface\n",
    " - Threshold voltage ($V_{th}$) defined as the $V_{GS}$ value at which the minority carrier (electron) concentration equals that of the majority carriers (holes)"
   ]
  },
  {
   "cell_type": "code",
   "execution_count": null,
   "metadata": {},
   "outputs": [],
   "source": []
  }
 ],
 "metadata": {
  "celltoolbar": "Slideshow",
  "kernelspec": {
   "display_name": "Python 3",
   "language": "python",
   "name": "python3"
  },
  "language_info": {
   "codemirror_mode": {
    "name": "ipython",
    "version": 3
   },
   "file_extension": ".py",
   "mimetype": "text/x-python",
   "name": "python",
   "nbconvert_exporter": "python",
   "pygments_lexer": "ipython3",
   "version": "3.8.2"
  },
  "livereveal": {
   "controls": false,
   "scroll": true,
   "theme": "simple"
  },
  "rise": {
   "enable_chalkboard": true,
   "slideNumber": true
  }
 },
 "nbformat": 4,
 "nbformat_minor": 4
}
