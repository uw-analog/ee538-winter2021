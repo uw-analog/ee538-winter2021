{
 "cells": [
  {
   "cell_type": "markdown",
   "metadata": {
    "cell_style": "center",
    "slideshow": {
     "slide_type": "slide"
    }
   },
   "source": [
    "# EE 538: Analog Integrated Circuit Design\n",
    "\n",
    "## Winter 2021\n",
    "\n",
    "## Instructor: Jason Silver"
   ]
  },
  {
   "cell_type": "markdown",
   "metadata": {
    "slideshow": {
     "slide_type": "skip"
    }
   },
   "source": [
    "## Python packages/modules"
   ]
  },
  {
   "cell_type": "code",
   "execution_count": 2,
   "metadata": {
    "slideshow": {
     "slide_type": "skip"
    }
   },
   "outputs": [],
   "source": [
    "import matplotlib as mpl\n",
    "from matplotlib import pyplot as plt\n",
    "import numpy as np\n",
    "from scipy import signal\n",
    "#%matplotlib notebook\n",
    "\n",
    "mpl.rcParams['font.size'] = 12\n",
    "mpl.rcParams['legend.fontsize'] = 'large'\n",
    "\n",
    "def plot_xy(x, y, xlabel, ylabel):\n",
    "    fig, ax = plt.subplots(figsize=(10.0, 7.5));\n",
    "    ax.plot(x, y, 'b');\n",
    "    ax.grid();\n",
    "    ax.set_xlabel(xlabel);\n",
    "    ax.set_ylabel(ylabel);\n",
    "    \n",
    "def plot_xy2(x1, y1, x1label, y1label, x2, y2, x2label, y2label):\n",
    "    fig, ax = plt.subplots(2, figsize = (10.0, 7.5));\n",
    "    ax[0].plot(x1, y1, 'b');\n",
    "    ax[0].set_ylabel(y1label)\n",
    "    ax[0].grid()\n",
    "    \n",
    "    ax[1].plot(x2, y2, 'b');\n",
    "    ax[1].set_xlabel(x1label)\n",
    "    ax[1].set_xlabel(x2label);\n",
    "    ax[1].set_ylabel(y2label);\n",
    "    ax[1].grid();\n",
    "    \n",
    "    fig.align_ylabels(ax[:])\n",
    "    \n",
    "def plot_xlogy(x, y, xlabel, ylabel):\n",
    "    fig, ax = plt.subplots(figsize=(10.0, 7.5));\n",
    "    ax.semilogy(x, y, 'b');\n",
    "    ax.grid();\n",
    "    ax.set_xlabel(xlabel);\n",
    "    ax.set_ylabel(ylabel);\n",
    "    \n",
    "def nmos_iv_sweep(V_gs, V_ds, W, L, lmda):\n",
    "    u_n = 350                 # electron mobility (device parameter)\n",
    "    e_ox = 3.9*8.854e-12/100; # relative permittivity\n",
    "    t_ox = 9e-9*100;          # oxide thickness\n",
    "    C_ox = e_ox/t_ox          # oxide capacitance\n",
    "    V_thn = 0.7                # threshold voltage (device parameter)\n",
    "    V_ov = V_gs - V_thn\n",
    "    Ldn = 0.08e-6\n",
    "    Leff = L - 2*Ldn\n",
    "    \n",
    "    I_d = []\n",
    "    \n",
    "    for i in range(len(V_ds)):\n",
    "        I_d.append(np.piecewise(V_ds[i], [V_ds[i] < V_ov, V_ds[i] >= V_ov],\n",
    "                       [u_n*C_ox*(W/Leff)*(V_gs - V_thn - V_ds[i]/2)*V_ds[i]*(1+lmda*V_ds[i]) , \n",
    "                        0.5*u_n*C_ox*(W/Leff)*(V_gs - V_thn)**2*(1+lmda*V_ds[i])])) \n",
    "    \n",
    "    return np.array(I_d)\n",
    "\n",
    "def pmos_iv_sweep(V_sg, V_sd, W, L, lmda):\n",
    "    u_p = 100                 # electron mobility (device parameter)\n",
    "    e_ox = 3.9*8.854e-12/100; # relative permittivity\n",
    "    t_ox = 9e-9*100;          # oxide thickness\n",
    "    C_ox = e_ox/t_ox          # oxide capacitance\n",
    "    V_thp = -0.8                # threshold voltage (device parameter)\n",
    "    V_ov = V_sg - np.abs(V_thp)\n",
    "    Ldp = 0.09e-6\n",
    "    Leff = L - 2*Ldp\n",
    "    \n",
    "    I_d = []\n",
    "    \n",
    "    for i in range(len(V_sd)):\n",
    "        I_d.append(np.piecewise(V_sd[i], [V_sd[i] < V_ov, V_sd[i] >= V_ov],\n",
    "                       [u_p*C_ox*(W/Leff)*(V_sg - np.abs(V_thp) - V_sd[i]/2)*V_sd[i]*(1+lmda*V_sd[i]) , \n",
    "                        0.5*u_p*C_ox*(W/Leff)*(V_sg - np.abs(V_thp))**2*(1+lmda*V_sd[i])])) \n",
    "    \n",
    "    return np.array(I_d)\n",
    "\n",
    "def nmos_iv_sat(V_gs, V_ds, W, L, lmda):\n",
    "    u_n = 350                 # electron mobility (device parameter)\n",
    "    e_ox = 3.9*8.854e-12/100; # relative permittivity\n",
    "    t_ox = 9e-9*100;          # oxide thickness\n",
    "    C_ox = e_ox/t_ox          # oxide capacitance\n",
    "    V_thn = 0.7                # threshold voltage (device parameter)\n",
    "    V_ov = V_gs - V_thn\n",
    "    Ldn = 0.08e-6\n",
    "    Leff = L - 2*Ldn\n",
    "    \n",
    "    I_d = 0.5*u_n*C_ox*(W/Leff)*(V_gs - V_thn)**2*(1+lmda*V_ds)\n",
    "    \n",
    "    return I_d"
   ]
  },
  {
   "cell_type": "markdown",
   "metadata": {
    "slideshow": {
     "slide_type": "slide"
    }
   },
   "source": [
    "# Lecture 2 - Single-Stage MOS Amplifiers"
   ]
  },
  {
   "cell_type": "markdown",
   "metadata": {
    "slideshow": {
     "slide_type": "slide"
    }
   },
   "source": [
    "## Announcements"
   ]
  },
  {
   "cell_type": "markdown",
   "metadata": {
    "slideshow": {
     "slide_type": "-"
    }
   },
   "source": [
    " - Assignment 1 posted, due Sunday January 17\n",
    "     - PDF submission on Canvas\n",
    " - Office hours \n",
    "     - Thursdays at 7pm (Jason)\n",
    "     - Fridays at 7pm (Thushara)"
   ]
  },
  {
   "cell_type": "markdown",
   "metadata": {
    "slideshow": {
     "slide_type": "slide"
    }
   },
   "source": [
    "## Week 2"
   ]
  },
  {
   "cell_type": "markdown",
   "metadata": {},
   "source": [
    " - Chapter 2 of Razavi (basic MOS physics)\n",
    "     - Review: DC small signal model (2.4.3) \n",
    " - Chapter 3 of Razavi (single-stage amplifiers)\n",
    " - Chapter 5 of Razavi (current mirrors)\n",
    "     - Section 5.1 Basic Current Mirrors"
   ]
  },
  {
   "cell_type": "markdown",
   "metadata": {
    "slideshow": {
     "slide_type": "slide"
    }
   },
   "source": [
    "## Overview"
   ]
  },
  {
   "cell_type": "markdown",
   "metadata": {},
   "source": [
    " - Last time…\n",
    "     - MOSFET drain current a product of vertical ($V_{GS}$) and lateral ($V_{DS}$) electric fields\n",
    "     - MOS behaves as a resistor in triode ($V_{DS} << V_{GS} – V_{TH}$) and a current source in saturation ($V_{DS} > V_{GS} – V_{TH}$)\n",
    "     - Small-signal model obtained by linearizing MOS behavior about a DC operating point (i.e. specific value of $V_{GS} = V_{GS0}$)\n",
    " - Today…\n",
    "     - Small signal model, cont.\n",
    "     - PMOS transistors\n",
    "     - Common source amplifier\n",
    "         - Passive load\n",
    "         - Active load \n",
    "     - Basic current mirrors"
   ]
  },
  {
   "cell_type": "markdown",
   "metadata": {
    "slideshow": {
     "slide_type": "slide"
    }
   },
   "source": [
    "## First-order MOS model summary"
   ]
  },
  {
   "cell_type": "markdown",
   "metadata": {},
   "source": [
    "<center><img src=\"MOS_regions_summary.png\" width=1200 /></center>"
   ]
  },
  {
   "cell_type": "markdown",
   "metadata": {
    "slideshow": {
     "slide_type": "slide"
    }
   },
   "source": [
    "## DC small-signal model"
   ]
  },
  {
   "cell_type": "markdown",
   "metadata": {
    "slideshow": {
     "slide_type": "-"
    }
   },
   "source": [
    "<center><img src=\"DC_small_signal_model.png\" width=1100 /></center>"
   ]
  },
  {
   "cell_type": "markdown",
   "metadata": {},
   "source": [
    " - Small-signal model replaces nonlinear $I_D(V_{GS}, V_{DS})$ with linear parameters $g_m$ and $r_o$ that enable the use of linear circuit analysis techniques\n",
    " - *Important*: All DC voltages become AC ground in the small-signal model"
   ]
  },
  {
   "cell_type": "markdown",
   "metadata": {
    "slideshow": {
     "slide_type": "slide"
    }
   },
   "source": [
    "## PMOS transistor"
   ]
  },
  {
   "cell_type": "markdown",
   "metadata": {},
   "source": [
    "<center><img src=\"PMOS_saturation.png\" width=1100 /></center>"
   ]
  },
  {
   "cell_type": "markdown",
   "metadata": {},
   "source": [
    " - In $CMOS$ processes, $PMOS$ transistors are produced in the same substrate as NMOS\n",
    " - To operate in saturation, the following requirements must be satisfied:\n",
    "     - $V_{sg} > |V_{thp}|$\n",
    "     - $V_{sd} > V_{sg} - |V_{thp}|$\n",
    " - The saturation current for a $PMOS$ transistor is thus given by\n",
    " \n",
    "\\begin{equation}\n",
    "I_d = \\dfrac{1}{2}\\mu_p C_{ox} \\dfrac{W}{L} (V_{sg} - |V_{thp}|)^2(1+\\lambda V_{sd})\n",
    "\\end{equation}"
   ]
  },
  {
   "cell_type": "markdown",
   "metadata": {
    "slideshow": {
     "slide_type": "slide"
    }
   },
   "source": [
    "## High-gain amplifier design"
   ]
  },
  {
   "cell_type": "markdown",
   "metadata": {
    "cell_style": "split"
   },
   "source": [
    "<center><img src=\"non_inverting_amplifier.png\" width=500 /></center>"
   ]
  },
  {
   "cell_type": "markdown",
   "metadata": {
    "cell_style": "split"
   },
   "source": [
    "\\begin{align}\n",
    "G &= \\dfrac{V_{out}}{V_{in}} = \\dfrac{A_v}{1+\\beta A_v}\n",
    "\\end{align}\n",
    "\n",
    "\\begin{equation}\n",
    "\\beta = \\dfrac{R_1}{R_1+R_2}\n",
    "\\end{equation}\n",
    "\n",
    " - if $\\beta A_v$ $>> 1$, \n",
    "\n",
    "\n",
    "\\begin{equation}\n",
    "G = \\dfrac{A_v}{1+\\beta A_v} \\rightarrow \\dfrac{1}{\\beta}\n",
    "\\end{equation}"
   ]
  },
  {
   "cell_type": "markdown",
   "metadata": {},
   "source": [
    " - High-gain amplifiers are used to desensitize transfer functions to temperature- and manufacturing-dependent physical parameters (e.g. $g_m$ and $r_o$)\n",
    " - Typical values of $A_v$ for opamps are $100 - 140 dB$ ($100,000 - 10,000,000 V/V$)\n",
    " - High *open-loop* gain ($A_v$) $\\rightarrow$ precise *closed-loop* gain ($G$)\n",
    " - For this reason, when designing CMOS amplifiers (i.e. opamps and OTAs) substantial emphasis is placed on achieving high open-loop gain"
   ]
  },
  {
   "cell_type": "markdown",
   "metadata": {
    "slideshow": {
     "slide_type": "slide"
    }
   },
   "source": [
    "## Common-source amplifier"
   ]
  },
  {
   "cell_type": "markdown",
   "metadata": {
    "cell_style": "split"
   },
   "source": [
    "<center><img src=\"common_source_amplifier.png\" width=300 /></center>"
   ]
  },
  {
   "cell_type": "markdown",
   "metadata": {
    "cell_style": "split"
   },
   "source": [
    "\\begin{equation}\n",
    "I_d = \\dfrac{1}{2}\\mu\\cdot C_{ox} \\cdot \\dfrac{W}{L}(V_{i}-V_{th})^2 (1+\\lambda V_{o})\n",
    "\\end{equation}\n",
    "\n",
    "\\begin{equation}\n",
    "V_o = V_{DD} - I_d\\cdot R_D\n",
    "\\end{equation}"
   ]
  },
  {
   "cell_type": "markdown",
   "metadata": {},
   "source": [
    " - The common-source amplifier is an exemplary model of how we achieve gain in analog circuits:\n",
    "     - Change in the output current $\\Delta I_d$ is realized (primarily) by a change in the input voltage $\\Delta V_i$ and the voltage-current relationship of the device\n",
    "     - Output voltage changes as the result of $\\Delta I_d$ flowing through the output resistance of the circuit (in this case, $R_D$)"
   ]
  },
  {
   "cell_type": "markdown",
   "metadata": {
    "slideshow": {
     "slide_type": "slide"
    }
   },
   "source": [
    "## Ouput voltage minimum/maximum (swing)"
   ]
  },
  {
   "cell_type": "markdown",
   "metadata": {
    "slideshow": {
     "slide_type": "-"
    }
   },
   "source": [
    " - For the maximum voltage, when $V_o = V_{DD}$, current no longer flows through $R_D$ and changes in the input cannot effect changes in the output\n",
    " - For the minimum, to ensure the transistor remains in saturation $V_o$ should be greater than the overdrive voltage, $V_i - V_{th}$\n",
    " - The valid range of output voltages is thus\n",
    " \n",
    "\\begin{equation}\n",
    "V_i - V_{th} < V_o < V_{DD}\n",
    "\\end{equation}\n",
    "\n",
    " - Assuming signals swing symmetrically above and below the operating point, we can maximize use of the output swing by selecting $R_D$ and $I_D$ to an output operating point at the output of $V_O = V_{DD}/2$"
   ]
  },
  {
   "cell_type": "markdown",
   "metadata": {
    "slideshow": {
     "slide_type": "slide"
    }
   },
   "source": [
    "## Small-signal model"
   ]
  },
  {
   "cell_type": "markdown",
   "metadata": {
    "cell_style": "center"
   },
   "source": [
    "<center><img src=\"common_source_small_signal.png\" width=1200 /></center>"
   ]
  },
  {
   "cell_type": "markdown",
   "metadata": {},
   "source": [
    " - $V_{DD}$ is a $DC$ (constant) voltage, making it an $AC$ (small-signal) ground\n",
    " - $r_o$ and $R_D$ appear in parallel in the small-signal model   "
   ]
  },
  {
   "cell_type": "markdown",
   "metadata": {
    "slideshow": {
     "slide_type": "slide"
    }
   },
   "source": [
    "## MOS amplifier analysis"
   ]
  },
  {
   "cell_type": "markdown",
   "metadata": {
    "slideshow": {
     "slide_type": "-"
    }
   },
   "source": [
    "<center><img src=\"norton_amplifier_model.png\" width=700 /></center>"
   ]
  },
  {
   "cell_type": "markdown",
   "metadata": {},
   "source": [
    " - Voltage gain in transistor-based circuits is *almost always* realized as the product of a transconductance $G_m$ and a small-signal resistance $R_o$\n",
    " - Analysis approach: Use Norton analysis to determine the parameters $G_m$ and $R_o$ using the small signal model\n",
    "     - Find the short-circuit current $i_{sc}$ to determine $G_m = i_{sc}/v_{in}$\n",
    "     - The output resistance $R_o$ is determiend by setting $v_{in} = 0$, applying a test voltage to the output, and finding the expression for the resulting current "
   ]
  },
  {
   "cell_type": "markdown",
   "metadata": {
    "slideshow": {
     "slide_type": "slide"
    }
   },
   "source": [
    "## Common-source Norton model (G<sub>m</sub>)"
   ]
  },
  {
   "cell_type": "markdown",
   "metadata": {},
   "source": [
    "<center><img src=\"common_source_Gm.png\" width=700 /></center>"
   ]
  },
  {
   "cell_type": "markdown",
   "metadata": {},
   "source": [
    " - To determine $G_m$ in the Norton model, short the output terminals and measure $i_{sc}$\n",
    " - Due to the short circuit, no current flows through $r_o$ or $R_D$\n",
    " - $G_m$ is determined by taking the ratio of $i_{sc}$ to $v_i$:\n",
    " \n",
    "\\begin{equation}\n",
    "G_m = \\dfrac{i_{sc}}{v_i} = \\dfrac{g_m \\cdot v_i}{v_i}= g_m\n",
    "\\end{equation}\n",
    "\n",
    " - Thus, in the case of the common-source amplifier, $G_m = g_m$"
   ]
  },
  {
   "cell_type": "markdown",
   "metadata": {
    "slideshow": {
     "slide_type": "slide"
    }
   },
   "source": [
    "## Common-source Norton model (R<sub>o</sub>)"
   ]
  },
  {
   "cell_type": "markdown",
   "metadata": {},
   "source": [
    "<center><img src=\"common_source_Ro.png\" width=700 /></center>"
   ]
  },
  {
   "cell_type": "markdown",
   "metadata": {},
   "source": [
    " - To determine $R_o$, apply a test voltage $v_t$ between the output terminals and measure $i_t$\n",
    " - Here we can see that $i_t$ is given by\n",
    "\n",
    "\\begin{equation}\n",
    "i_t = v_t \\cdot \\left(\\dfrac{1}{r_o} + \\dfrac{1}{R_D} \\right)\n",
    "\\end{equation}\n",
    "\n",
    " - Thus, $R_o$ is just the parallel combination of $r_o$ and $R_D$:\n",
    " \n",
    "\\begin{equation}\n",
    "R_o = \\dfrac{v_t}{i_t} = \\left(\\dfrac{1}{r_o}+ \\dfrac{1}{R_D} \\right)^{-1} = \\boxed{r_o || R_D}\n",
    "\\end{equation}\n",
    "\n",
    " - The voltage gain is thus $-G_m \\cdot R_o$ $= -g_m \\cdot r_o || R_D $ "
   ]
  },
  {
   "cell_type": "markdown",
   "metadata": {
    "slideshow": {
     "slide_type": "slide"
    }
   },
   "source": [
    "## Relative magnitudes of R<sub>D</sub> and r<sub>o</sub>"
   ]
  },
  {
   "cell_type": "markdown",
   "metadata": {
    "cell_style": "center"
   },
   "source": [
    " - Output resistance $r_o$ is given by the expression\n",
    "\n",
    "\\begin{equation}\n",
    "r_o \\approx \\dfrac{1}{\\lambda I_{D0}}\n",
    "\\end{equation}\n",
    "\n",
    " - Typical drain resistance $R_D$ can be expressed as (assumes output DC operating point of  $V_{DD}/2$, which allows for maximal output signal swing)\n",
    " \n",
    "\\begin{equation}\n",
    "R_D \\approx \\dfrac{V_{DD}}{2I_{D0}}\n",
    "\\end{equation}\n",
    "\n",
    "\n",
    " - For $V_{DD} = 3V$ and $\\lambda = 0.1V^{-1}$, $r_o \\approx 7 \\times R_D$\n",
    " - Thus, for the common-source amplifier,\n",
    " \n",
    "\\begin{equation}\n",
    "\\boxed{A_v = -g_m(r_o||R_D) \\approx -g_m\\cdot R_D}\n",
    "\\end{equation}\n"
   ]
  },
  {
   "cell_type": "markdown",
   "metadata": {
    "slideshow": {
     "slide_type": "slide"
    }
   },
   "source": [
    "## Maximum gain with R<sub>D</sub>"
   ]
  },
  {
   "cell_type": "markdown",
   "metadata": {},
   "source": [
    " - What is the maximum gain that can be achieved with a passive (resistive) load?\n",
    " \n",
    "\\begin{equation}\n",
    "A_v \\approx -g_m\\cdot R_D = -\\dfrac{2I_{D0}}{V_{ov}}R_D\n",
    "\\end{equation}\n",
    "\n",
    "\n",
    " - Assuming an operating point for the output voltage of $V_{DD}/2$, the gain is given by\n",
    " \n",
    "\\begin{equation}\n",
    "|A_v| \\approx \\dfrac{2\\cdot V_{DD}/2}{R_D\\cdot V_{ov}}\\cdot R_D = \\dfrac{V_{DD}}{V_{ov}}\n",
    "\\end{equation}\n",
    "\n",
    " - Assuming $V_{DD} = 3V$ and $V_{ov} = 150mV$, this limits the gain to approximately $20V/V$\n",
    " - This is generally too low to be useful in building an opamp\n",
    " - How do we increase gain?\n"
   ]
  },
  {
   "cell_type": "markdown",
   "metadata": {
    "slideshow": {
     "slide_type": "slide"
    }
   },
   "source": [
    "## MOS DC model (intrinsic gain)"
   ]
  },
  {
   "cell_type": "markdown",
   "metadata": {
    "cell_style": "split"
   },
   "source": [
    "<center><img src=\"MOS_intrinsic_gain.png\" width=550 /></center>"
   ]
  },
  {
   "cell_type": "markdown",
   "metadata": {
    "cell_style": "split"
   },
   "source": [
    "\\begin{equation}\n",
    "g_m = \\dfrac{2I_{D0}}{V_{OV}}\n",
    "\\end{equation}\n",
    "\n",
    "\\begin{equation}\n",
    "r_o = \\dfrac{1}{g_{ds}} = \\dfrac{1}{\\lambda I_{D0}}\n",
    "\\end{equation}\n",
    "\n",
    "\\begin{equation}\n",
    "\\left|\\dfrac{v_{ds}}{v_{gs}}\\right| = \\dfrac{g_m}{g_{ds}} = \\dfrac{2}{\\lambda V_{OV}}\n",
    "\\end{equation}"
   ]
  },
  {
   "cell_type": "markdown",
   "metadata": {},
   "source": [
    " - Recall that the intrisic gain of the transistor is given by the product of $g_m$ and $r_o$ \n",
    " - $g_m$ increases linearly with drain current, while $r_o$ is inversely dependent, keeping their product constant\n",
    " - What is a typical value for $g_m r_o$?\n",
    "\n"
   ]
  },
  {
   "cell_type": "markdown",
   "metadata": {
    "slideshow": {
     "slide_type": "subslide"
    }
   },
   "source": [
    "## Intrinsic gain"
   ]
  },
  {
   "cell_type": "markdown",
   "metadata": {
    "slideshow": {
     "slide_type": "-"
    }
   },
   "source": [
    " - In our Level 1 “process” $\\lambda_n = 0.1 V^{-1}$\n",
    " - In order to maximize signal swing, we want to use a relatively low overdrive voltage ($V_{ov} = V_{GS} - V_{th}$)\n",
    " - Assuming a gate bias of $V_{GS0} = 0.9V$ (for example), the intrinsic gain is given as\n",
    " \n",
    "\\begin{equation}\n",
    "g_mr_o \\approx \\dfrac{2}{\\lambda V_{ov}} = \\dfrac{2}{0.1 V^{-1} \\times 200mV} = 100 V/V\n",
    "\\end{equation}\n",
    "\n",
    " - This is $5 \\times$ the theoretical gain with a resistive load\n",
    " - How can we can advantage of intrinsic gain to build amplifiers with gains approaching/exceeding $100dB$?"
   ]
  },
  {
   "cell_type": "markdown",
   "metadata": {
    "slideshow": {
     "slide_type": "slide"
    }
   },
   "source": [
    "## Common-source with active load"
   ]
  },
  {
   "cell_type": "markdown",
   "metadata": {
    "slideshow": {
     "slide_type": "-"
    }
   },
   "source": [
    "<center><img src=\"common_source_active_small_signal.png\" width=1000 /></center>"
   ]
  },
  {
   "cell_type": "markdown",
   "metadata": {},
   "source": [
    " - We can increase the gain of the common-source statge by replacing the resistor $R_D$with a $PMOS$ transistor in saturation\n",
    " - This is referred to as an *active* load, since it replaces a passive device (resistor) with an active one (transistor)\n",
    " - The bias voltage $V_{BP}$ sets the $DC$ operating point ($g_{m1,2}$ and $r_{o1,2}$) of the amplifier stage by controlling the drain currents of $M_1$ and $M_2$\n",
    " - Because both $V_S$ and $V_G$ of $M_2$ are $DC$ voltages, its transconductance current is zero in the small-signal model"
   ]
  },
  {
   "cell_type": "markdown",
   "metadata": {
    "slideshow": {
     "slide_type": "slide"
    }
   },
   "source": [
    "## Small-signal gain"
   ]
  },
  {
   "cell_type": "markdown",
   "metadata": {
    "cell_style": "center"
   },
   "source": [
    "<center><img src=\"CS_active_small_signal.png\" width=600 /></center>"
   ]
  },
  {
   "cell_type": "markdown",
   "metadata": {},
   "source": [
    " - In this circuit, $M_1$ functions as a transconductor and $M_2$ behaves as a resistance\n",
    " - The small-signal gain expression is identical to that of the passive load, with $R_D$ replaced by $r_{o2}$:\n",
    "\n",
    "\\begin{equation}\n",
    "A_v = \\dfrac{v_o}{v_i} = -g_{m1} \\cdot (r_{o1} || r_{o2})\n",
    "\\end{equation}\n",
    "\n",
    " - If we make the (somewhat dubious) assumption that $r_{op} = r_{on} = r_o$, we can relate the gain of the active load stage to the MOSFET's intrinsic gain:\n",
    " \n",
    "\\begin{equation}\n",
    "A_v = \\dfrac{v_o}{v_i} = -g_{m1} \\cdot (r_{o1} || r_{o2}) \\approx -\\dfrac{g_m\\cdot r_o}{2}\n",
    "\\end{equation}\n",
    "\n",
    " - In practice $r_{on} \\neq r_{op}$, but are of the same order of magnitude \n"
   ]
  },
  {
   "cell_type": "markdown",
   "metadata": {
    "slideshow": {
     "slide_type": "slide"
    }
   },
   "source": [
    "## Magnitude of the gain"
   ]
  },
  {
   "cell_type": "markdown",
   "metadata": {},
   "source": [
    " - Recall that the gain of the common-source stage with a passive load ($R_D$) is\n",
    "\n",
    "\\begin{equation}\n",
    "A_v = -g_m(r_o||R_D) \\approx -g_m\\cdot R_D\n",
    "\\end{equation}\n",
    "\n",
    " - For a nominal $DC$ output votage of $V_{DD}/2$ (i.e. the $DC$ operating point), this is\n",
    " \n",
    "\\begin{equation}\n",
    "|A_v| \\approx \\dfrac{2\\cdot V_{DD}/2}{R_D\\cdot V_{ov}}\\cdot R_D = \\dfrac{V_{DD}}{V_{ov}} \\leq 20V/V\n",
    "\\end{equation}\n",
    "\n",
    " - For the active-load stage, the gain is given by\n",
    "\n",
    "\\begin{equation}\n",
    "A_v = \\dfrac{v_o}{v_i} = -g_{m1} \\cdot (r_{o1} || r_{o2})\n",
    "\\end{equation}\n",
    "\n",
    " - Using our Level 1 process parameters ($\\lambda_n = 0.1, \\lambda_p = 0.2$), this becomes \n",
    " \n",
    "\\begin{equation}\n",
    "A_v = -g_{m1} \\cdot (r_{o1} || r_{o2}) = -g_{m1}\\cdot r_{o1} \\dfrac{r_{o2}}{r_{o1} + r_{o2}}\\approx -33 V/V\n",
    "\\end{equation}\n",
    "\n",
    " - This is an improvement, but still fairly low. We'll discuss how to increase this soon..."
   ]
  },
  {
   "cell_type": "markdown",
   "metadata": {
    "slideshow": {
     "slide_type": "slide"
    }
   },
   "source": [
    "## Ouput voltage range"
   ]
  },
  {
   "cell_type": "markdown",
   "metadata": {
    "slideshow": {
     "slide_type": "-"
    }
   },
   "source": [
    " - When $V_o$ is at its maximum value, $M_2$ still needs to be in saturation to operate as a high-resistance load, requiring \n",
    " \n",
    "\\begin{equation}\n",
    "V_o < V_{DD} - (V_{DD}  - V_{BP} + |V_{thp}|) = V_{BP} - |V_{thp}|\n",
    "\\end{equation}\n",
    "\n",
    " - Similarly, $M_1$ needs to remain in saturation, setting the lower bound on $V_o$ as\n",
    " \n",
    "\\begin{equation}\n",
    "V_o > V_{GS1} - V_{thn}\n",
    "\\end{equation}\n",
    "\n",
    " - The valid range of output voltages is thus\n",
    " \n",
    "\\begin{equation}\n",
    "V_{GS1} - V_{thn} < V_o < V_{BP} - |V_{thp}|\n",
    "\\end{equation}\n",
    "\n",
    " - One way to look at this is to say the output swing is $V_{DD} - 2V_{OV}$\n",
    " - Again to maximize use of this range we would like to set the operating point of $V_o$ to approximately $V_{DD}/2$\n",
    " - How do we set the operating point?"
   ]
  },
  {
   "cell_type": "code",
   "execution_count": 3,
   "metadata": {
    "slideshow": {
     "slide_type": "skip"
    }
   },
   "outputs": [],
   "source": [
    "def plot_cs_op_point(V_DD, V_BP, V_GS1, V_out):\n",
    "    I_d1 = nmos_iv_sweep(V_GS1, V_out, 100, 1, 0.1)\n",
    "    I_d2 = pmos_iv_sweep(V_DD-V_BP, V_DD-V_out, 200, 1, 0.2)\n",
    "    \n",
    "    fig, ax = plt.subplots(figsize=(10.0, 7.5))\n",
    "    ax.plot(V_out, 1e6*I_d1, label=r'$I_{d,NMOS}$', color='blue')\n",
    "    ax.plot(V_out, 1e6*I_d2, label=r'$I_{d,PMOS}$', color='red')\n",
    "    ax.set_xlabel(r'$V_{out} [V]$')\n",
    "    ax.set_ylabel(r'$I_{d} [\\mu A]$')\n",
    "    ax.legend()\n",
    "    ax.grid()"
   ]
  },
  {
   "cell_type": "markdown",
   "metadata": {
    "slideshow": {
     "slide_type": "subslide"
    }
   },
   "source": [
    " - Because $I_{D1} = I_{D2}$, the point at which the drain current curves intersect constitutes the operating point of the circuit\n",
    " - For a nominal ($DC$) input voltage of $0.86V$, both transistors are approximately in the middle of their saturation ranges and the output voltage is ~$V_{DD}/2$\n",
    " - However, if $V_{GS1}$ is changed slightly (or if device parameters differ due to manufacturing variability), the resulting operating point can place either $M_1$ or $M_2$ in triode, drastically decreasing the gain\n",
    " - Feedback is required to stabilize the output DC voltage at a desired value (more on this later)"
   ]
  },
  {
   "cell_type": "code",
   "execution_count": 6,
   "metadata": {
    "slideshow": {
     "slide_type": "-"
    }
   },
   "outputs": [
    {
     "data": {
      "image/png": "[encoded data removed]",
      "text/plain": [
       "<Figure size 720x540 with 1 Axes>"
      ]
     },
     "metadata": {
      "needs_background": "light"
     },
     "output_type": "display_data"
    }
   ],
   "source": [
    "V_DD = 3\n",
    "V_BP = 2\n",
    "V_GS1 = .86 \n",
    "V_out = np.arange(0,3,step=0.01)\n",
    "plot_cs_op_point(V_DD, V_BP, V_GS1, V_out)"
   ]
  },
  {
   "cell_type": "markdown",
   "metadata": {
    "slideshow": {
     "slide_type": "slide"
    }
   },
   "source": [
    "## Common-source biasing"
   ]
  },
  {
   "cell_type": "markdown",
   "metadata": {},
   "source": [
    "<center><img src=\"common_source_active_small_signal.png\" width=1000 /></center>"
   ]
  },
  {
   "cell_type": "markdown",
   "metadata": {},
   "source": [
    " - If the output voltage is maintained such that both $M_1$ and $M_2$ remain in saturation, the gain is determined by\n",
    " \n",
    "\\begin{equation}\n",
    "A_v = \\dfrac{v_o}{v_i} = -g_{m1}\\cdot r_{o1}||r_{o2}\n",
    "\\end{equation}\n",
    "\n",
    " - where $g_{m1} = 2I_{D1}/V_{OV1}$, $r_{o2} = 1/\\lambda_n I_{D1}$, $r_{o1} = 1/\\lambda_p I_{D2}$, and $I_{D1} = I_{D2}$\n",
    " - $I_{D2}$ ($I_{D1}$) constitutes the $DC$ operating point of the circuit, and is often referred to as the \"bias current\"\n",
    " - How do we control $I_{D2}$?\n",
    " \n"
   ]
  },
  {
   "cell_type": "markdown",
   "metadata": {
    "slideshow": {
     "slide_type": "slide"
    }
   },
   "source": [
    "## Basic current mirror"
   ]
  },
  {
   "cell_type": "markdown",
   "metadata": {
    "cell_style": "split"
   },
   "source": [
    "<center><img src=\"common_source_biasing.png\" width=500 /></center>"
   ]
  },
  {
   "cell_type": "markdown",
   "metadata": {
    "cell_style": "split"
   },
   "source": [
    " - Assuming $\\lambda_p = 0$, if $(W/L)_2$ $ = (W/L)_3$,\n",
    " \n",
    "\\begin{equation}\n",
    "I_{D1} = I_{D2} = I_{D3} = I_{BIAS}\n",
    "\\end{equation}\n",
    "\n",
    " - Hence,\n",
    " \n",
    "\\begin{equation}\n",
    "g_{m1} = \\dfrac{2I_{BIAS}}{V_{OV}}, \\;\\; r_{o1} = \\dfrac{1}{\\lambda_n I_{BIAS}}, \\;\\; r_{o2} = \\dfrac{1}{\\lambda_p I_{BIAS}} \n",
    "\\end{equation}\n",
    "\n",
    "\n"
   ]
  },
  {
   "cell_type": "markdown",
   "metadata": {},
   "source": [
    " - A \"diode-connected\" transistor ($M_3$ in the figure) converts a current ($I_{BIAS}$) into a voltage ($V_{BP}$) based on the relation\n",
    " - Current biasing in this manner allows us to control the small-signal performance of the circuit by designing $I_{BIAS}$ to achieve specific goals (e.g. gain, bandwidth, noise)"
   ]
  },
  {
   "cell_type": "markdown",
   "metadata": {
    "slideshow": {
     "slide_type": "subslide"
    }
   },
   "source": [
    "## Current mirror operation"
   ]
  },
  {
   "cell_type": "markdown",
   "metadata": {
    "cell_style": "split"
   },
   "source": [
    "<center><img src=\"common_source_biasing.png\" width=500 /></center>"
   ]
  },
  {
   "cell_type": "markdown",
   "metadata": {
    "cell_style": "split"
   },
   "source": [
    " - Again, assuming $\\lambda_p = 0$\n",
    " \n",
    "\\begin{equation}\n",
    "V_{SG3} = |V_{thp}| + \\sqrt{\\dfrac{2\\cdot I_{BIAS}}{\\mu_pC_{ox} \\left(\\dfrac{W}{L}\\right)_3}}\n",
    "\\end{equation}\n",
    "\n",
    " - The commmon-source bias current is thus\n",
    " \n",
    "\\begin{equation}\n",
    "I_{D1} = I_{D2} = \\dfrac{1}{2}\\mu\\cdot C_{ox} \\cdot \\dfrac{W}{L}(V_{DD}-V_{BP}-|V_{thp}|)^2\n",
    "\\end{equation}\n",
    "\n"
   ]
  },
  {
   "cell_type": "markdown",
   "metadata": {
    "cell_style": "center"
   },
   "source": [
    " - The \"diode\" connection (gate and drain shorted together) ensures $M_3$ is always in saturation, since\n",
    " \n",
    "\\begin{equation}\n",
    "V_{SG} = V_{SD} > V_{SG} - |V_{thp}|\n",
    "\\end{equation}\n",
    "\n",
    " - Because $M_2$ and $M_3$ share gate and source connections, $M_2$ \"mirrors\" (i.e. copies) $M_3$'s current\n",
    " - However, we have ignored the fact that $V_{SD2}$ is not necessarily equal to $V_{SD3}$\n",
    " - How do $I_{D1}$, $I_{D2}$ vary with $V_{out}$?"
   ]
  },
  {
   "cell_type": "markdown",
   "metadata": {
    "slideshow": {
     "slide_type": "slide"
    }
   },
   "source": [
    "## Finite output resistance"
   ]
  },
  {
   "cell_type": "markdown",
   "metadata": {
    "cell_style": "split"
   },
   "source": [
    "<center><img src=\"current_mirror_output_resistance.png\" width=500 /></center>"
   ]
  },
  {
   "cell_type": "markdown",
   "metadata": {
    "cell_style": "split"
   },
   "source": [
    " - Considering the effect of channel-length modulation on $M_2$'s drain current gives\n",
    "\n",
    "\\begin{equation}\n",
    "I_{D2} = \\dfrac{1}{2}\\mu\\cdot C_{ox} \\cdot \\dfrac{W}{L}(V_{DD}-V_{BP}-|V_{thp}|)^2[1+\\lambda (V_{DD} - V_o) ]\n",
    "\\end{equation}\n",
    "\n",
    " - To assess the dependence of $I_{D2}$ on $V_o$, we can take the derivative \n",
    "\n",
    "\\begin{equation}\n",
    "\\dfrac{\\partial I_{D2}}{\\partial V_o} = \\dfrac{1}{r_{o2}}\n",
    "\\end{equation}"
   ]
  },
  {
   "cell_type": "markdown",
   "metadata": {},
   "source": [
    " - The purpose of $M_2$ is to provide current for the common-source stage\n",
    " - The output resistance of the current mirror captures the dependence of $I_{D2}$, which determines *how* effectively it operates as a current source\n",
    " - It turns out then that the same factor limiting voltage gain in the common-source stage limits the precision of a current mirror: *output resistance*\n",
    " - How can we increase output resistance and, as a result, gain? \n",
    " - More on this next time..."
   ]
  },
  {
   "cell_type": "markdown",
   "metadata": {
    "slideshow": {
     "slide_type": "slide"
    }
   },
   "source": [
    "## Summary"
   ]
  },
  {
   "cell_type": "markdown",
   "metadata": {},
   "source": [
    " - High gain in operational amplifiers (Opamps) and operational *transconductance* amplifiers (OTAs) is achieved using (one or more) structures similar in form to the common-source stage\n",
    "     - Voltage gain is realized as the product of a transconductance ($G_m$) and a resistance ($R_o$)\n",
    " - Active loads enable higher values of $R_o$, and thus higher gain, than passive loads\n",
    " - Current biasing allows us to precisely define the critical small-signal parameters ($g_m$, $r_o$) that determine circuit performance\n",
    " - Finite MOS output resistance limits both gain and the precision of current mirrors\n",
    " - Next time, we will look at how to build both better current mirrors and voltage amplification stages"
   ]
  }
 ],
 "metadata": {
  "celltoolbar": "Slideshow",
  "kernelspec": {
   "display_name": "Python 3",
   "language": "python",
   "name": "python3"
  },
  "language_info": {
   "codemirror_mode": {
    "name": "ipython",
    "version": 3
   },
   "file_extension": ".py",
   "mimetype": "text/x-python",
   "name": "python",
   "nbconvert_exporter": "python",
   "pygments_lexer": "ipython3",
   "version": "3.8.2"
  },
  "livereveal": {
   "controls": false,
   "scroll": true,
   "theme": "simple"
  },
  "rise": {
   "enable_chalkboard": true,
   "slideNumber": true
  }
 },
 "nbformat": 4,
 "nbformat_minor": 4
}
