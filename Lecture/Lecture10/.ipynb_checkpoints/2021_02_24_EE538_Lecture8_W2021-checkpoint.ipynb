{
 "cells": [
  {
   "cell_type": "markdown",
   "metadata": {
    "cell_style": "center",
    "slideshow": {
     "slide_type": "slide"
    }
   },
   "source": [
    "# EE 538: Analog Integrated Circuit Design\n",
    "\n",
    "## Winter 2021\n",
    "\n",
    "## Instructor: Jason Silver"
   ]
  },
  {
   "cell_type": "markdown",
   "metadata": {
    "slideshow": {
     "slide_type": "skip"
    }
   },
   "source": [
    "## Python packages/modules"
   ]
  },
  {
   "cell_type": "code",
   "execution_count": 1,
   "metadata": {
    "slideshow": {
     "slide_type": "skip"
    }
   },
   "outputs": [],
   "source": [
    "import matplotlib as mpl\n",
    "from matplotlib import pyplot as plt\n",
    "import numpy as np\n",
    "from scipy import signal\n",
    "#%matplotlib notebook\n",
    "\n",
    "mpl.rcParams['font.size'] = 12\n",
    "mpl.rcParams['legend.fontsize'] = 'large'\n",
    "\n",
    "def plot_xy(x, y, xlabel, ylabel):\n",
    "    fig, ax = plt.subplots(figsize=(10.0, 7.5));\n",
    "    ax.plot(x, y, 'b');\n",
    "    ax.grid();\n",
    "    ax.set_xlabel(xlabel);\n",
    "    ax.set_ylabel(ylabel);\n",
    "    \n",
    "def plot_xy2(x1, y1, x1label, y1label, x2, y2, x2label, y2label):\n",
    "    fig, ax = plt.subplots(2, figsize = (10.0, 7.5));\n",
    "    ax[0].plot(x1, y1, 'b');\n",
    "    ax[0].set_ylabel(y1label)\n",
    "    ax[0].grid()\n",
    "    \n",
    "    ax[1].plot(x2, y2, 'b');\n",
    "    ax[1].set_xlabel(x1label)\n",
    "    ax[1].set_xlabel(x2label);\n",
    "    ax[1].set_ylabel(y2label);\n",
    "    ax[1].grid();\n",
    "    \n",
    "    fig.align_ylabels(ax[:])\n",
    "    \n",
    "def plot_x2y(x, y1, y2, xlabel, ylabel, y1label, y2label):\n",
    "        \n",
    "    fig, ax = plt.subplots(figsize=(10.0, 7.5));\n",
    "    ax.plot(x, y1, 'b')\n",
    "    ax.plot(x, y2, 'r')\n",
    "    ax.legend( [y1label,y2label] ,loc='upper center', ncol=5, fancybox=True, \n",
    "           shadow=True, bbox_to_anchor=(0.5,1.1))  \n",
    "    ax.grid()\n",
    "    ax.set_xlabel(xlabel)\n",
    "    ax.set_ylabel(ylabel)\n",
    "    \n",
    "def plot_xy3(x, y1, y2, y3, xlabel, y1label, y2label, y3label):\n",
    "    fig, ax = plt.subplots(3, figsize=(10.0,7.5))\n",
    "    \n",
    "    ax[0].plot(x, y1)\n",
    "    ax[0].set_ylabel(y1label)\n",
    "    ax[0].grid()\n",
    "    \n",
    "    ax[1].plot(x, y2)\n",
    "    ax[1].set_ylabel(y2label)\n",
    "    ax[1].grid()\n",
    "    \n",
    "    ax[2].plot(x, y3)  \n",
    "    ax[2].set_ylabel(y3label)\n",
    "    ax[2].set_xlabel(xlabel)\n",
    "    ax[2].grid()\n",
    "    \n",
    "def plot_xlogy(x, y, xlabel, ylabel):\n",
    "    fig, ax = plt.subplots(figsize=(10.0, 7.5));\n",
    "    ax.semilogy(x, y, 'b');\n",
    "    ax.grid();\n",
    "    ax.set_xlabel(xlabel);\n",
    "    ax.set_ylabel(ylabel);\n",
    "\n",
    "def plot_logxy2(x1, y1, x2, y2, x1label, y1label, x2label, y2label):\n",
    "    fig, ax = plt.subplots(2, figsize = (10.0, 7.5));\n",
    "    ax[0].semilogx(x1, y1, 'b');\n",
    "    ax[0].set_ylabel(y1label)\n",
    "    ax[0].grid()\n",
    "    \n",
    "    ax[1].semilogx(x2, y2, 'b');\n",
    "    ax[1].set_xlabel(x1label)\n",
    "    ax[1].set_xlabel(x2label);\n",
    "    ax[1].set_ylabel(y2label);\n",
    "    ax[1].grid();\n",
    "    \n",
    "    fig.align_ylabels(ax[:])    \n",
    "    \n",
    "def nmos_iv_sweep(V_gs, V_ds, W, L, lmda):\n",
    "    u_n = 350                 # electron mobility (device parameter)\n",
    "    e_ox = 3.9*8.854e-12/100; # relative permittivity\n",
    "    t_ox = 9e-9*100;          # oxide thickness\n",
    "    C_ox = e_ox/t_ox          # oxide capacitance\n",
    "    V_thn = 0.7                # threshold voltage (device parameter)\n",
    "    V_ov = V_gs - V_thn\n",
    "    Ldn = 0.08e-6\n",
    "    Leff = L - 2*Ldn\n",
    "    \n",
    "    I_d = []\n",
    "    \n",
    "    for i in range(len(V_ds)):\n",
    "        I_d.append(np.piecewise(V_ds[i], [V_ds[i] < V_ov, V_ds[i] >= V_ov],\n",
    "                       [u_n*C_ox*(W/Leff)*(V_gs - V_thn - V_ds[i]/2)*V_ds[i]*(1+lmda*V_ds[i]) , \n",
    "                        0.5*u_n*C_ox*(W/Leff)*(V_gs - V_thn)**2*(1+lmda*V_ds[i])])) \n",
    "    \n",
    "    return np.array(I_d)\n",
    "\n",
    "def pmos_iv_sweep(V_sg, V_sd, W, L, lmda):\n",
    "    u_p = 100                 # electron mobility (device parameter)\n",
    "    e_ox = 3.9*8.854e-12/100; # relative permittivity\n",
    "    t_ox = 9e-9*100;          # oxide thickness\n",
    "    C_ox = e_ox/t_ox          # oxide capacitance\n",
    "    V_thp = -0.8                # threshold voltage (device parameter)\n",
    "    V_ov = V_sg - np.abs(V_thp)\n",
    "    Ldp = 0.09e-6\n",
    "    Leff = L - 2*Ldp\n",
    "    \n",
    "    I_d = []\n",
    "    \n",
    "    for i in range(len(V_sd)):\n",
    "        I_d.append(np.piecewise(V_sd[i], [V_sd[i] < V_ov, V_sd[i] >= V_ov],\n",
    "                       [u_p*C_ox*(W/Leff)*(V_sg - np.abs(V_thp) - V_sd[i]/2)*V_sd[i]*(1+lmda*V_sd[i]) , \n",
    "                        0.5*u_p*C_ox*(W/Leff)*(V_sg - np.abs(V_thp))**2*(1+lmda*V_sd[i])])) \n",
    "    \n",
    "    return np.array(I_d)\n",
    "\n",
    "def nmos_iv_sat(V_gs, V_ds, W, L, lmda):\n",
    "    u_n = 350                 # electron mobility (device parameter)\n",
    "    e_ox = 3.9*8.854e-12/100; # relative permittivity\n",
    "    t_ox = 9e-9*100;          # oxide thickness\n",
    "    C_ox = e_ox/t_ox          # oxide capacitance\n",
    "    V_thn = 0.7                # threshold voltage (device parameter)\n",
    "    V_ov = V_gs - V_thn\n",
    "    Ldn = 0.08e-6\n",
    "    Leff = L - 2*Ldn\n",
    "    \n",
    "    I_d = 0.5*u_n*C_ox*(W/Leff)*(V_gs - V_thn)**2*(1+lmda*V_ds)\n",
    "    \n",
    "    return I_d\n",
    "\n",
    "def nmos_diff_pair(V_id, I_ss, R_D, W, L, V_dd):\n",
    "    u_n = 350                 # electron mobility (device parameter)\n",
    "    e_ox = 3.9*8.854e-12/100; # relative permittivity\n",
    "    t_ox = 9e-9*100;          # oxide thickness\n",
    "    C_ox = e_ox/t_ox          # oxide capacitance\n",
    "    V_thn = 0.7                # threshold voltage (device parameter)\n",
    "    Ldn = 0.08e-6\n",
    "    Leff = L - 2*Ldn\n",
    "    \n",
    "    I_dp = I_ss/2 + 0.25*u_n*C_ox*(W/L)*V_id*np.sqrt(4*I_ss/(u_n*C_ox*(W/L)) - V_id**2)\n",
    "    I_dm = I_ss/2 - 0.25*u_n*C_ox*(W/L)*V_id*np.sqrt(4*I_ss/(u_n*C_ox*(W/L)) - V_id**2)\n",
    "\n",
    "    return I_dp, I_dm"
   ]
  },
  {
   "cell_type": "markdown",
   "metadata": {
    "slideshow": {
     "slide_type": "slide"
    }
   },
   "source": [
    "# Lecture 8 - Stability and Frequency Compensation"
   ]
  },
  {
   "cell_type": "markdown",
   "metadata": {
    "slideshow": {
     "slide_type": "slide"
    }
   },
   "source": [
    "## Announcements"
   ]
  },
  {
   "cell_type": "markdown",
   "metadata": {
    "cell_style": "center",
    "slideshow": {
     "slide_type": "-"
    }
   },
   "source": [
    " - Design Project Phase 1 posted, due Sunday March 7\n",
    "     - PDF submission on Canvas \n",
    " - Design Project Phase 2 will be posted soon"
   ]
  },
  {
   "cell_type": "markdown",
   "metadata": {
    "slideshow": {
     "slide_type": "slide"
    }
   },
   "source": [
    "## Week 8"
   ]
  },
  {
   "cell_type": "markdown",
   "metadata": {
    "slideshow": {
     "slide_type": "slide"
    }
   },
   "source": [
    "## Overview"
   ]
  },
  {
   "cell_type": "markdown",
   "metadata": {},
   "source": [
    " - Last time...\n",
    "     - CMOS amplifier design\n",
    "     - Subthreshold MOS operation\n",
    "     - $g_m/I_D$ design methodology\n",
    " - Today...\n",
    "     - Feedback\n",
    "     - Stability definition and criteria (Bode/root locus)\n",
    "     - Damping ratio and phase margin\n",
    "     - Mirror poles\n",
    "     - Frequency response of two-stage amplifiers"
   ]
  },
  {
   "cell_type": "markdown",
   "metadata": {
    "slideshow": {
     "slide_type": "slide"
    }
   },
   "source": [
    "## Negative feedback"
   ]
  },
  {
   "cell_type": "markdown",
   "metadata": {
    "cell_style": "center"
   },
   "source": [
    "<center><img src=negative_feedback.png\" width=800 /></center>"
   ]
  },
  {
   "cell_type": "markdown",
   "metadata": {
    "cell_style": "center"
   },
   "source": [
    " - Negative feedback loop processes the error $S_i(s) -\\beta \\cdot S_o(s)$\n",
    " - If the magnitude of $a$ is large, the error is minimized, i.e. $S_i(s) - \\beta \\cdot S_o(s) \\rightarrow 0$\n",
    " - In this sense, negative feedback “desensitizes” the transfer function to the open-loop gain $a$"
   ]
  },
  {
   "cell_type": "markdown",
   "metadata": {
    "slideshow": {
     "slide_type": "slide"
    }
   },
   "source": [
    "## Non-inverting amplifier"
   ]
  },
  {
   "cell_type": "markdown",
   "metadata": {
    "cell_style": "split"
   },
   "source": [
    "<center><img src=non_inverting_amp.png\" width=500 /></center>"
   ]
  },
  {
   "cell_type": "markdown",
   "metadata": {
    "cell_style": "split"
   },
   "source": [
    "\\begin{equation}\n",
    "a = A_{0}\n",
    "\\end{equation}\n",
    "\n",
    "\\begin{equation}\n",
    "\\beta = \\dfrac{R_1}{R_1 + R_2}\n",
    "\\end{equation}\n",
    "\n",
    "\\begin{equation}\n",
    "\\dfrac{v_o}{v_i} = \\dfrac{A_{0}}{1+\\beta A_{0}} \\approx \\dfrac{1}{\\beta}\n",
    "\\end{equation}"
   ]
  },
  {
   "cell_type": "markdown",
   "metadata": {
    "cell_style": "center"
   },
   "source": [
    " - A fraction of the output voltage (set by $\\beta$) is fed back to the inverting input and the error voltage is processed by the amplifier\n",
    " - Open-loop gain specification is determined by precision requirements (application-dependent)\n",
    " - Exact value of DC gain $A_0$ is unimportant as long as it’s “large enough”"
   ]
  },
  {
   "cell_type": "markdown",
   "metadata": {
    "slideshow": {
     "slide_type": "slide"
    }
   },
   "source": [
    "## Gain-bandwidth product"
   ]
  },
  {
   "cell_type": "markdown",
   "metadata": {
    "cell_style": "split"
   },
   "source": [
    "<center><img src=feedback_frequency_response.png\" width=700 /></center>"
   ]
  },
  {
   "cell_type": "markdown",
   "metadata": {
    "cell_style": "split"
   },
   "source": [
    "\\begin{equation}\n",
    "G(s) = \\dfrac{v_o(s)}{v_i(s)} = \\dfrac{A_{v}(s)}{1+\\beta A_{v}(s)}\n",
    "\\end{equation}\n",
    "\n",
    "\\begin{equation}\n",
    "A_v(s) = \\dfrac{A_0}{1+s/\\omega_0}\n",
    "\\end{equation}\n",
    "\n",
    "\\begin{equation}\n",
    "GBW = A_0 \\omega_0\n",
    "\\end{equation}"
   ]
  },
  {
   "cell_type": "markdown",
   "metadata": {},
   "source": [
    " - Assuming dominant-pole behavior, we can readily assess the effect of negative feedback on frequency response\n",
    " - $A_0$ is the $DC$ gain of the *open-loop* amplifier, and $\\omega_0$ is the dominant pole frequency (i.e. $3dB$ bandwidth)"
   ]
  },
  {
   "cell_type": "markdown",
   "metadata": {
    "slideshow": {
     "slide_type": "subslide"
    }
   },
   "source": [
    " - To determine the frequency response of the closed-loop system, we substitute the frequency-dependent expression for $A_v(s)$ into the closed-loop gain expression\n",
    " \n",
    "\\begin{equation}\n",
    "G(s) = \\dfrac{A_{v}(s)}{1+\\beta A_{v}(s)} = \\dfrac{A_0}{1+s/\\omega_0 + \\beta A_0} = \\dfrac{\\frac{A_0}{1+\\beta A_0}}{1+\\frac{s}{\\omega_0 (1+\\beta A_0)}}\n",
    "\\end{equation}\n",
    "\n",
    " - Solving for the closed-loop pole frequency gives\n",
    " \n",
    "\\begin{equation}\n",
    "\\omega_0^{'} = \\omega_0\\cdot(1+\\beta A_0)\n",
    "\\end{equation}"
   ]
  },
  {
   "cell_type": "code",
   "execution_count": 2,
   "metadata": {
    "slideshow": {
     "slide_type": "skip"
    }
   },
   "outputs": [],
   "source": [
    "def plot_CL_freq(A_dB, f_t, betas, w):\n",
    "    A_0 = 10**(A_dB/20)\n",
    "    f_3dB = f_t/A_0\n",
    "    w_0 = f_3dB*2*np.pi\n",
    "    A_s = np.array([])\n",
    "\n",
    "    fig, axs = plt.subplots(2, figsize=(10.0, 8.0))\n",
    "    for b in betas:\n",
    "        Av_cl = signal.TransferFunction([A_0], [1/w_0, 1 + b*A_0])\n",
    "        w, mag, phase = Av_cl.bode(w=w)       # rad/s, dB, degrees \n",
    "        f = w/2/np.pi   \n",
    "\n",
    "        # Plot the frequency response for multiple values of beta\n",
    "        fig.suptitle('Opamp Closed-Loop Frequency Response')\n",
    "        axs[0].semilogx(f, mag)\n",
    "        axs[0].grid()\n",
    "        axs[0].set_ylabel('Magnitude [dB]')\n",
    "        axs[1].semilogx(f,phase)\n",
    "        axs[1].grid()\n",
    "        axs[1].set_ylabel('Phase [deg]')\n",
    "        axs[1].set_xlabel('Frequency [Hz]')\n",
    "        fig.align_ylabels(axs[:])\n",
    "        \n",
    "def plot_CL_step(A_dB, f_t, betas, w):\n",
    "    A_0 = 10**(A_dB/20)\n",
    "    f_3dB = f_t/A_0\n",
    "    w_0 = f_3dB*2*np.pi\n",
    "    A_s = np.array([])\n",
    "    \n",
    "    fig, axs = plt.subplots(2, figsize=(10.0, 8.0))\n",
    "    for b in betas:\n",
    "        Av_cl = signal.TransferFunction([A_0], [1/w_0, 1 + b*A_0])\n",
    "        tin = np.linspace(0,20e-6,100)\n",
    "        u_step = np.concatenate( (0, np.ones(99)), axis=None)\n",
    "        tout,vout = signal.step(Av_cl, X0=None, T=tin)\n",
    "\n",
    "        # Plot the step response for multiple values of beta\n",
    "        fig.suptitle('Opamp Closed-Loop Step Response')\n",
    "        axs[0].plot(1e6*tout, b*vout)\n",
    "        axs[0].grid()\n",
    "        axs[0].set_ylabel(r'$\\beta V_o$ [V]')\n",
    "        axs[1].plot(1e6*tin,u_step)\n",
    "        axs[1].grid()\n",
    "        axs[1].set_ylabel('Input Voltage [V]')\n",
    "        axs[1].set_xlabel('Time [$\\mu $s]')\n",
    "        fig.align_ylabels(axs[:])\n"
   ]
  },
  {
   "cell_type": "markdown",
   "metadata": {
    "slideshow": {
     "slide_type": "slide"
    }
   },
   "source": [
    "## Gain-bandwidth (Bode)"
   ]
  },
  {
   "cell_type": "markdown",
   "metadata": {
    "cell_style": "split"
   },
   "source": [
    "<center><img src=closed_loop_bode.png\" width=700 /></center>"
   ]
  },
  {
   "cell_type": "markdown",
   "metadata": {
    "cell_style": "split"
   },
   "source": [
    "\n",
    "\\begin{equation}\n",
    "A_v(s) = \\dfrac{A_0}{1+s/\\omega_0}\n",
    "\\end{equation}\n",
    "\n",
    "\\begin{equation}\n",
    "G(s) = \\dfrac{\\frac{A_0}{1+\\beta A_0}}{1+\\frac{s}{\\omega_0 (1+\\beta A_0)}}\n",
    "\\end{equation}\n",
    "\n",
    "\\begin{equation}\n",
    "\\omega_0^{'} = \\omega_0\\cdot(1+\\beta A_0)\n",
    "\\end{equation}"
   ]
  },
  {
   "cell_type": "markdown",
   "metadata": {},
   "source": [
    " - For every $20dB$ reduction in closed-loop gain, the $3dB$ frequency increases by 1 decade\n",
    " - This results from a constant gain-bandwidth product, which is an intrinsic property of the open-loop amplifier\n",
    " - Note that this assumes that the impedances in the feedback network are purely real (i.e. resistors only) "
   ]
  },
  {
   "cell_type": "markdown",
   "metadata": {
    "slideshow": {
     "slide_type": "subslide"
    }
   },
   "source": [
    " - Let's take a look at the closed-loop frequency response as a function of the feedback factor $\\beta$"
   ]
  },
  {
   "cell_type": "code",
   "execution_count": 3,
   "metadata": {},
   "outputs": [
    {
     "data": {
      "image/png": "[encoded data removed]",
      "text/plain": [
       "<Figure size 720x576 with 2 Axes>"
      ]
     },
     "metadata": {
      "needs_background": "light"
     },
     "output_type": "display_data"
    }
   ],
   "source": [
    "betas = np.logspace(-4, 0, num=5)\n",
    "w = 2*np.pi*np.logspace(0,9,num=100)\n",
    "plot_CL_freq(120, 10e6, betas, w)"
   ]
  },
  {
   "cell_type": "markdown",
   "metadata": {
    "slideshow": {
     "slide_type": "slide"
    }
   },
   "source": [
    "## Stability: Barkhausen criteria"
   ]
  },
  {
   "cell_type": "markdown",
   "metadata": {},
   "source": [
    "<center><img src=barkhausen_criteria.png\" width=800 /></center>"
   ]
  },
  {
   "cell_type": "markdown",
   "metadata": {
    "cell_style": "center"
   },
   "source": [
    " - In a negative feedback loop, if the loop gain at a given frequency $\\omega_1$ is $-1$, the circuit may oscillate\n",
    " - This corresponds to a loop gain magnitude $|\\beta A_v(j\\omega_1)| = 1$ and phase $\\angle A_v(j\\omega_1) = -180^{\\circ}$"
   ]
  },
  {
   "cell_type": "markdown",
   "metadata": {
    "slideshow": {
     "slide_type": "slide"
    }
   },
   "source": [
    "## Stability: Root locus"
   ]
  },
  {
   "cell_type": "markdown",
   "metadata": {
    "cell_style": "split"
   },
   "source": [
    " - Open-loop transfer function\n",
    "\n",
    "\\begin{equation}\n",
    "A_v(s) = \\dfrac{A_0}{1+\\dfrac{s}{\\omega_0}}\n",
    "\\end{equation}\n",
    "\n",
    " - Closed-loop transfer function\n",
    " \n",
    "\\begin{equation}\n",
    "G(s) = \\dfrac{A_0}{1+s/\\omega_0 + \\beta A_0}\n",
    "\\end{equation}"
   ]
  },
  {
   "cell_type": "markdown",
   "metadata": {
    "cell_style": "split"
   },
   "source": [
    " - Open-loop pole\n",
    "\n",
    "\\begin{equation}\n",
    "s_0 = -\\omega_0\n",
    "\\end{equation}\n",
    "\n",
    " - Closed-loop pole\n",
    " \n",
    "\\begin{equation}\n",
    "s_0^{'} = -\\omega_0(1+\\beta A_0)\n",
    "\\end{equation}"
   ]
  },
  {
   "cell_type": "markdown",
   "metadata": {
    "cell_style": "center"
   },
   "source": [
    " - Root locus plots involve plotting the closed-loop poles in the complex plane to evaluate stability\n",
    " \n",
    " - If a given pole $s = j\\omega + \\sigma$ falls in the right half plane ($RHP$), the system is unstable (phase lag $> 180^{\\circ}$)\n",
    " \n",
    " - Here, for a single pole system, we have a single, real, $LHP$ pole, so the system is unconditionally stable"
   ]
  },
  {
   "cell_type": "markdown",
   "metadata": {
    "slideshow": {
     "slide_type": "slide"
    }
   },
   "source": [
    "## Bode plot vs root locus"
   ]
  },
  {
   "cell_type": "markdown",
   "metadata": {
    "cell_style": "split"
   },
   "source": [
    "<center><img src=bode_plot.png\" width=500 /></center>"
   ]
  },
  {
   "cell_type": "markdown",
   "metadata": {
    "cell_style": "split"
   },
   "source": [
    "<center><img src=root_locus_first_order.png\" width=500 /></center>"
   ]
  },
  {
   "cell_type": "markdown",
   "metadata": {},
   "source": [
    " - For a single-pole system both methods indicate unconditional stability:\n",
    "    - Bode plot: Maximum phase lag of $90^{\\circ}$\n",
    "    - Root locus: Purely real, $LHP$ pole\n",
    " - For higher-order systems, the worst-case scenario arises when $\\beta = 1$ (highest possible loop gain)"
   ]
  },
  {
   "cell_type": "markdown",
   "metadata": {
    "slideshow": {
     "slide_type": "slide"
    }
   },
   "source": [
    "## Root locus of a second-order system"
   ]
  },
  {
   "cell_type": "markdown",
   "metadata": {},
   "source": [
    " - Open-loop transfer function\n",
    " \n",
    "\\begin{equation}\n",
    "A_v(s) = \\dfrac{A_0}{\\left(1+\\dfrac{s}{\\omega_{p1}} \\right) \\left(1+\\dfrac{s}{\\omega_{p2}} \\right)}\n",
    "\\end{equation}\n",
    "\n",
    " - Closed-loop transfer function\n",
    " \n",
    "\\begin{equation}\n",
    "A_v(s) = \\dfrac{A_0}{\\left(1+\\dfrac{s}{\\omega_{p1}} \\right) \\left(1+\\dfrac{s}{\\omega_{p2}} \\right) + \\beta A_0}\n",
    "\\end{equation}"
   ]
  },
  {
   "cell_type": "markdown",
   "metadata": {
    "cell_style": "center"
   },
   "source": [
    " - For a second-order system, the situation is more “complex”\n",
    " \n",
    " - We can solve for the closed-loop pole locations using the quadratic formula and plot them in the complex plane to evaluate stability"
   ]
  },
  {
   "cell_type": "markdown",
   "metadata": {
    "cell_style": "center",
    "slideshow": {
     "slide_type": "subslide"
    }
   },
   "source": [
    "<center><img src=root_locus_second_order.png\" width=800 /></center>"
   ]
  },
  {
   "cell_type": "markdown",
   "metadata": {
    "slideshow": {
     "slide_type": "-"
    }
   },
   "source": [
    " - The closed-loop poles are given by\n",
    "\n",
    "\\begin{equation}\n",
    "s_{p1,2} = \\dfrac{-(\\omega_{p1} + \\omega_{p2})\\pm \\sqrt{(\\omega_{p1}+\\omega_{p2})^2 - 4(1+\\beta A_0)\\omega_{p1} \\omega_{p2}}}{2}\n",
    "\\end{equation}\n",
    "\n",
    " - When $\\beta = 0$ (no feedback), the closed-loop poles are equal to the open-loop poles\n",
    " - As $\\beta$ increases, the imaginary components of $s_{p1}$ and $s_{p2}$ increase"
   ]
  },
  {
   "cell_type": "markdown",
   "metadata": {
    "slideshow": {
     "slide_type": "slide"
    }
   },
   "source": [
    "## Damping ratio and phase margin"
   ]
  },
  {
   "cell_type": "markdown",
   "metadata": {
    "cell_style": "split"
   },
   "source": [
    "<center><img src=damping_ratio.png\" width=800 /></center>"
   ]
  },
  {
   "cell_type": "markdown",
   "metadata": {
    "cell_style": "split"
   },
   "source": [
    "\\begin{equation}\n",
    "PM = \\tan^{-1}\\dfrac{2\\zeta}{-2\\zeta^2 + \\sqrt{1+4\\zeta^2}}\n",
    "\\end{equation}"
   ]
  },
  {
   "cell_type": "markdown",
   "metadata": {},
   "source": [
    " - As $\\beta$ increases, the angle $\\cos^{-1}(\\zeta)$ increases, the magnitude of the imaginary component increases relative to that of the real component  \n",
    " \n",
    " - $\\zeta$ is referred to as the “damping factor,” and can be used to evaluate the qualitative behavior of the impulse response\n",
    " \n",
    " - Another means of evaluating this behavior is by looking at the phase margin, which enables use of the Bode plot\n"
   ]
  },
  {
   "cell_type": "markdown",
   "metadata": {
    "slideshow": {
     "slide_type": "slide"
    }
   },
   "source": [
    "## Phase margin of a single-pole system"
   ]
  },
  {
   "cell_type": "markdown",
   "metadata": {
    "cell_style": "split"
   },
   "source": [
    "<center><img src=phase_margin_first_order.png\" width=600 /></center>"
   ]
  },
  {
   "cell_type": "markdown",
   "metadata": {
    "cell_style": "split"
   },
   "source": [
    " - Here, phase margin is defined as\n",
    " \n",
    "\\begin{equation}\n",
    "PM = \\angle A(j\\omega_u) - 0^{\\circ}\n",
    "\\end{equation}\n",
    "\n",
    " - For a single-pole system, the phase margin is\n",
    "\n",
    "\\begin{equation}\n",
    "PM = \\angle A(j\\omega_u) = 180^{\\circ} - \\tan^{-1}\\dfrac{\\omega_u}{\\omega_{p1}}\n",
    "\\end{equation}\n",
    "\n",
    " - This has a minimum value of\n",
    " \n",
    "\\begin{equation}\n",
    "PM \\geq 180^{\\circ} - 90^{\\circ} = 90^{\\circ}\n",
    "\\end{equation}\n",
    "\n",
    " - This guarantees stability and a \"well behaved\" step response"
   ]
  },
  {
   "cell_type": "markdown",
   "metadata": {
    "slideshow": {
     "slide_type": "slide"
    }
   },
   "source": [
    "## Phase margin of a two-pole system"
   ]
  },
  {
   "cell_type": "markdown",
   "metadata": {
    "cell_style": "split"
   },
   "source": [
    "<center><img src=phase_margin_second_order.png\" width=600 /></center>"
   ]
  },
  {
   "cell_type": "markdown",
   "metadata": {
    "cell_style": "split"
   },
   "source": [
    " - For stability (i.e. no oscillation), we need\n",
    " \n",
    "\\begin{equation}\n",
    "\\angle A(j\\omega_u) > 0^{\\circ}\n",
    "\\end{equation}\n",
    "\n",
    " - For a well-behaved response, we prefer to have\n",
    "\n",
    "\\begin{equation}\n",
    "\\angle A(j\\omega_u) \\geq 60^{\\circ}\n",
    "\\end{equation}\n",
    "\n",
    "\\begin{equation}\n",
    "PM = \\angle A(j\\omega_u) = 180^{\\circ} - \\tan^{-1}\\dfrac{\\omega_u}{\\omega_{p1}} - \\tan^{-1}\\dfrac{\\omega_u}{\\omega_{p2}}\n",
    "\\end{equation}\n",
    "\n",
    "\n",
    " - This places a requirement on $\\omega_{p2}$ of\n",
    " \n",
    "\\begin{equation}\n",
    "\\tan^{-1}\\dfrac{\\omega_u}{\\omega_{p2}} \\leq 30^{\\circ}\n",
    "\\end{equation}\n",
    "\n",
    "\\begin{equation}\n",
    "\\boxed{\\omega_{p2} \\geq 1.73\\omega_u}\n",
    "\\end{equation}\n"
   ]
  },
  {
   "cell_type": "markdown",
   "metadata": {
    "slideshow": {
     "slide_type": "slide"
    }
   },
   "source": [
    "## Telescopic cascode amplifier"
   ]
  },
  {
   "cell_type": "markdown",
   "metadata": {
    "cell_style": "split"
   },
   "source": [
    "<center><img src=telescopic_cascode_Cm.png\" width=500 /></center>"
   ]
  },
  {
   "cell_type": "markdown",
   "metadata": {
    "cell_style": "split"
   },
   "source": [
    " - $C_M$ represents parasitic capacitance at the gate node of $M_7$, $M_8$\n",
    " \n",
    " - $C_M$ may be large if $V_{OV7,8}$ is small\n",
    " \n",
    " - $M_7$ gate connection functions as a diode-connected MOS in the small-signal model\n",
    " \n",
    " - The $3dB$ frequency can be found by ZVTC analysis, but assuming $C_L >> C_M$, it can be approximated as the inverse of  product of $R_o$ and $C_L$"
   ]
  },
  {
   "cell_type": "markdown",
   "metadata": {
    "slideshow": {
     "slide_type": "slide"
    }
   },
   "source": [
    "## M<sub>7</sub> diode connection (small signal analysis)"
   ]
  },
  {
   "cell_type": "markdown",
   "metadata": {
    "cell_style": "split"
   },
   "source": [
    "<center><img src=mirror_pole_small_signal.png\" width=500 /></center>"
   ]
  },
  {
   "cell_type": "markdown",
   "metadata": {
    "cell_style": "split"
   },
   "source": [
    "\\begin{equation}\n",
    "i_{up} = \\dfrac{v_t - v_x}{r_{o5}} - g_{m5}v_x \\:\\:\\:\\:\\:\\:\\: v_x = \\dfrac{v_t - i_{up}r_{o5}}{g_{m5}r_{o5}+1}\n",
    "\\end{equation}\n",
    "\n",
    "\\begin{equation}\n",
    "i_{up} = g_{m7}v_t+\\dfrac{v_x}{r_{o7}} = g_{m7}v_t + \\dfrac{v_t-i_{up}r_{o5}}{r_{o7}(g_{m5}r_{o5}+1)}\n",
    "\\end{equation}\n",
    "\n",
    "\\begin{equation}\n",
    "i_{up}\\left(1+\\dfrac{r_{o5}}{r_{o7}(g_{m5}r_{o5}+1)}\\right) = v_t\\left(g_{m7}+\\dfrac{1}{r_{o7}(g_{m5}r_{o5}+1)}\\right)\n",
    "\\end{equation}\n",
    "\n",
    " - The output resistance is thus\n",
    "\n",
    "\\begin{equation}\n",
    "\\boxed{R_{up} = \\dfrac{v_t}{i_{up}}\\approx \\dfrac{1}{g_{m7}} \\approx \\dfrac{v_t}{i_t}}\n",
    "\\end{equation}\n",
    " "
   ]
  },
  {
   "cell_type": "markdown",
   "metadata": {
    "slideshow": {
     "slide_type": "slide"
    }
   },
   "source": [
    "## Telescopic amplifier frequency response"
   ]
  },
  {
   "cell_type": "markdown",
   "metadata": {
    "cell_style": "split"
   },
   "source": [
    "<center><img src=telescopic_cascode_Cm.png\" width=550 /></center>"
   ]
  },
  {
   "cell_type": "markdown",
   "metadata": {
    "cell_style": "split"
   },
   "source": [
    " - The dominant pole frequency is\n",
    " \n",
    "\\begin{equation}\n",
    "\\omega_{p1} \\approx \\dfrac{1}{g_{m6}r_{o6}r_{o8}||g_{m4}r_{o4}r_{o2} \\cdot C_L}\n",
    "\\end{equation}\n",
    "\n",
    " - The non-dominant pole is given by\n",
    " \n",
    "\\begin{equation}\n",
    "\\omega_{p2} \\approx \\dfrac{g_{m7}}{C_M}\n",
    "\\end{equation}\n",
    "\n",
    " - Assuming $\\omega_{p2} >>  \\omega{p1}$, the gain-bandwidth is\n",
    " \n",
    "\\begin{equation}\n",
    "\\omega_u \\approx \\dfrac{g_{m1,2}}{C_L}\n",
    "\\end{equation}\n",
    "\n",
    "- The phase is\n",
    "\n",
    "\\begin{equation}\n",
    "\\angle A(j\\omega) = 180^{\\circ} - \\tan^{-1}\\dfrac{\\omega}{\\omega_{p1}} - \\tan^{-1}\\dfrac{\\omega}{\\omega_{p2}}\n",
    "\\end{equation}\n"
   ]
  },
  {
   "cell_type": "markdown",
   "metadata": {
    "slideshow": {
     "slide_type": "slide"
    }
   },
   "source": [
    "## Telescopic amplifier phase margin"
   ]
  },
  {
   "cell_type": "markdown",
   "metadata": {
    "cell_style": "split"
   },
   "source": [
    "<center><img src=phase_margin_second_order.png\" width=700 /></center>"
   ]
  },
  {
   "cell_type": "markdown",
   "metadata": {
    "cell_style": "split"
   },
   "source": [
    " - For a well-behaved response we need\n",
    "\n",
    "\\begin{equation}\n",
    "A(j\\omega_u) \\geq 60^{\\circ}\n",
    "\\end{equation}\n",
    "\n",
    "\n",
    " - Assuming a two-pole amplifier, this requires\n",
    " \n",
    "\\begin{equation}\n",
    "\\dfrac{g_{m7}}{C_M} \\geq 1.73 \\dfrac{g_{m1,2}}{C_L}\n",
    "\\end{equation}\n",
    "\n",
    " - Using the long-channel model, the non-dominant pole can be expressed as\n",
    " \n",
    "\\begin{equation}\n",
    "\\dfrac{g_{m7}}{C_M} \\approx \\dfrac{\\mu_p C_{ox}\\frac{W}{L}V_{OV7,8}}{2\\cdot\\dfrac{2}{3}WLC_{ox}} = \\dfrac{\\mu_p V_{OV7,8}}{\\dfrac{4}{3}L^2}\n",
    "\\end{equation}\n",
    " \n",
    " "
   ]
  },
  {
   "cell_type": "markdown",
   "metadata": {
    "slideshow": {
     "slide_type": "slide"
    }
   },
   "source": [
    "## Frequency response of a 2-stage amplifier"
   ]
  },
  {
   "cell_type": "markdown",
   "metadata": {
    "cell_style": "split"
   },
   "source": [
    "<center><img src=2stage_OTA.png\" width=1000 /></center>"
   ]
  },
  {
   "cell_type": "markdown",
   "metadata": {
    "cell_style": "split"
   },
   "source": [
    " - A 2-stage amplifier can be analyzed in the same manner as a common-source amplifier\n",
    " \n",
    " - Here we primarily focus on the second stage, due to the high output impedance of the first stage ($R_{o1} = r_{o2}||r_{o4}$) and the Miller effect of $M_8$\n",
    " \n",
    " - The DC gain of the amplifier is given by the product of the gains of the individual stages:\n",
    " \n",
    "\\begin{align}\n",
    "A_0 &= G_{m1}R_{o1}G_{m2}R_{o2}\\\\\n",
    "&= g_{m1}r_{o2}||r_{o4}\\cdot g_{m8}r_{o8}||r_{o7}\n",
    "\\end{align}\n",
    "\n",
    " - Let's take a look at the frequency response..."
   ]
  },
  {
   "cell_type": "markdown",
   "metadata": {
    "slideshow": {
     "slide_type": "subslide"
    }
   },
   "source": [
    " - Assuming the mirror pole is well above the unity-gain bandwidth of the amplifier, the 2-stage CMOS OTA can be analyzed as a common-source amplifier with $R_{o1} = r_{o2}||r_{o4}$ as the output impedance of the driving stage\n",
    " - In this case, the transfer function is given as\n",
    " \n",
    "\\begin{align}\n",
    "A_v(s) &= g_{m1}R_{o1}\\dfrac{(sC_{GD} - g_{m8})R_{o2}}{R_{o1} R_{o2}\\xi s^2 + [R_{o1}(1+g_{m8}R_{o2})C_{GD} + R_{o1} C_{GS}+R_{o2}(C_{GD} + C_L)]s+1} \\\\\n",
    "\\end{align}\n",
    "\n",
    " - If we allow $R_{o2} \\rightarrow \\infty$ (this places the dominant pole at the origin), this becomes\n",
    "\n",
    "\\begin{align}\n",
    "\\lim_{R_{o2} \\rightarrow \\infty}{A_v(s)} &\\approx g_{m1}R_{o1}\\dfrac{(sC_{GD} - g_{m8})}{s[R_{o1}(C_{GS}C_{GD}+C_{GS}C_L+C_{GD}C_L)s + g_{m8}R_{o1}C_{GD} + (C_{GD} + C_L)]}\\\\\n",
    "\\end{align}\n",
    "\n",
    " - The assumption that $R_{o2} \\rightarrow \\infty$ is equivalent to the second stage being a \"perfect integrator\" (i.e. infinite gain).  "
   ]
  },
  {
   "cell_type": "markdown",
   "metadata": {
    "slideshow": {
     "slide_type": "subslide"
    }
   },
   "source": [
    " - We can solve for the non-dominant pole by setting the denominator equal to zero and solving for $s$. This gives\n",
    " \n",
    "\\begin{equation}\n",
    "\\omega_{p2} \\approx \\dfrac{(g_{m8}R_{o1}+1)C_{GD}+C_L}{R_{o1}(C_{GS}C_{GD}+C_{GS}C_L+C_{GD}C_L)\n",
    "}\\end{equation}\n",
    " \n",
    " - This can be further approximated by assuming $g_{m}R_{o1}C_{GD} >> C_L$\n",
    " \n",
    "\\begin{equation}\n",
    "\\omega_{p2} \\approx \\dfrac{g_{m8}R_{o1}C_{GD}}{R_{o1}(C_{GD}(C_{GS}+C_L)+C_{GS}C_L)\n",
    "}\\end{equation}\n",
    "\n",
    " - We have previously shown the dominant pole of the transfer function to be well-approximated as\n",
    " \n",
    "\\begin{equation}\n",
    "\\omega_{p1} \\approx \\dfrac{1}{R_{o1}(1+g_{m8} R_{o2})C_{GD}}\n",
    "\\end{equation}"
   ]
  },
  {
   "cell_type": "markdown",
   "metadata": {
    "slideshow": {
     "slide_type": "slide"
    }
   },
   "source": [
    "## Pole splitting"
   ]
  },
  {
   "cell_type": "markdown",
   "metadata": {},
   "source": [
    " - With the two poles of the transfer function given by\n",
    " \n",
    "\\begin{equation}\n",
    "\\omega_{p1} \\approx \\dfrac{1}{R_{o1}(1+g_{m8} R_{o2})C_{GD}} \\:\\:\\:\\:\\:\\:\\:\\:\\: \\omega_{p2} \\approx \\dfrac{g_{m8}C_{GD}}{C_{GD}(C_{GS}+C_L)+C_{GS}C_L}\n",
    "\\end{equation} \n",
    "\n",
    " - We can make some qualitative observations about their behavior:\n",
    " \n",
    "     - As $C_{GD}$ increases, $\\omega_{p1}$ decreases, lowering bandwidth\n",
    "     - $\\omega_{p2}$ simultaneously increases as the $C_{GD}$ term in the denominator becomes dominant\n",
    "     - $\\omega_{p2}$ is ultimately limited by $g_{m8}/(C_{GS} + C_L) \\approx g_{m8}/C_L$ \n",
    "     \n",
    " - This behavior is referred to as \"pole splitting,\" since $\\omega_{p1}$ and $\\omega_{p2}$ are moving in opposite directions as $C_{GD}$ is increased\n",
    " \n"
   ]
  },
  {
   "cell_type": "markdown",
   "metadata": {
    "slideshow": {
     "slide_type": "slide"
    }
   },
   "source": [
    "## 2-stage amplifier RHP zero"
   ]
  },
  {
   "cell_type": "markdown",
   "metadata": {},
   "source": [
    "\n",
    " - The full transfer function is once again given by\n",
    " \n",
    "\\begin{align}\n",
    "A_v(s) &= \\dfrac{(sC_{GD} - g_{m8})R_{o2}}{R_{o1} R_{o2}\\xi s^2 + [R_{o1}(1+g_{m8}R_{o2})C_{GD} + R_{o1} C_{GS}+R_{o2}(C_{GD} + C_L)]s+1} \\\\\n",
    "\\end{align}\n",
    "\n",
    " - The expression in the numerator, $N(j\\omega) = (sC_{GD} - g_{m8})R_{o2}$ results in a zero in the right half of the complex plane\n",
    " \n",
    "\\begin{equation} \n",
    "\\omega_z = \\dfrac{g_{m8}}{C_{GD}}\n",
    "\\end{equation}\n",
    "\n",
    " - A zero in the right-half plane increases phase lag as well as gain magnitude, which can be detrimental to stability\n",
    " \n",
    "\\begin{equation}\n",
    "\\angle N(j\\omega) = \\tan^{-1}\\left(-\\dfrac{\\omega C_{GD}}{g_{m8}}\\right)\n",
    "\\end{equation}"
   ]
  },
  {
   "cell_type": "markdown",
   "metadata": {
    "slideshow": {
     "slide_type": "slide"
    }
   },
   "source": [
    "## Phase margin"
   ]
  },
  {
   "cell_type": "markdown",
   "metadata": {},
   "source": [
    " - If we assume dominant-pole behavior, we can approximate the unity-gain frequency as\n",
    " \n",
    "\\begin{equation}\n",
    "\\omega_u \\approx g_{m1}R_{o1}g_{m8}R_{o2} \\cdot \\dfrac{1}{g_{m8}R_{o2}R_{o1}C_{GD}} = \\dfrac{g_{m1}}{C_{GD}}\n",
    "\\end{equation}\n",
    "\n",
    " - The phase margin can then be approximated as \n",
    " \n",
    "\\begin{align}\n",
    "PM &\\approx 90^{\\circ} - \\tan^{-1}\\dfrac{\\omega_u}{\\omega_{p2}} - \\tan^{-1}\\dfrac{\\omega_u}{\\omega_{z}} \\\\\n",
    "&= \\boxed{90^{\\circ} - \\tan^{-1}\\dfrac{g_{m1}C_L}{g_{m8}C_{GD}} - \\tan^{-1}\\dfrac{g_{m1}}{g_{m8}}}\\\\\n",
    "\\end{align}\n",
    "\n",
    " - Note that if $g_{m1}$ and $g_{m8}$ are comparable, and if $C_L \\geq C_{GD}$, the phase margin will be zero, or even negative!"
   ]
  },
  {
   "cell_type": "markdown",
   "metadata": {
    "slideshow": {
     "slide_type": "slide"
    }
   },
   "source": [
    "## Frequency response"
   ]
  },
  {
   "cell_type": "code",
   "execution_count": 5,
   "metadata": {},
   "outputs": [],
   "source": [
    "gm1 = 1e-3\n",
    "gm8 = 1e-3\n",
    "ro = 100e3\n",
    "R_o1 = ro/2 \n",
    "R_o2 = ro/2\n",
    "C_GD = 1e-12\n",
    "C_GS = .2e-12\n",
    "C_L = 1e-12\n",
    "zeta = C_GS*C_GD + C_GS*C_L+C_GD*C_L\n",
    "num = [C_GD*R_o2*gm1*R_o1, -gm8*R_o2*gm1*R_o1]\n",
    "den = [R_o1*R_o2*zeta, gm1*R_o1*R_o2*C_GD+R_o1*C_GS+R_o2*(C_GD+C_L), 1]\n",
    "tf_CS = signal.TransferFunction(num,  den)\n",
    "w, mag, phase = tf_CS.bode()       \n",
    "f = w/2/np.pi  "
   ]
  },
  {
   "cell_type": "code",
   "execution_count": 6,
   "metadata": {
    "slideshow": {
     "slide_type": "subslide"
    }
   },
   "outputs": [
    {
     "data": {
      "image/png": "[encoded data removed]",
      "text/plain": [
       "<Figure size 720x540 with 2 Axes>"
      ]
     },
     "metadata": {
      "needs_background": "light"
     },
     "output_type": "display_data"
    }
   ],
   "source": [
    "plot_logxy2(f, mag, f, phase, 'Frequency [Hz]', 'Magnitude [dB]',\n",
    "           'Frequency [Hz]', 'Phase [deg]')"
   ]
  },
  {
   "cell_type": "markdown",
   "metadata": {
    "slideshow": {
     "slide_type": "slide"
    }
   },
   "source": [
    "## Summary"
   ]
  },
  {
   "cell_type": "markdown",
   "metadata": {},
   "source": [
    " - The frequency response of closed-loop amplifiers relies on characteristics of the open-loop response\n",
    " - Stability of negative-feedback systems requires a phase lag of less than $180^{\\circ}$ at the transit (unity-gain) frequency\n",
    " - Bode plots and root loci can be used to evaluate stability of closed-loop systems\n",
    " - To ensure \"well-behaved\" closed-loop responses, phase margin should be kept above ~$60^{\\circ}$ (overdamped, no overshoot)\n",
    " - Mirror pole can degrade phase margin in single-ended OTAs\n",
    " - 2-stage OTAs have multiple poles and a RHP zero\n",
    " - Next time, we'll look at compensation of 2-stage CMOS OTAs"
   ]
  }
 ],
 "metadata": {
  "celltoolbar": "Slideshow",
  "kernelspec": {
   "display_name": "Python 3",
   "language": "python",
   "name": "python3"
  },
  "language_info": {
   "codemirror_mode": {
    "name": "ipython",
    "version": 3
   },
   "file_extension": ".py",
   "mimetype": "text/x-python",
   "name": "python",
   "nbconvert_exporter": "python",
   "pygments_lexer": "ipython3",
   "version": "3.8.2"
  },
  "livereveal": {
   "controls": false,
   "scroll": true,
   "theme": "simple"
  },
  "rise": {
   "enable_chalkboard": true,
   "slideNumber": true
  }
 },
 "nbformat": 4,
 "nbformat_minor": 4
}
