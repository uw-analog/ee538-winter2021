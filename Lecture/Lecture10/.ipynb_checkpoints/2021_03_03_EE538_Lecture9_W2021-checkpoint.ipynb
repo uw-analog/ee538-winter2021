{
 "cells": [
  {
   "cell_type": "markdown",
   "metadata": {
    "cell_style": "center",
    "slideshow": {
     "slide_type": "subslide"
    }
   },
   "source": [
    "# EE 538: Analog Integrated Circuit Design\n",
    "\n",
    "## Winter 2021\n",
    "\n",
    "## Instructor: Jason Silver"
   ]
  },
  {
   "cell_type": "markdown",
   "metadata": {
    "slideshow": {
     "slide_type": "skip"
    }
   },
   "source": [
    "## Python packages/modules"
   ]
  },
  {
   "cell_type": "code",
   "execution_count": 2,
   "metadata": {
    "slideshow": {
     "slide_type": "skip"
    }
   },
   "outputs": [],
   "source": [
    "import matplotlib as mpl\n",
    "from matplotlib import pyplot as plt\n",
    "import numpy as np\n",
    "from scipy import signal\n",
    "#%matplotlib notebook\n",
    "\n",
    "mpl.rcParams['font.size'] = 12\n",
    "mpl.rcParams['legend.fontsize'] = 'large'\n",
    "\n",
    "def plot_xy(x, y, xlabel, ylabel):\n",
    "    fig, ax = plt.subplots(figsize=(10.0, 7.5));\n",
    "    ax.plot(x, y, 'b');\n",
    "    ax.grid();\n",
    "    ax.set_xlabel(xlabel);\n",
    "    ax.set_ylabel(ylabel);\n",
    "    \n",
    "def plot_xy2(x1, y1, x1label, y1label, x2, y2, x2label, y2label):\n",
    "    fig, ax = plt.subplots(2, figsize = (10.0, 7.5));\n",
    "    ax[0].plot(x1, y1, 'b');\n",
    "    ax[0].set_ylabel(y1label)\n",
    "    ax[0].grid()\n",
    "    \n",
    "    ax[1].plot(x2, y2, 'b');\n",
    "    ax[1].set_xlabel(x1label)\n",
    "    ax[1].set_xlabel(x2label);\n",
    "    ax[1].set_ylabel(y2label);\n",
    "    ax[1].grid();\n",
    "    \n",
    "    fig.align_ylabels(ax[:])\n",
    "    \n",
    "def plot_x2y(x, y1, y2, xlabel, ylabel, y1label, y2label):\n",
    "        \n",
    "    fig, ax = plt.subplots(figsize=(10.0, 7.5));\n",
    "    ax.plot(x, y1, 'b')\n",
    "    ax.plot(x, y2, 'r')\n",
    "    ax.legend( [y1label,y2label] ,loc='upper center', ncol=5, fancybox=True, \n",
    "           shadow=True, bbox_to_anchor=(0.5,1.1))  \n",
    "    ax.grid()\n",
    "    ax.set_xlabel(xlabel)\n",
    "    ax.set_ylabel(ylabel)\n",
    "    \n",
    "def plot_xy3(x, y1, y2, y3, xlabel, y1label, y2label, y3label):\n",
    "    fig, ax = plt.subplots(3, figsize=(10.0,7.5))\n",
    "    \n",
    "    ax[0].plot(x, y1)\n",
    "    ax[0].set_ylabel(y1label)\n",
    "    ax[0].grid()\n",
    "    \n",
    "    ax[1].plot(x, y2)\n",
    "    ax[1].set_ylabel(y2label)\n",
    "    ax[1].grid()\n",
    "    \n",
    "    ax[2].plot(x, y3)  \n",
    "    ax[2].set_ylabel(y3label)\n",
    "    ax[2].set_xlabel(xlabel)\n",
    "    ax[2].grid()\n",
    "    \n",
    "def plot_xlogy(x, y, xlabel, ylabel):\n",
    "    fig, ax = plt.subplots(figsize=(10.0, 7.5));\n",
    "    ax.semilogy(x, y, 'b');\n",
    "    ax.grid();\n",
    "    ax.set_xlabel(xlabel);\n",
    "    ax.set_ylabel(ylabel);\n",
    "\n",
    "def plot_logxy2(x1, y1, x2, y2, x1label, y1label, x2label, y2label):\n",
    "    fig, ax = plt.subplots(2, figsize = (10.0, 7.5));\n",
    "    ax[0].semilogx(x1, y1, 'b');\n",
    "    ax[0].set_ylabel(y1label)\n",
    "    ax[0].grid()\n",
    "    \n",
    "    ax[1].semilogx(x2, y2, 'b');\n",
    "    ax[1].set_xlabel(x1label)\n",
    "    ax[1].set_xlabel(x2label);\n",
    "    ax[1].set_ylabel(y2label);\n",
    "    ax[1].grid();\n",
    "    \n",
    "    fig.align_ylabels(ax[:])    \n",
    "    \n",
    "def nmos_iv_sweep(V_gs, V_ds, W, L, lmda):\n",
    "    u_n = 350                 # electron mobility (device parameter)\n",
    "    e_ox = 3.9*8.854e-12/100; # relative permittivity\n",
    "    t_ox = 9e-9*100;          # oxide thickness\n",
    "    C_ox = e_ox/t_ox          # oxide capacitance\n",
    "    V_thn = 0.7                # threshold voltage (device parameter)\n",
    "    V_ov = V_gs - V_thn\n",
    "    Ldn = 0.08e-6\n",
    "    Leff = L - 2*Ldn\n",
    "    \n",
    "    I_d = []\n",
    "    \n",
    "    for i in range(len(V_ds)):\n",
    "        I_d.append(np.piecewise(V_ds[i], [V_ds[i] < V_ov, V_ds[i] >= V_ov],\n",
    "                       [u_n*C_ox*(W/Leff)*(V_gs - V_thn - V_ds[i]/2)*V_ds[i]*(1+lmda*V_ds[i]) , \n",
    "                        0.5*u_n*C_ox*(W/Leff)*(V_gs - V_thn)**2*(1+lmda*V_ds[i])])) \n",
    "    \n",
    "    return np.array(I_d)\n",
    "\n",
    "def pmos_iv_sweep(V_sg, V_sd, W, L, lmda):\n",
    "    u_p = 100                 # electron mobility (device parameter)\n",
    "    e_ox = 3.9*8.854e-12/100; # relative permittivity\n",
    "    t_ox = 9e-9*100;          # oxide thickness\n",
    "    C_ox = e_ox/t_ox          # oxide capacitance\n",
    "    V_thp = -0.8                # threshold voltage (device parameter)\n",
    "    V_ov = V_sg - np.abs(V_thp)\n",
    "    Ldp = 0.09e-6\n",
    "    Leff = L - 2*Ldp\n",
    "    \n",
    "    I_d = []\n",
    "    \n",
    "    for i in range(len(V_sd)):\n",
    "        I_d.append(np.piecewise(V_sd[i], [V_sd[i] < V_ov, V_sd[i] >= V_ov],\n",
    "                       [u_p*C_ox*(W/Leff)*(V_sg - np.abs(V_thp) - V_sd[i]/2)*V_sd[i]*(1+lmda*V_sd[i]) , \n",
    "                        0.5*u_p*C_ox*(W/Leff)*(V_sg - np.abs(V_thp))**2*(1+lmda*V_sd[i])])) \n",
    "    \n",
    "    return np.array(I_d)\n",
    "\n",
    "def nmos_iv_sat(V_gs, V_ds, W, L, lmda):\n",
    "    u_n = 350                 # electron mobility (device parameter)\n",
    "    e_ox = 3.9*8.854e-12/100; # relative permittivity\n",
    "    t_ox = 9e-9*100;          # oxide thickness\n",
    "    C_ox = e_ox/t_ox          # oxide capacitance\n",
    "    V_thn = 0.7                # threshold voltage (device parameter)\n",
    "    V_ov = V_gs - V_thn\n",
    "    Ldn = 0.08e-6\n",
    "    Leff = L - 2*Ldn\n",
    "    \n",
    "    I_d = 0.5*u_n*C_ox*(W/Leff)*(V_gs - V_thn)**2*(1+lmda*V_ds)\n",
    "    \n",
    "    return I_d\n",
    "\n",
    "def nmos_diff_pair(V_id, I_ss, R_D, W, L, V_dd):\n",
    "    u_n = 350                 # electron mobility (device parameter)\n",
    "    e_ox = 3.9*8.854e-12/100; # relative permittivity\n",
    "    t_ox = 9e-9*100;          # oxide thickness\n",
    "    C_ox = e_ox/t_ox          # oxide capacitance\n",
    "    V_thn = 0.7                # threshold voltage (device parameter)\n",
    "    Ldn = 0.08e-6\n",
    "    Leff = L - 2*Ldn\n",
    "    \n",
    "    I_dp = I_ss/2 + 0.25*u_n*C_ox*(W/L)*V_id*np.sqrt(4*I_ss/(u_n*C_ox*(W/L)) - V_id**2)\n",
    "    I_dm = I_ss/2 - 0.25*u_n*C_ox*(W/L)*V_id*np.sqrt(4*I_ss/(u_n*C_ox*(W/L)) - V_id**2)\n",
    "\n",
    "    return I_dp, I_dm"
   ]
  },
  {
   "cell_type": "markdown",
   "metadata": {
    "slideshow": {
     "slide_type": "slide"
    }
   },
   "source": [
    "# Lecture 9 - High-gain CMOS OTA Design"
   ]
  },
  {
   "cell_type": "markdown",
   "metadata": {
    "slideshow": {
     "slide_type": "slide"
    }
   },
   "source": [
    "## Announcements"
   ]
  },
  {
   "cell_type": "markdown",
   "metadata": {
    "cell_style": "center",
    "slideshow": {
     "slide_type": "-"
    }
   },
   "source": [
    " - Design Project Phase 1 posted, due Sunday March 7\n",
    "     - PDF submission on Canvas \n",
    " - Design Project Phase 2 posted, due Friday March 19\n",
    "     - PDF submission on Canvas"
   ]
  },
  {
   "cell_type": "markdown",
   "metadata": {
    "slideshow": {
     "slide_type": "slide"
    }
   },
   "source": [
    "## Week 9"
   ]
  },
  {
   "cell_type": "markdown",
   "metadata": {},
   "source": [
    " - Chapter 10 of Razavi (stability and frequency compensation)\n",
    " - Chapter 9 of Razavi (frequency response)\n",
    "     - Section 9.4 Gain Boosting"
   ]
  },
  {
   "cell_type": "markdown",
   "metadata": {
    "slideshow": {
     "slide_type": "slide"
    }
   },
   "source": [
    "## Overview"
   ]
  },
  {
   "cell_type": "markdown",
   "metadata": {},
   "source": [
    " - Last time...\n",
    "     - Feedback\n",
    "     - Stability definition and criteria (Bode/root locus)\n",
    "     - Damping ratio and phase margin\n",
    "     - Mirror poles\n",
    "     - Frequency response of two-stage amplifiers\n",
    " - Today...\n",
    "     - Miller compensation of 2-stage OTAs\n",
    "     - Ahuja compensation\n",
    "     - Gain-boosted structures"
   ]
  },
  {
   "cell_type": "markdown",
   "metadata": {
    "slideshow": {
     "slide_type": "slide"
    }
   },
   "source": [
    "## Frequency response of a 2-stage amplifier"
   ]
  },
  {
   "cell_type": "markdown",
   "metadata": {
    "cell_style": "split"
   },
   "source": [
    "<center><img src=2stage_OTA_simplified.png\" width=700 /></center>"
   ]
  },
  {
   "cell_type": "markdown",
   "metadata": {
    "cell_style": "split"
   },
   "source": [
    " - Assuming a \"large\" value of $C_{GD}$, the two poles of the transfer function can be approximated as\n",
    " \n",
    "\\begin{equation}\n",
    "\\omega_{p1} \\approx \\dfrac{1}{R_{o1}(1+g_{m8} R_{o2})C_{GD}} \n",
    "\\end{equation} \n",
    "\n",
    "\\begin{equation}\n",
    "\\omega_{p2} \\approx \\dfrac{g_{m8}C_{GD}}{C_{GD}(C_{GS}+C_L)+C_{GS}C_L}\n",
    "\\end{equation} \n",
    "\n",
    " - The unity-gain frequency, $\\omega_u$ is approximately\n",
    " \n",
    "\\begin{align}\n",
    "\\omega_u \\approx g_{m1}R_{o1}g_{m8}R_{o2} \\cdot \\dfrac{1}{g_{m8}R_{o2}R_{o1}C_{GD8}} = \\dfrac{g_{m1}}{C_{GD8}}\n",
    "\\end{align}\n",
    "     \n",
    " - How do we guarantee a large enough value for $C_{GD}$ to accomplish pole splitting?"
   ]
  },
  {
   "cell_type": "markdown",
   "metadata": {
    "slideshow": {
     "slide_type": "slide"
    }
   },
   "source": [
    "## Miller compensation"
   ]
  },
  {
   "cell_type": "markdown",
   "metadata": {
    "cell_style": "split"
   },
   "source": [
    "<center><img src=2stage_OTA_simplified_Miller.png\" width=700 /></center>"
   ]
  },
  {
   "cell_type": "markdown",
   "metadata": {
    "cell_style": "split"
   },
   "source": [
    " - We can add an explicit capacitance (e.g. an integrated \"MIM\" capacitor) to increase the effective value of $C_{GD}$\n",
    " \n",
    " - In general, $C_c >> C_{GD}$, such that $C_c + C_{GD} \\approx C_c$\n",
    "\n",
    " - Considering only $\\omega_{p1}$ and $\\omega_{p2}$ (ignoring $\\omega_{z}$, for the moment), the phase margin is given by\n",
    "\n",
    "\\begin{align}\n",
    "PM &\\approx 90^{\\circ} - \\tan^{-1}\\dfrac{\\omega_u}{\\omega_{p2}}  \\\\\n",
    "&= 90^{\\circ} - \\tan^{-1}\\dfrac{g_{m1}(C_L + C_{GS8})}{g_{m8}C_{c}} \\\\\n",
    "\\end{align}\n",
    "\n",
    " - Note that if $C_L$ and $C_c$ are comparable, $g_{m8}$ should be much greater than $g_{m1}$ to achieve a well-behaved response\n"
   ]
  },
  {
   "cell_type": "code",
   "execution_count": 7,
   "metadata": {
    "slideshow": {
     "slide_type": "skip"
    }
   },
   "outputs": [],
   "source": [
    "gm1 = 1e-3\n",
    "gm8 = 1e-3\n",
    "ro = 100e3\n",
    "R_o1 = ro/2 \n",
    "R_o2 = ro/2\n",
    "C_GD = 10e-12\n",
    "C_GS = .2e-12\n",
    "C_L = 10e-12\n",
    "zeta = C_GS*C_GD + C_GS*C_L+C_GD*C_L\n",
    "num = [C_GD*R_o2*gm1*R_o1, -gm8*R_o2*gm1*R_o1]\n",
    "den = [R_o1*R_o2*zeta, gm1*R_o1*R_o2*C_GD+R_o1*C_GS+R_o2*(C_GD+C_L), 1]\n",
    "tf_CS = signal.TransferFunction(-gm1*R_o1*gm8*R_o2,  den)\n",
    "w, mag, phase = tf_CS.bode()       \n",
    "f = w/2/np.pi  "
   ]
  },
  {
   "cell_type": "code",
   "execution_count": 8,
   "metadata": {
    "scrolled": false,
    "slideshow": {
     "slide_type": "subslide"
    }
   },
   "outputs": [
    {
     "data": {
      "image/png": "[encoded data removed]",
      "text/plain": [
       "<Figure size 720x540 with 2 Axes>"
      ]
     },
     "metadata": {
      "needs_background": "light"
     },
     "output_type": "display_data"
    }
   ],
   "source": [
    "plot_logxy2(f, mag, f, phase, 'Frequency [Hz]', 'Magnitude [dB]',\n",
    "           'Frequency [Hz]', 'Phase [deg]')"
   ]
  },
  {
   "cell_type": "markdown",
   "metadata": {},
   "source": [
    " - Even without the influence of $\\omega_z$, the phase margin is only about $45^{\\circ}$\n",
    " \n",
    " - What happens when we consider $\\omega_z$?"
   ]
  },
  {
   "cell_type": "markdown",
   "metadata": {
    "slideshow": {
     "slide_type": "slide"
    }
   },
   "source": [
    "## Effect of the RHP zero on phase margin"
   ]
  },
  {
   "cell_type": "markdown",
   "metadata": {},
   "source": [
    " - The expression in the numerator, $N(j\\omega) = (sC_{c} - g_{m8})R_{o2}$ results in a zero in the right half of the complex plane\n",
    " \n",
    "\\begin{equation} \n",
    "\\omega_z = \\dfrac{g_{m8}}{C_{c}}\n",
    "\\end{equation}\n",
    "\n",
    " - A zero in the right-half plane increases phase lag as well as gain magnitude, which can be detrimental to stability\n",
    " \n",
    "\\begin{align}\n",
    "PM &\\approx 90^{\\circ} - \\tan^{-1}\\dfrac{\\omega_u}{\\omega_{p2}} - \\tan^{-1}\\dfrac{\\omega_u}{\\omega_{z}} \\\\\n",
    "\\\\\n",
    "&= 90^{\\circ} - \\tan^{-1}\\dfrac{g_{m1}C_L}{g_{m8}C_{c}} - \\tan^{-1}\\dfrac{g_{m1}}{g_{m8}}\\\\\n",
    "\\end{align}\n",
    "\n",
    " - The phase lag due to $\\omega_z$ can be up to $45^{\\circ}$ (or greater) if $g_{m1}$ and $g_{m8}$ are comparable"
   ]
  },
  {
   "cell_type": "code",
   "execution_count": 9,
   "metadata": {
    "slideshow": {
     "slide_type": "skip"
    }
   },
   "outputs": [],
   "source": [
    "gm1 = 1e-3\n",
    "gm8 = 1e-3\n",
    "ro = 100e3\n",
    "R_o1 = ro/2 \n",
    "R_o2 = ro/2\n",
    "C_GD = 10e-12\n",
    "C_GS = .2e-12\n",
    "C_L = 10e-12\n",
    "zeta = C_GS*C_GD + C_GS*C_L+C_GD*C_L\n",
    "num = [C_GD*R_o2*gm1*R_o1, -gm8*R_o2*gm1*R_o1]\n",
    "den = [R_o1*R_o2*zeta, gm1*R_o1*R_o2*C_GD+R_o1*C_GS+R_o2*(C_GD+C_L), 1]\n",
    "tf_CS = signal.TransferFunction(num,  den)\n",
    "w, mag, phase = tf_CS.bode()       \n",
    "f = w/2/np.pi  "
   ]
  },
  {
   "cell_type": "code",
   "execution_count": 10,
   "metadata": {
    "scrolled": false,
    "slideshow": {
     "slide_type": "subslide"
    }
   },
   "outputs": [
    {
     "data": {
      "image/png": "[encoded data removed]",
      "text/plain": [
       "<Figure size 720x540 with 2 Axes>"
      ]
     },
     "metadata": {
      "needs_background": "light"
     },
     "output_type": "display_data"
    }
   ],
   "source": [
    "plot_logxy2(f, mag, f, phase, 'Frequency [Hz]', 'Magnitude [dB]',\n",
    "           'Frequency [Hz]', 'Phase [deg]')"
   ]
  },
  {
   "cell_type": "markdown",
   "metadata": {},
   "source": [
    " - Here, the phase margin has decreased to zero with the inclusion of $\\omega_z$\n",
    " \n",
    " - The effect isn't evident from the magnitude response alone, since the rolloff from $\\omega_{p2}$ is countered by a $20dB/dec$ *increase* in the magnitude due to $\\omega_z$\n",
    " \n",
    " - How do we improve the phase margin?"
   ]
  },
  {
   "cell_type": "markdown",
   "metadata": {
    "slideshow": {
     "slide_type": "slide"
    }
   },
   "source": [
    "## Moving the RHP zero"
   ]
  },
  {
   "cell_type": "markdown",
   "metadata": {
    "cell_style": "center"
   },
   "source": [
    "<center><img src=2stage_OTA_simplified_Rz.png\" width=600 /></center>"
   ]
  },
  {
   "cell_type": "markdown",
   "metadata": {},
   "source": [
    " - We can manipulate $\\omega_z$ by inserting a resistor, $R_z$, in series with $C_c$\n",
    " \n",
    " - Properly chosen, $R_z$ can eliminate the RHP zero altogether (pushing it to “infinite” frequency)\n",
    " \n",
    " - This isn’t achievable in practice, since neither $g_{m8}$ nor $R_z$ is precisely defined (due to variations in process and temperature)\n",
    " \n",
    " -  We can instead move $\\omega_z$ to the LHP, transforming phase lag into lead"
   ]
  },
  {
   "cell_type": "markdown",
   "metadata": {
    "cell_style": "center",
    "slideshow": {
     "slide_type": "subslide"
    }
   },
   "source": [
    " - With the inclusion of $R_z$ the expression for the zero becomes\n",
    "\n",
    "\\begin{equation} \n",
    "s_z = \\dfrac{1}{C_{c}(g_{m8}^{-1} - R_z)}\n",
    "\\end{equation}\n",
    "\n",
    " - Using $R_z = 1/g_{m8}$ effectively \"cancels\" $\\omega_z$, pushing to it to infinity\n",
    " \n",
    " - A more reliable approach is to use $R_z > 1/g_{m8}$ to move $\\omega_z$ to the left-half of the complex plane\n",
    " - What is a reasonable choice for the value of $R_z$?"
   ]
  },
  {
   "cell_type": "markdown",
   "metadata": {
    "slideshow": {
     "slide_type": "slide"
    }
   },
   "source": [
    "## Non-dominant pole cancellation"
   ]
  },
  {
   "cell_type": "markdown",
   "metadata": {
    "slideshow": {
     "slide_type": "-"
    }
   },
   "source": [
    " - The modified zero location is given by\n",
    "\n",
    "\\begin{equation} \n",
    "\\omega_z = \\dfrac{1}{C_{c}(g_{m8}^{-1} - R_z)}\n",
    "\\end{equation}\n",
    "\n",
    " - If we design $R_z$ to achieve $\\omega_{z,LHP} = \\omega_{p2}$, this results in a value of $R_z$ given by\n",
    " \n",
    "\\begin{equation}\n",
    "s_z = \\dfrac{1}{C_{c}(g_{m8}^{-1} - R_z)} = \\dfrac{g_{m8}}{C_L + C_{GS8}} = s_{p2} \\rightarrow \\boxed{R_z = \\dfrac{C_L + C_c + C_{GS8}}{g_{m8} C_c}}\n",
    "\\end{equation}\n",
    "\n",
    " - Moving $\\omega_z$ to overlap with $\\omega_{p2}$ accomplishes two things:\n",
    "\n",
    "     1. Removes the phase lag of the RHP zero ($\\omega_{z,RHP} \\rightarrow \\omega_{z,LHP}$)\n",
    " \n",
    "     2. Reduces/eliminates the phase lag due to the non-dominant pole $\\omega_{p2}$ "
   ]
  },
  {
   "cell_type": "markdown",
   "metadata": {
    "slideshow": {
     "slide_type": "slide"
    }
   },
   "source": [
    "## Variability in G<sub>m2</sub>R<sub>z</sub>"
   ]
  },
  {
   "cell_type": "markdown",
   "metadata": {
    "cell_style": "split"
   },
   "source": [
    "<center><img src=2stage_compensated.png\" width=700 /></center>"
   ]
  },
  {
   "cell_type": "markdown",
   "metadata": {
    "cell_style": "split"
   },
   "source": [
    " - To maximize PM we want $R_z \\approx \\dfrac{C_L + C_c}{G_{m2} C_c}$\n",
    " \n",
    " - If $\\dfrac{C_L + C_c}{C_c}$ is constant, we want \n",
    " \n",
    "\\begin{equation}\n",
    "G_{m2}R_z = \\dfrac{C_L + C_c}{C_c} = constant\n",
    "\\end{equation}"
   ]
  },
  {
   "cell_type": "markdown",
   "metadata": {},
   "source": [
    " - Unfortunately, $G_{m2}$ and $R_z$ don’t track each other in terms of process and temperature variations\n",
    " - However, if we could somehow define $G_{m2}$ in terms of a resistance that varies in a similar manner to $R_z$, we could remove this source of uncertainty"
   ]
  },
  {
   "cell_type": "markdown",
   "metadata": {
    "slideshow": {
     "slide_type": "slide"
    }
   },
   "source": [
    "## Constant-G<sub>m</sub> reference"
   ]
  },
  {
   "cell_type": "markdown",
   "metadata": {
    "cell_style": "split"
   },
   "source": [
    " - If the second stage ($G_{m2}$) is biased using a constant-$g_m$ reference, variations in $R_z$ due to process and temperature can be tracked by $G_{m2}$\n",
    " - In this case, both $R_z$ and $R_s$ should be implemented on chip using the same type of resistor\n",
    " - Biasing in this manner results in\n",
    " \n",
    "\\begin{equation}\n",
    "G_{m2} = \\dfrac{K_2}{2\\cdot R_S}\n",
    "\\end{equation}\n",
    "\n",
    " - Note that $g_m/I_D$ should be the same for $M_1$ of the reference and the input pair of $G_{m2}$"
   ]
  },
  {
   "cell_type": "markdown",
   "metadata": {
    "cell_style": "split"
   },
   "source": [
    "<center><img src=constant_Gm.png\" width=800 /></center>"
   ]
  },
  {
   "cell_type": "markdown",
   "metadata": {
    "slideshow": {
     "slide_type": "slide"
    }
   },
   "source": [
    "## Pole-zero doublet problem"
   ]
  },
  {
   "cell_type": "markdown",
   "metadata": {},
   "source": [
    "<center><img src=2stage_OTA_component_variability.png\" width=700 /></center>"
   ]
  },
  {
   "cell_type": "markdown",
   "metadata": {},
   "source": [
    " - The possibility of canceling the non-dominant pole is attractive, but in practice cancellation is imperfect \n",
    " \n",
    " - It cannot be guaranteed that $\\omega_z = \\omega_{p2}$, due to variations in $G_{m2}$, $R_z$, $C_c$, and $C_L$\n",
    " \n",
    " - Mismatch in the frequencies of $\\omega_z$ and $\\omega_{p2}$ results in a phenomenon known as a pole-zero \"doublet,\" which can significantly degrade the settling time of the OTA (particularly important for switched-capacitor applications)"
   ]
  },
  {
   "cell_type": "markdown",
   "metadata": {
    "slideshow": {
     "slide_type": "slide"
    }
   },
   "source": [
    "## An alternate approach (Ahuja compensation)"
   ]
  },
  {
   "cell_type": "markdown",
   "metadata": {
    "cell_style": "split"
   },
   "source": [
    " - The feedforward path can be eliminated by the addition of a common-gate stage ($M_2$) in the feedback path\n",
    " \n",
    " - The common-gate stage effectively multiplies the transconductance of $M_1$ by the common-gate stage gain, which is approximately $g_{m2} R_{o1}$\n",
    " \n",
    " - The transfer function contains a zero in the *left half plane*, which can similarly be used to manipulate phase lag due to $\\omega_{p2}$\n",
    " \n",
    " - This structure has the additional benefit of tolerance to larger values of $C_L$, since the non-dominant pole becomes (approximately)\n",
    " \n",
    "\\begin{equation}\n",
    "\\omega_{p2} \\approx \\dfrac{g_{m2}R_{o1}g_{m1}}{C_L}\n",
    "\\end{equation}"
   ]
  },
  {
   "cell_type": "markdown",
   "metadata": {
    "cell_style": "split"
   },
   "source": [
    "<center><img src=Ahuja_compensation.png\" width=700 /></center>"
   ]
  },
  {
   "cell_type": "markdown",
   "metadata": {
    "slideshow": {
     "slide_type": "slide"
    }
   },
   "source": [
    "## Common-gate stage"
   ]
  },
  {
   "cell_type": "markdown",
   "metadata": {},
   "source": [
    "<center><img src=common_gate_stage.png\" width=900 /></center>"
   ]
  },
  {
   "cell_type": "markdown",
   "metadata": {},
   "source": [
    " - The common-gate stage is often used as a current-input (transimpedance) amplifier, in addition to being an instrinsic structure in the cascode amplifier\n",
    " - The voltage gain is the same as that of a common-source stage, but it is non-inverting"
   ]
  },
  {
   "cell_type": "markdown",
   "metadata": {
    "cell_style": "split",
    "slideshow": {
     "slide_type": "subslide"
    }
   },
   "source": [
    "<center><img src=common_gate_Ro.png\" width=600 /></center>"
   ]
  },
  {
   "cell_type": "markdown",
   "metadata": {
    "cell_style": "split",
    "slideshow": {
     "slide_type": "-"
    }
   },
   "source": [
    " - As with other structures, $R_o$ is determined by setting $v_i \\rightarrow 0$ and finding $v_t/i_t$\n",
    " \n",
    "\\begin{equation}\n",
    "R_o = \\dfrac{v_t}{i_t} = R_L||r_o\n",
    "\\end{equation}\n",
    "\n",
    " - $G_m$ can be found by shorting the output to ground and \"measuring\" the output current\n",
    " \n",
    "\\begin{equation}\n",
    "i_{out} = -g_m v_i - \\dfrac{v_i}{r_o}\n",
    "\\end{equation}\n",
    "\n",
    "\\begin{equation}\n",
    "G_m = \\dfrac{i_{out}}{v_i} = -g_m - \\dfrac{1}{r_o}\n",
    "\\end{equation}\n",
    "\n",
    " - The voltage gain of the common-gate stage is given by\n",
    "\n",
    "\\begin{equation}\n",
    "\\boxed{\\dfrac{v_o}{v_i} = -G_m R_o \\approx g_m(R_L||r_o)} \n",
    "\\end{equation}"
   ]
  },
  {
   "cell_type": "markdown",
   "metadata": {
    "slideshow": {
     "slide_type": "slide"
    }
   },
   "source": [
    "## Gain boosting"
   ]
  },
  {
   "cell_type": "markdown",
   "metadata": {
    "cell_style": "split"
   },
   "source": [
    " - Gain-boosting can be used to enhance the effective transconductance of $M_{2}$ and $M_{3}$ and increase output impedance\n",
    " \n",
    " - $U_{1,2}$ amplify the small-signal voltages at $v_{s2}$ and $v_{s3}$ to boost the small-signal transconductance currents of $M_2$ and $M_3$\n",
    " \n",
    " - $U_1$ and $U_2$ can be implemented as single-stage OTA’s with or without cascoding\n",
    "\n",
    " - If $U_{1,2}$ are cascode amplifiers (with DC gain $\\propto g_m^2 r_o^2$), the gain of the primary amplifier can be increased to\n",
    "\n",
    "\\begin{equation}\n",
    "|A_{v0}| = G_m R_o \\propto g_m^4 r_o^4\n",
    "\\end{equation}\n",
    "\n",
    " - Bias voltages $V_{BN}$ and $V_{BP1}$ should be $V_{GS2}$/$V_{SG3}$ lower/higher than the target gate bias "
   ]
  },
  {
   "cell_type": "markdown",
   "metadata": {
    "cell_style": "split"
   },
   "source": [
    "<center><img src=gain_boosted_cascode.png\" width=400 /></center>"
   ]
  },
  {
   "cell_type": "markdown",
   "metadata": {
    "cell_style": "split",
    "slideshow": {
     "slide_type": "subslide"
    }
   },
   "source": [
    "<center><img src=Ro_boosted_half_circuit.png\" width=700 /></center>"
   ]
  },
  {
   "cell_type": "markdown",
   "metadata": {
    "cell_style": "split"
   },
   "source": [
    " - $A_0$ is the open-loop gain of the auxiliary amplifiers $U_1$ and $U_2$\n",
    "\n",
    " - KCL for the half-circuit (plus Ohm's law for $r_{o1}$) gives\n",
    "\n",
    "\\begin{equation}\n",
    "i_t = g_{m2,3}(A_0+1)v_{s} + \\dfrac{v_t - v_s}{r_{o2,3}} = \\dfrac{v_s}{r_{o1}}\n",
    "\\end{equation}\n",
    "\n",
    " - This results in a half-circuit impedance of\n",
    " \n",
    "\\begin{equation}\n",
    "\\dfrac{v_t}{i_t} = r_{o2,3} + r_{o1,4} + g_{m2,3} r_{o2,3}r_{o1,4}(A_0+1)\n",
    "\\end{equation} \n",
    "\n",
    " - The parallel combination of the two halves is given approximately by\n",
    "\n",
    "\\begin{equation}\n",
    "R_o \\approx \\left[ g_{m2} r_{o1}r_{o2}A_0 \\right] || \\left[ g_{m3}r_{o3}r_{o4}A_0 \\right] \n",
    "\\end{equation}"
   ]
  },
  {
   "cell_type": "markdown",
   "metadata": {
    "slideshow": {
     "slide_type": "slide"
    }
   },
   "source": [
    "## Implementation of U<sub>1,2</sub>"
   ]
  },
  {
   "cell_type": "markdown",
   "metadata": {},
   "source": [
    "<center><img src=gain_boosting_OTAs.png\" width=1200 /></center>"
   ]
  },
  {
   "cell_type": "markdown",
   "metadata": {},
   "source": [
    " - One means of generating the regulated cascode bias is shown here\n",
    "    - $U_{1,2}$ should be compensated to ensure stability of the local feedback\n",
    "    - This can be accomplished by placing a compensation capacitor ($C_c$) between the auxiliary OTA output and small-signal ground, putting the frequency of the dominant pole at $\\omega_{0,boost} \\approx \\dfrac{2}{r_o C_c}$  "
   ]
  },
  {
   "cell_type": "markdown",
   "metadata": {
    "slideshow": {
     "slide_type": "slide"
    }
   },
   "source": [
    "## Summary"
   ]
  },
  {
   "cell_type": "markdown",
   "metadata": {},
   "source": [
    " - 2-stage CMOS OTA's are typically compensated by increasing the Miller capacitance of the second stage to make the Miller pole dominant\n",
    " - Miller compensation produces a non-dominant pole at approximately $\\omega_{p2} = G_{m2}/C_L$ and a RHP zero at $\\omega_z = G_{m2}/C_c$\n",
    " - To alleviate the phase lag due to $\\omega_{p2}$ and $\\omega_{z}$, $\\omega_{z}$ can be moved to the LHP, close in frequency to $\\omega_{p2}$\n",
    " - In practice, cancellation is imperfect and can result in slow setting (pole-zero doublet)\n",
    " - Gain-boosting is an alternative to the 2-stage design that is simpler to compensate but adds complexity due to the required auxiliary amplifiers\n",
    " - Gain-boosting results in lower output swing, so a folded cascode is often preferred"
   ]
  }
 ],
 "metadata": {
  "celltoolbar": "Slideshow",
  "kernelspec": {
   "display_name": "Python 3",
   "language": "python",
   "name": "python3"
  },
  "language_info": {
   "codemirror_mode": {
    "name": "ipython",
    "version": 3
   },
   "file_extension": ".py",
   "mimetype": "text/x-python",
   "name": "python",
   "nbconvert_exporter": "python",
   "pygments_lexer": "ipython3",
   "version": "3.8.2"
  },
  "livereveal": {
   "controls": false,
   "scroll": true,
   "theme": "simple"
  },
  "rise": {
   "enable_chalkboard": true,
   "slideNumber": true
  }
 },
 "nbformat": 4,
 "nbformat_minor": 4
}
