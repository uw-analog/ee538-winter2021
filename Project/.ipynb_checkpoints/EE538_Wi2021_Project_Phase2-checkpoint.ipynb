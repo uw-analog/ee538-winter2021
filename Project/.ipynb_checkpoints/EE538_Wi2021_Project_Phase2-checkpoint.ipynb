{
 "cells": [
  {
   "cell_type": "markdown",
   "metadata": {},
   "source": [
    "__Instructor: Jason Silver__   \n",
    "__Design Project Phase 2 (100 points)__  \n",
    "__Due Friday, March 19 (Submit on Canvas as a PDF)__  "
   ]
  },
  {
   "cell_type": "markdown",
   "metadata": {},
   "source": [
    "The design project for this course is the design of a high-gain CMOS OTA with a single-ended output. The goals of the project are:\n",
    "\n",
    " - To understand and analyze the frequency response of 2-stage OTAs (Miller effect, gain-bandwidth, stability, RHP zeros)\n",
    " - To understand and apply gain-boosting to realize high-gain CMOS amplifiers\n",
    " - To understand the biasing of high-gain amplifiers with limited supply voltage (e.g. using low-voltage cascode biasing)\n",
    " - To understand the gm/ID design methodology, and apply it using realistic device models\n",
    " - To perform design verification in Cadence, including DC operating point(s), transient, and AC analyses \n",
    "\n",
    "The project will comprise two phases, each lasting several weeks. You will use the $2.5V$ $NMOS$ (*nch_25*) and $PMOS$ (*pch_25*) models from TSMC's 65nm CMOS process.\n"
   ]
  },
  {
   "cell_type": "markdown",
   "metadata": {},
   "source": [
    "__Table 1. Phase 2 Specifications__"
   ]
  },
  {
   "cell_type": "markdown",
   "metadata": {},
   "source": [
    "| Parameter       | Min | Nominal | Max | Unit |\n",
    "|:---------:      |:---:|:-------------:|:---:|:----:|\n",
    "| Supply voltage ($V_{DD}$) || $3$   || $V$ |\n",
    "|DC gain ($A_{v0}$) |$110$||      | $dB$ |\n",
    "| Load capacitance ($C_{L}$) || $10$ || $pF$ |\n",
    "| Unity-gain bandwdith ($f_{u}$) | $10$ ||| $MHz$ |\n",
    "| Phase margin  | $50$ ||| $^\\circ$ |\n",
    "| Input common-mode range ($V_{iCM}$)  | $300$ ||| $mV$ |\n",
    "| Output swing ($V_{out}$) | $2$ ||| $V$ | \n",
    "| Power dissipation ($I_{DD} \\times V_{DD}$) || *Optimize* || $m W$ |"
   ]
  },
  {
   "cell_type": "markdown",
   "metadata": {},
   "source": [
    "__Recommendedations__"
   ]
  },
  {
   "cell_type": "markdown",
   "metadata": {},
   "source": [
    " - The increased gain requirement shouldn't significantly alter the design of your first stage\n",
    " - You should use your existing bias circuitry from Phase 1 to bias any new structures required for Phase 2\n",
    " - You are welcome to use any architecture that allows you to meet the specifications. Possibilities include a 2-stage design or a gain-boosted cascode amplifier. Justify your choice(s) in your report.\n",
    " - Power dissipation will be graded on a competitve scale, so be frugal where appropriate!"
   ]
  },
  {
   "cell_type": "markdown",
   "metadata": {},
   "source": [
    "__Resistors and Capacitors__"
   ]
  },
  {
   "cell_type": "markdown",
   "metadata": {},
   "source": [
    " - For any required resistors, use models from the TSMC library\n",
    " - *rppolywo* preferred for high values of resistance (i.e. greater than a few hundred $\\Omega$'s)\n",
    " -  Use *mimcap* for any required compensation capacitance"
   ]
  },
  {
   "cell_type": "markdown",
   "metadata": {},
   "source": [
    "__Note on biasing:__ You should use only a single ideal current source (value determined by you) to bias your design. All bias currents and voltages should be derived from this via current mirrors."
   ]
  },
  {
   "cell_type": "markdown",
   "metadata": {},
   "source": [
    "__Phase 2 deliverables__"
   ]
  },
  {
   "cell_type": "markdown",
   "metadata": {},
   "source": [
    " 1.\tProject report clearly describing your analysis and design. Describe design decisions, tradeoffs, how you optimized for bandwidth, gain, etc. The report should be typed (no handwritten component).\n",
    " 2. Table listing the specifications and your simulated results\n",
    " 3.\tComplete amplifier showing DC operating points for all transistors and DC node voltages\n",
    " 4.\tTable of all device operating points ($g_m$, $W/L$, $V_{DS}$, $V_{OV}$, $I_D$, and $g_m/I_D$)\n",
    " 5.\tBode plot clearly showing magnitude and phase vs frequency. Indicate the unity-gain frequency ($f_u$), pole locations, and phase margin.\n",
    " 6.\tPlot of the low-frequency gain versus $V_{iCM}$ to verify the gain spec is satisfied over the entire range. \n",
    " 7.\tAny other plots you find useful in demonstrating that your amplifier meets all specifications\t"
   ]
  },
  {
   "cell_type": "markdown",
   "metadata": {},
   "source": [
    "__Notes on the final submission__\n",
    "\n",
    " - Sections should be clearly labeled and should be logical and easy to follow.\n",
    " -  All plots should be labeled and clearly legible using appropriate colors and scale. Cadence screen captures are acceptable as long as they meet these requirements.\n",
    " -  Organize your schematics neatly so that the circuit architecture and all relevant information is clear to the reader.\n",
    " \n",
    "__Grading metrics__\n",
    "\n",
    " - Organization/clarity (20%)\n",
    " - Completeness (all deliverables included) (60%)\n",
    " - Specifications met (10%)\n",
    " - Power dissipation (competitively graded) (10%)"
   ]
  },
  {
   "cell_type": "markdown",
   "metadata": {},
   "source": [
    "*At a minimum, your analysis should include an estimate for the DC (low-frequency) gain and 3dB frequency of the amplifier. Use these to approximate the gain-bandwidth product.* "
   ]
  }
 ],
 "metadata": {
  "kernelspec": {
   "display_name": "Python 3",
   "language": "python",
   "name": "python3"
  },
  "language_info": {
   "codemirror_mode": {
    "name": "ipython",
    "version": 3
   },
   "file_extension": ".py",
   "mimetype": "text/x-python",
   "name": "python",
   "nbconvert_exporter": "python",
   "pygments_lexer": "ipython3",
   "version": "3.8.2"
  }
 },
 "nbformat": 4,
 "nbformat_minor": 4
}
