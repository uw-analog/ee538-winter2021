{
 "cells": [
  {
   "cell_type": "markdown",
   "metadata": {},
   "source": [
    "<center><b>EE 538 Winter 2021<br />\n",
    "Analog Integrated Circuit Design<br />\n",
    "    University of Washington Electrical & Computer Engineering</b></center>"
   ]
  },
  {
   "cell_type": "markdown",
   "metadata": {},
   "source": [
    "__Instructor: Jason Silver__   \n",
    "__Design Project Phase 1 (100 points)__  \n",
    "__Due Sunday, March 7 (Submit on Canvas as a PDF)__  "
   ]
  },
  {
   "cell_type": "markdown",
   "metadata": {},
   "source": [
    "The design project for this course is the design of a high-gain 2-stage OTA with a single-ended output. The goals of the project are:\n",
    "\n",
    " - To understand and analyze the frequency response of 2-stage OTAs (Miller effect, gain-bandwidth, stability, RHP zeros)\n",
    " - To understand the biasing of high-gain amplifiers with limited supply voltage (e.g. using low-voltage cascode biasing)\n",
    " - To understand the gm/ID design methodology, and apply it using realistic device models\n",
    " - To perform design verification in Cadence, including DC operating point(s), transient, and AC analyses \n",
    "\n",
    "The project will comprise two phases, each lasting several weeks. You will use the $2.5V$ $NMOS$ (*nch_25*) and $PMOS$ (*pch_25*) models from TSMC's 65nm CMOS process.\n"
   ]
  },
  {
   "cell_type": "markdown",
   "metadata": {},
   "source": [
    "__Phase 1: Cascode OTA Design__"
   ]
  },
  {
   "cell_type": "markdown",
   "metadata": {},
   "source": [
    "<center><img src=\"telescopic_cascode_OTA.png\" width=400></center></center>\n",
    "<br/>\n",
    "<center><b> Figure 1. Telescopic cascode OTA</center>"
   ]
  },
  {
   "cell_type": "markdown",
   "metadata": {},
   "source": [
    "__Table 1. OTA Specifications__"
   ]
  },
  {
   "cell_type": "markdown",
   "metadata": {},
   "source": [
    "| Parameter       | Specification | Unit |\n",
    "|:---------:      |:-------------:|:----:|\n",
    "| Supply voltage ($V_{DD}$) | $3$   | $V$ |\n",
    "|DC gain ($A_{v0}$) | $\\geq 80$     | $dB$ |\n",
    "| Load capacitance ($C_{L}$) | $10$ | $pF$ |\n",
    "| Unity-gain bandwdith ($f_{u}$) | $\\geq 10$ | $MHz$ |\n",
    "| Phase margin  | $\\geq 60$ | $^\\circ$ |\n",
    "| Input common-mode range ($V_{iCM}$)  | $\\geq 300$ | $mV$ |\n",
    "| Power dissipation ($I_{DD} \\times V_{DD}$) | $300$ | $\\mu W$ |"
   ]
  },
  {
   "cell_type": "markdown",
   "metadata": {},
   "source": [
    "__Recommended design approach__"
   ]
  },
  {
   "cell_type": "markdown",
   "metadata": {},
   "source": [
    " - Characterize $NMOS$ (*nch_25*) and $PMOS$ (*pch_25*) devices using the provided $g_m/I_D$ characterization guidelines.\n",
    " - Choose $L$ values based on devices roles (i.e. larger $L$ for current sources, smaller $L$ for $g_m$ and cascode devices). Before even opening Cadence, size all amplifier devices ($M_1-M_9$) using the $g_m/I_D$ approach. \n",
    " - After determining device sizes, design the bias circuitry. To meet the swing specification, you will need to use a low-voltage cascode biasing scheme. This should also be done before opening Cadence. \n",
    " - You are welcome to modify the design architecture as you see fit. One possible modfication is the use of a folded (rather than telescopic) cascode OTA. You should justify any choices you make in your report."
   ]
  },
  {
   "cell_type": "markdown",
   "metadata": {},
   "source": [
    "__Note on biasing:__ You should use only a single ideal current source (value determined by you) to bias your design. All bias currents and voltages should be derived from this via current mirrors."
   ]
  },
  {
   "cell_type": "markdown",
   "metadata": {},
   "source": [
    "__Phase 1 deliverables__"
   ]
  },
  {
   "cell_type": "markdown",
   "metadata": {},
   "source": [
    " 1.\tProject report clearly describing your analysis and design. Describe design decisions, tradeoffs, how you optimized for bandwidth, gain, etc. The report should be typed (no handwritten component).\n",
    " 2. Table listing the specifications and your simulated results\n",
    " 3.\tComplete amplifier showing DC operating points for all transistors and DC node voltages\n",
    " 4.\tTable of all device operating points ($g_m$, $W/L$, $V_{DS}$, $V_{OV}$, $I_D$, and $g_m/I_D$)\n",
    " 5.\tBode plot clearly showing magnitude and phase vs frequency. Indicate the unity-gain frequency ($f_u$), pole locations, and phase margin.\n",
    " 6.\tPlot of the low-frequency gain versus $V_{iCM}$ to verify the gain spec is satisfied over the entire range. \n",
    " 7.\tAny other plots you find useful in demonstrating that your amplifier meets all specifications\t"
   ]
  },
  {
   "cell_type": "markdown",
   "metadata": {},
   "source": [
    "*At a minimum, your analysis should include an estimate for the DC (low-frequency) gain and 3dB frequency of the amplifier. Use these to approximate the gain-bandwidth product.* "
   ]
  }
 ],
 "metadata": {
  "kernelspec": {
   "display_name": "Python 3",
   "language": "python",
   "name": "python3"
  },
  "language_info": {
   "codemirror_mode": {
    "name": "ipython",
    "version": 3
   },
   "file_extension": ".py",
   "mimetype": "text/x-python",
   "name": "python",
   "nbconvert_exporter": "python",
   "pygments_lexer": "ipython3",
   "version": "3.8.2"
  }
 },
 "nbformat": 4,
 "nbformat_minor": 4
}
